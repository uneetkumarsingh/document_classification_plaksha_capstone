{
 "cells": [
  {
   "cell_type": "code",
   "execution_count": 1,
   "id": "51380559",
   "metadata": {},
   "outputs": [],
   "source": [
    "import docx\n",
    "import re\n"
   ]
  },
  {
   "cell_type": "code",
   "execution_count": 2,
   "id": "fd92420b",
   "metadata": {},
   "outputs": [],
   "source": [
    "def clean_text(text):\n",
    "    '''\n",
    "    for removing special characters, lowering the case and removing \n",
    "    punctuations\n",
    "    \n",
    "    params:\n",
    "        text: str - text string of the document to be cleaned \n",
    "    returns:\n",
    "        text_list : list of cleaned text that has length one. \n",
    "                    tfidf_vectoriser accepts only list of strings\n",
    "    '''\n",
    "    pattern = r'[^A-Za-z ]+'\n",
    "    clean_text = [re.sub(pattern,'', str(x.lower())) for x in text.split(\" \")]\n",
    "#     text_list = [\" \".join(clean_text)]\n",
    "    text_list = \" \".join(clean_text)\n",
    "    #if you are sending this to the model,\n",
    "    #send it as a list, ince Model takes list of text\n",
    "    return text_list"
   ]
  },
  {
   "cell_type": "code",
   "execution_count": 3,
   "id": "3ea7afbd",
   "metadata": {},
   "outputs": [],
   "source": [
    "#File_list.txt is .txt file of the path of .docx files\n",
    "with open(\"file_list.txt\") as f:\n",
    "    with open(\"new_gold_with_heading_with_no_table_text_clean_small_headings.csv\", \"a+\") as f2:\n",
    "        f2.write(\"doc_name,text,heading_text\\n\")\n",
    "        for file in f:\n",
    "            path = file.rstrip(\"\\n\").lstrip(\"./\")\n",
    "            doc_object = docx.Document(path)\n",
    "            text = \" \"\n",
    "            heading = \" \"\n",
    "            for para in doc_object.paragraphs:\n",
    "                if len(para.text.split(\" \")) < 5:\n",
    "                    heading+=\" \"+para.text\n",
    "                else:\n",
    "                    text+=\"\"+para.text\n",
    "#             for table in doc_object.tables:\n",
    "#                 for row in table.rows:\n",
    "#                     for cell in row.cells:\n",
    "#                         text+=\" \"+cell.text\n",
    "            clean_t = clean_text(text)\n",
    "            clean_heading = clean_text(heading)\n",
    "            f2.write(f'{path},{clean_t},{clean_heading}\\n')"
   ]
  }
 ],
 "metadata": {
  "kernelspec": {
   "display_name": "capstone",
   "language": "python",
   "name": "env"
  },
  "language_info": {
   "codemirror_mode": {
    "name": "ipython",
    "version": 3
   },
   "file_extension": ".py",
   "mimetype": "text/x-python",
   "name": "python",
   "nbconvert_exporter": "python",
   "pygments_lexer": "ipython3",
   "version": "3.8.10"
  }
 },
 "nbformat": 4,
 "nbformat_minor": 5
}
