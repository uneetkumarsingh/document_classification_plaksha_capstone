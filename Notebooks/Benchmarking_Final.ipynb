{
  "nbformat": 4,
  "nbformat_minor": 0,
  "metadata": {
    "colab": {
      "name": "Benchmarking_Final.ipynb",
      "provenance": [],
      "machine_shape": "hm",
      "collapsed_sections": [
        "DJMSCBMbC_S1",
        "1ani00BxEmbJ",
        "NcP8PXhNDyAC",
        "dyBwcj7qFb_y",
        "t_urmpR1FGmP",
        "4G7-IjHYrpLA",
        "YaQn9-37rvVa",
        "aIeZM_SDsSbL",
        "gLM9sbo9sYmr",
        "kKSXg1qoytGJ",
        "81pzhA8oy0s0",
        "9mgkVW3Uy7Iw",
        "UnVSqfkXzn7G",
        "0BwIxYqQ0DPh",
        "N9YAgUB0y30Z",
        "ZcDQZvpuv6E5",
        "UdbQpQwmJADG",
        "XXG582a41XkD"
      ]
    },
    "kernelspec": {
      "name": "python3",
      "display_name": "Python 3"
    },
    "language_info": {
      "name": "python"
    }
  },
  "cells": [
    {
      "cell_type": "code",
      "execution_count": null,
      "metadata": {
        "colab": {
          "base_uri": "https://localhost:8080/"
        },
        "id": "kqxzj1osC2Bv",
        "outputId": "c5b0db34-5b20-45e6-90c5-5fdbc10d6d32"
      },
      "outputs": [
        {
          "output_type": "stream",
          "name": "stdout",
          "text": [
            "Mounted at /content/drive\n"
          ]
        }
      ],
      "source": [
        "from google.colab import drive\n",
        "drive.mount('/content/drive')"
      ]
    },
    {
      "cell_type": "markdown",
      "source": [
        "# Loading Data and Libraries\n"
      ],
      "metadata": {
        "id": "DJMSCBMbC_S1"
      }
    },
    {
      "cell_type": "code",
      "source": [
        "%%time\n",
        "from sklearn.pipeline import Pipeline\n",
        "from sklearn.model_selection import GridSearchCV\n",
        "from sklearn.feature_extraction.text import TfidfVectorizer\n",
        "from sklearn.ensemble import RandomForestClassifier\n",
        "from sklearn.svm import LinearSVC\n",
        "from sklearn.linear_model import SGDClassifier\n",
        "from sklearn.metrics import classification_report as cr\n",
        "from sklearn.metrics import confusion_matrix as cm\n",
        "from scipy.sparse import hstack\n",
        "import seaborn as sns\n",
        "from sklearn.model_selection import cross_val_score\n",
        "from sklearn.model_selection import train_test_split\n",
        "import pandas as pd\n",
        "import matplotlib.pyplot as plt\n",
        "import numpy as np\n",
        "from time import time\n",
        "from sklearn.model_selection import cross_validate \n",
        "from sklearn.metrics import ConfusionMatrixDisplay as cmd\n",
        "from sklearn.model_selection import cross_validate\n",
        "from tqdm import tqdm"
      ],
      "metadata": {
        "colab": {
          "base_uri": "https://localhost:8080/"
        },
        "id": "w-_awC0YDV8n",
        "outputId": "50b266d8-5435-4b47-9b95-b9463fb61480"
      },
      "execution_count": null,
      "outputs": [
        {
          "output_type": "stream",
          "name": "stdout",
          "text": [
            "CPU times: user 75 µs, sys: 0 ns, total: 75 µs\n",
            "Wall time: 79.9 µs\n"
          ]
        }
      ]
    },
    {
      "cell_type": "code",
      "source": [
        "mvp_cat = ['Abstract', 'Response to reviewer comments',\n",
        "       'Research paper_Journal article']\n",
        "\n",
        "np.random.seed(42)\n",
        "df = pd.read_csv(\"/content/drive/MyDrive/PlakshaNLP/capstone/data_json_space_corrected_with_tables_try.csv\")\n",
        "df.loc[df.heading_text.isnull(), \"heading_text\"] = \" \"\n",
        "df = df.loc[(df[\"text\"].notnull())]\n",
        "df[\"raw_category\"]  = df.doc_category.copy()\n",
        "df.loc[~df.doc_category.isin(mvp_cat), \"doc_category\"] = \"Other\"\n",
        "df[\"rtrc\"] = df.doc_category.copy()\n",
        "df.loc[~(df.doc_category == \"Response to reviewer comments\"), \"rtrc\"] = \"non-rtrc\"\n",
        "df.loc[(df.doc_category == \"Response to reviewer comments\"), \"rtrc\"] = \"rtrc\"\n",
        "df[\"abstract\"] = df.doc_category.copy()\n",
        "df.loc[~(df.doc_category == \"Abstract\"), \"abstract\"] = \"non-abstract\"\n",
        "df.loc[(df.doc_category == \"Abstract\"), \"abstract\"] = \"abstract\"\n",
        "df[\"rp\"] = df.doc_category.copy()\n",
        "df.loc[~(df.doc_category == \"Research paper_Journal article\"), \"rp\"] = \"non-rp\"\n",
        "df.loc[(df.doc_category == \"Research paper_Journal article\"), \"rp\"] = \"rp\"\n",
        "df[\"word_count2\"] = df.text.str.split(\" \").apply(len)\n",
        "df = df.loc[(df[\"word_count2\"] > 15)].reset_index()\n",
        "\n",
        "# df_raw = df.loc[~df.index.isin(df.loc[df.doc_category == \"Other\"].sample(frac=0.87, random_state  =42).index)].reset_index(drop = True)\n",
        "# df = df.loc[~df.index.isin(df.loc[df.doc_category == \"Other\"].sample(frac=0.87, random_state  =42).index)].reset_index(drop = True)\n",
        "\n",
        "df_allcat_train_cv, df_allcat_test = train_test_split(df, test_size = 0.1, random_state =42)\n",
        "df_allcat_train, df_allcat_val = train_test_split(df_allcat_train_cv, test_size = 0.1111, random_state =42)\n",
        "df_allcat_train = df_allcat_train.reset_index(drop = True)\n",
        "df_allcat_train_cv = df_allcat_train_cv.reset_index(drop = True)\n",
        "df_allcat_val = df_allcat_val.reset_index(drop = True)\n",
        "df_allcat_test = df_allcat_test.reset_index(drop = True)\n",
        "\n",
        "full_gold = pd.read_csv(\"/content/drive/MyDrive/PlakshaNLP/capstone/gold_json_final_with_tables.csv\")\n",
        "full_gold.loc[full_gold.heading_text.isnull(), \"heading_text\"] = \" \"\n",
        "full_gold[\"raw_category\"]  = full_gold.doc_category.copy()\n",
        "full_gold.loc[~full_gold.doc_category.isin(mvp_cat), \"doc_category\"] = \"Other\"\n",
        "full_gold = full_gold.loc[(full_gold[\"text\"].notnull())]\n",
        "full_gold[\"word_count2\"] = full_gold.text.str.split(\" \").apply(len)\n",
        "full_gold.doc_category.unique()"
      ],
      "metadata": {
        "colab": {
          "base_uri": "https://localhost:8080/"
        },
        "id": "w0OKgXioDHdS",
        "outputId": "fe2b5456-33f2-4b6b-8e5c-f7f0ec62882e"
      },
      "execution_count": null,
      "outputs": [
        {
          "output_type": "execute_result",
          "data": {
            "text/plain": [
              "array(['Other', 'Abstract', 'Response to reviewer comments',\n",
              "       'Research paper_Journal article'], dtype=object)"
            ]
          },
          "metadata": {},
          "execution_count": 51
        }
      ]
    },
    {
      "cell_type": "code",
      "source": [
        "full_gold[\"rtrc\"] = full_gold.doc_category\n",
        "full_gold.loc[(full_gold.doc_category == \"Response to reviewer comments\"), \"rtrc\"] = \"rtrc\"\n",
        "full_gold.loc[~(full_gold.doc_category == \"Response to reviewer comments\"), \"rtrc\"] = \"non-rtrc\"\n",
        "full_gold[\"abstract\"] = full_gold.doc_category.copy()\n",
        "full_gold.loc[(full_gold.doc_category == \"Abstract\"), \"abstract\"] = \"abstract\"\n",
        "full_gold.loc[~(full_gold.doc_category == \"Abstract\"), \"abstract\"] = \"non-abstract\"\n",
        "full_gold[\"rp\"] = full_gold.doc_category.copy()\n",
        "full_gold.loc[(full_gold.doc_category == \"Research paper_Journal article\"), \"rp\"] = \"rp\"\n",
        "full_gold.loc[~(full_gold.doc_category == \"Research paper_Journal article\"), \"rp\"] = \"non-rp\"\n",
        "full_gold[\"domain\"] = full_gold[\"raw_category\"]\n",
        "full_gold[\"doc_name\"] = full_gold[\"name\"].copy()"
      ],
      "metadata": {
        "id": "MkQhzx2_Dsbf"
      },
      "execution_count": null,
      "outputs": []
    },
    {
      "cell_type": "code",
      "source": [
        "df_rtrc_train = df.loc[~df.index.isin(df.loc[df.rtrc == \"non-rtrc\"].sample(frac=0.75, random_state  =42).index)].reset_index(drop = True)\n",
        "df_abstract_train = df.loc[~df.index.isin(df.loc[df.abstract == \"non-abstract\"].sample(frac=0.75, random_state  =42).index)].reset_index(drop = True)\n",
        "df_rp_train = df.loc[~df.index.isin(df.loc[df.rp == \"non-rp\"].sample(frac=0.75, random_state  =42).index)].reset_index(drop = True)"
      ],
      "metadata": {
        "id": "8G_C2qwqDNPB"
      },
      "execution_count": null,
      "outputs": []
    },
    {
      "cell_type": "code",
      "source": [
        "new_gold = pd.read_csv(\"/content/drive/MyDrive/PlakshaNLP/capstone/new_gold_with_heading_with_no_table_text.csv\")\n",
        "print(new_gold.shape)\n",
        "new_gold.loc[new_gold.text.isnull(), \"text\"] = \" \"\n",
        "new_gold.loc[new_gold.sam_doc_category == \"Others\", \"sam_doc_category\"] = \"Other\"\n",
        "new_gold[\"uneet_rp\"] = new_gold.sam_doc_category.copy()\n",
        "new_gold.loc[~(new_gold.uneet_doc_category == \"Research paper_Journal article\"), \"uneet_rp\"] = \"non-rp\"\n",
        "new_gold.loc[(new_gold.uneet_doc_category == \"Research paper_Journal article\"), \"uneet_rp\"] = \"rp\"\n",
        "new_gold[\"sam_rp\"] = new_gold.sam_doc_category.copy()\n",
        "new_gold.loc[~(new_gold.sam_doc_category == \"Research paper_Journal article\"), \"sam_rp\"] = \"non-rp\"\n",
        "new_gold.loc[(new_gold.sam_doc_category == \"Research paper_Journal article\"), \"sam_rp\"] = \"rp\"\n",
        "new_gold[\"uneet_rtrc\"] = new_gold.uneet_doc_category\n",
        "new_gold.loc[(new_gold.uneet_doc_category == \"Response to reviewer comments\"), \"uneet_rtrc\"] = \"rtrc\"\n",
        "new_gold.loc[~(new_gold.uneet_doc_category == \"Response to reviewer comments\"), \"uneet_rtrc\"] = \"non-rtrc\"\n",
        "new_gold[\"sam_rtrc\"] = new_gold.sam_doc_category\n",
        "new_gold.loc[(new_gold.sam_doc_category == \"Response to reviewer comments\"), \"sam_rtrc\"] = \"rtrc\"\n",
        "new_gold.loc[~(new_gold.sam_doc_category == \"Response to reviewer comments\"), \"sam_rtrc\"] = \"non-rtrc\"\n",
        "new_gold[\"uneet_abstract\"] = new_gold.sam_doc_category.copy()\n",
        "new_gold.loc[(new_gold.uneet_doc_category == \"Abstract\"), \"uneet_abstract\"] = \"abstract\"\n",
        "new_gold.loc[~(new_gold.uneet_doc_category == \"Abstract\"), \"uneet_abstract\"] = \"non-abstract\"\n",
        "new_gold[\"sam_abstract\"] = new_gold.sam_doc_category.copy()\n",
        "new_gold.loc[(new_gold.sam_doc_category == \"Abstract\"), \"sam_abstract\"] = \"abstract\"\n",
        "new_gold.loc[~(new_gold.sam_doc_category == \"Abstract\"), \"sam_abstract\"] = \"non-abstract\"\n",
        "new_gold_agree = new_gold.loc[new_gold.uneet_doc_category == new_gold.sam_doc_category].reset_index(drop = True)"
      ],
      "metadata": {
        "id": "4n9KwPwfDwCg",
        "colab": {
          "base_uri": "https://localhost:8080/"
        },
        "outputId": "3c1d232b-0222-460c-d677-8862ea7e9695"
      },
      "execution_count": null,
      "outputs": [
        {
          "output_type": "stream",
          "name": "stdout",
          "text": [
            "(99, 6)\n"
          ]
        }
      ]
    },
    {
      "cell_type": "markdown",
      "source": [
        "# Load 0 and 1"
      ],
      "metadata": {
        "id": "3IdbsRmjCN9C"
      }
    },
    {
      "cell_type": "code",
      "source": [
        "results = {}\n",
        "results_gold  ={}"
      ],
      "metadata": {
        "id": "tv-NYfMWFfik"
      },
      "execution_count": null,
      "outputs": []
    },
    {
      "cell_type": "code",
      "source": [
        "mvp_cat = ['Abstract', 'Response to reviewer comments',\n",
        "       'Research paper_Journal article']\n",
        "\n",
        "np.random.seed(42)\n",
        "df = pd.read_csv(\"/content/drive/MyDrive/PlakshaNLP/capstone/data_json_space_corrected_with_tables.csv\")\n",
        "df.loc[df.heading_text.isnull(), \"heading_text\"] = \" \"\n",
        "df = df.loc[(df[\"text\"].notnull())]\n",
        "df[\"raw_category\"]  = df.doc_category.copy()\n",
        "df.loc[~df.doc_category.isin(mvp_cat), \"doc_category\"] = \"Other\"\n",
        "df[\"rtrc\"] = df.doc_category.copy()\n",
        "df.loc[~(df.doc_category == \"Response to reviewer comments\"), \"rtrc\"] = 0\n",
        "df.loc[(df.doc_category == \"Response to reviewer comments\"), \"rtrc\"] = 1\n",
        "df[\"abstract\"] = df.doc_category.copy()\n",
        "df.loc[~(df.doc_category == \"Abstract\"), \"abstract\"] = 0\n",
        "df.loc[(df.doc_category == \"Abstract\"), \"abstract\"] = 1\n",
        "df[\"rp\"] = df.doc_category.copy()\n",
        "df.loc[~(df.doc_category == \"Research paper_Journal article\"), \"rp\"] = 0\n",
        "df.loc[(df.doc_category == \"Research paper_Journal article\"), \"rp\"] = 1\n",
        "df[\"word_count2\"] = df.text.str.split(\" \").apply(len)\n",
        "df = df.loc[(df[\"word_count2\"] > 15)].reset_index()\n",
        "\n",
        "# df_raw = df.loc[~df.index.isin(df.loc[df.doc_category == \"Other\"].sample(frac=0.87, random_state  =42).index)].reset_index(drop = True)\n",
        "# df = df.loc[~df.index.isin(df.loc[df.doc_category == \"Other\"].sample(frac=0.87, random_state  =42).index)].reset_index(drop = True)\n",
        "\n",
        "df_allcat_train_cv, df_allcat_test = train_test_split(df, test_size = 0.1, random_state =42)\n",
        "df_allcat_train, df_allcat_val = train_test_split(df_allcat_train_cv, test_size = 0.1111, random_state =42)\n",
        "df_allcat_train = df_allcat_train.reset_index(drop = True)\n",
        "df_allcat_train_cv = df_allcat_train_cv.reset_index(drop = True)\n",
        "df_allcat_val = df_allcat_val.reset_index(drop = True)\n",
        "df_allcat_test = df_allcat_test.reset_index(drop = True)\n",
        "\n",
        "full_gold = pd.read_csv(\"/content/drive/MyDrive/PlakshaNLP/capstone/gold_json_final_with_tables.csv\")\n",
        "full_gold.loc[full_gold.heading_text.isnull(), \"heading_text\"] = \" \"\n",
        "full_gold[\"raw_category\"]  = full_gold.doc_category.copy()\n",
        "full_gold.loc[~full_gold.doc_category.isin(mvp_cat), \"doc_category\"] = \"Other\"\n",
        "full_gold = full_gold.loc[(full_gold[\"text\"].notnull())]\n",
        "full_gold[\"word_count2\"] = full_gold.text.str.split(\" \").apply(len)\n",
        "full_gold.doc_category.unique()\n",
        "\n",
        "full_gold[\"rtrc\"] = full_gold.doc_category\n",
        "full_gold.loc[(full_gold.doc_category == \"Response to reviewer comments\"), \"rtrc\"] = 1\n",
        "full_gold.loc[~(full_gold.doc_category == \"Response to reviewer comments\"), \"rtrc\"] = 0\n",
        "full_gold[\"abstract\"] = full_gold.doc_category.copy()\n",
        "full_gold.loc[(full_gold.doc_category == \"Abstract\"), \"abstract\"] = 1\n",
        "full_gold.loc[~(full_gold.doc_category == \"Abstract\"), \"abstract\"] = 0\n",
        "full_gold[\"rp\"] = full_gold.doc_category.copy()\n",
        "full_gold.loc[(full_gold.doc_category == \"Research paper_Journal article\"), \"rp\"] = 1\n",
        "full_gold.loc[~(full_gold.doc_category == \"Research paper_Journal article\"), \"rp\"] = 0\n",
        "full_gold[\"domain\"] = full_gold[\"raw_category\"]\n",
        "full_gold[\"doc_name\"] = full_gold[\"name\"].copy()"
      ],
      "metadata": {
        "id": "6DaZvFVcqzXC"
      },
      "execution_count": null,
      "outputs": []
    },
    {
      "cell_type": "markdown",
      "source": [
        "# Document Distribution of full and Train Test Split"
      ],
      "metadata": {
        "id": "1ani00BxEmbJ"
      }
    },
    {
      "cell_type": "code",
      "source": [
        "df_allcat_train_cv.groupby(\"doc_category\").count()"
      ],
      "metadata": {
        "colab": {
          "base_uri": "https://localhost:8080/",
          "height": 340
        },
        "id": "x1oqK16ErGpr",
        "outputId": "a59fa279-3963-4169-a26d-e500f284fffe"
      },
      "execution_count": null,
      "outputs": [
        {
          "output_type": "execute_result",
          "data": {
            "text/plain": [
              "                                index  doc_name  domain   status  word_count  \\\n",
              "doc_category                                                                   \n",
              "Abstract                          600       600     600      600         600   \n",
              "Other                             661       661     661      661         661   \n",
              "Research paper_Journal article    667       667     667      667         667   \n",
              "Response to reviewer comments     497       497     497      497         497   \n",
              "\n",
              "                                n_tables  n_paragraphs  n_images  n_headings  \\\n",
              "doc_category                                                                   \n",
              "Abstract                             600           600       600         600   \n",
              "Other                                661           661       661         661   \n",
              "Research paper_Journal article       667           667       667         667   \n",
              "Response to reviewer comments        497           497       497         497   \n",
              "\n",
              "                                heading_text  text  raw_category  rtrc  \\\n",
              "doc_category                                                             \n",
              "Abstract                                 600   600           600   600   \n",
              "Other                                    661   661           661   661   \n",
              "Research paper_Journal article           667   667           667   667   \n",
              "Response to reviewer comments            497   497           497   497   \n",
              "\n",
              "                                abstract   rp  word_count2  \n",
              "doc_category                                                \n",
              "Abstract                             600  600          600  \n",
              "Other                                661  661          661  \n",
              "Research paper_Journal article       667  667          667  \n",
              "Response to reviewer comments        497  497          497  "
            ],
            "text/html": [
              "\n",
              "  <div id=\"df-344a2a2f-4b40-46cb-886b-886cc54f2f17\">\n",
              "    <div class=\"colab-df-container\">\n",
              "      <div>\n",
              "<style scoped>\n",
              "    .dataframe tbody tr th:only-of-type {\n",
              "        vertical-align: middle;\n",
              "    }\n",
              "\n",
              "    .dataframe tbody tr th {\n",
              "        vertical-align: top;\n",
              "    }\n",
              "\n",
              "    .dataframe thead th {\n",
              "        text-align: right;\n",
              "    }\n",
              "</style>\n",
              "<table border=\"1\" class=\"dataframe\">\n",
              "  <thead>\n",
              "    <tr style=\"text-align: right;\">\n",
              "      <th></th>\n",
              "      <th>index</th>\n",
              "      <th>doc_name</th>\n",
              "      <th>domain</th>\n",
              "      <th>status</th>\n",
              "      <th>word_count</th>\n",
              "      <th>n_tables</th>\n",
              "      <th>n_paragraphs</th>\n",
              "      <th>n_images</th>\n",
              "      <th>n_headings</th>\n",
              "      <th>heading_text</th>\n",
              "      <th>text</th>\n",
              "      <th>raw_category</th>\n",
              "      <th>rtrc</th>\n",
              "      <th>abstract</th>\n",
              "      <th>rp</th>\n",
              "      <th>word_count2</th>\n",
              "    </tr>\n",
              "    <tr>\n",
              "      <th>doc_category</th>\n",
              "      <th></th>\n",
              "      <th></th>\n",
              "      <th></th>\n",
              "      <th></th>\n",
              "      <th></th>\n",
              "      <th></th>\n",
              "      <th></th>\n",
              "      <th></th>\n",
              "      <th></th>\n",
              "      <th></th>\n",
              "      <th></th>\n",
              "      <th></th>\n",
              "      <th></th>\n",
              "      <th></th>\n",
              "      <th></th>\n",
              "      <th></th>\n",
              "    </tr>\n",
              "  </thead>\n",
              "  <tbody>\n",
              "    <tr>\n",
              "      <th>Abstract</th>\n",
              "      <td>600</td>\n",
              "      <td>600</td>\n",
              "      <td>600</td>\n",
              "      <td>600</td>\n",
              "      <td>600</td>\n",
              "      <td>600</td>\n",
              "      <td>600</td>\n",
              "      <td>600</td>\n",
              "      <td>600</td>\n",
              "      <td>600</td>\n",
              "      <td>600</td>\n",
              "      <td>600</td>\n",
              "      <td>600</td>\n",
              "      <td>600</td>\n",
              "      <td>600</td>\n",
              "      <td>600</td>\n",
              "    </tr>\n",
              "    <tr>\n",
              "      <th>Other</th>\n",
              "      <td>661</td>\n",
              "      <td>661</td>\n",
              "      <td>661</td>\n",
              "      <td>661</td>\n",
              "      <td>661</td>\n",
              "      <td>661</td>\n",
              "      <td>661</td>\n",
              "      <td>661</td>\n",
              "      <td>661</td>\n",
              "      <td>661</td>\n",
              "      <td>661</td>\n",
              "      <td>661</td>\n",
              "      <td>661</td>\n",
              "      <td>661</td>\n",
              "      <td>661</td>\n",
              "      <td>661</td>\n",
              "    </tr>\n",
              "    <tr>\n",
              "      <th>Research paper_Journal article</th>\n",
              "      <td>667</td>\n",
              "      <td>667</td>\n",
              "      <td>667</td>\n",
              "      <td>667</td>\n",
              "      <td>667</td>\n",
              "      <td>667</td>\n",
              "      <td>667</td>\n",
              "      <td>667</td>\n",
              "      <td>667</td>\n",
              "      <td>667</td>\n",
              "      <td>667</td>\n",
              "      <td>667</td>\n",
              "      <td>667</td>\n",
              "      <td>667</td>\n",
              "      <td>667</td>\n",
              "      <td>667</td>\n",
              "    </tr>\n",
              "    <tr>\n",
              "      <th>Response to reviewer comments</th>\n",
              "      <td>497</td>\n",
              "      <td>497</td>\n",
              "      <td>497</td>\n",
              "      <td>497</td>\n",
              "      <td>497</td>\n",
              "      <td>497</td>\n",
              "      <td>497</td>\n",
              "      <td>497</td>\n",
              "      <td>497</td>\n",
              "      <td>497</td>\n",
              "      <td>497</td>\n",
              "      <td>497</td>\n",
              "      <td>497</td>\n",
              "      <td>497</td>\n",
              "      <td>497</td>\n",
              "      <td>497</td>\n",
              "    </tr>\n",
              "  </tbody>\n",
              "</table>\n",
              "</div>\n",
              "      <button class=\"colab-df-convert\" onclick=\"convertToInteractive('df-344a2a2f-4b40-46cb-886b-886cc54f2f17')\"\n",
              "              title=\"Convert this dataframe to an interactive table.\"\n",
              "              style=\"display:none;\">\n",
              "        \n",
              "  <svg xmlns=\"http://www.w3.org/2000/svg\" height=\"24px\"viewBox=\"0 0 24 24\"\n",
              "       width=\"24px\">\n",
              "    <path d=\"M0 0h24v24H0V0z\" fill=\"none\"/>\n",
              "    <path d=\"M18.56 5.44l.94 2.06.94-2.06 2.06-.94-2.06-.94-.94-2.06-.94 2.06-2.06.94zm-11 1L8.5 8.5l.94-2.06 2.06-.94-2.06-.94L8.5 2.5l-.94 2.06-2.06.94zm10 10l.94 2.06.94-2.06 2.06-.94-2.06-.94-.94-2.06-.94 2.06-2.06.94z\"/><path d=\"M17.41 7.96l-1.37-1.37c-.4-.4-.92-.59-1.43-.59-.52 0-1.04.2-1.43.59L10.3 9.45l-7.72 7.72c-.78.78-.78 2.05 0 2.83L4 21.41c.39.39.9.59 1.41.59.51 0 1.02-.2 1.41-.59l7.78-7.78 2.81-2.81c.8-.78.8-2.07 0-2.86zM5.41 20L4 18.59l7.72-7.72 1.47 1.35L5.41 20z\"/>\n",
              "  </svg>\n",
              "      </button>\n",
              "      \n",
              "  <style>\n",
              "    .colab-df-container {\n",
              "      display:flex;\n",
              "      flex-wrap:wrap;\n",
              "      gap: 12px;\n",
              "    }\n",
              "\n",
              "    .colab-df-convert {\n",
              "      background-color: #E8F0FE;\n",
              "      border: none;\n",
              "      border-radius: 50%;\n",
              "      cursor: pointer;\n",
              "      display: none;\n",
              "      fill: #1967D2;\n",
              "      height: 32px;\n",
              "      padding: 0 0 0 0;\n",
              "      width: 32px;\n",
              "    }\n",
              "\n",
              "    .colab-df-convert:hover {\n",
              "      background-color: #E2EBFA;\n",
              "      box-shadow: 0px 1px 2px rgba(60, 64, 67, 0.3), 0px 1px 3px 1px rgba(60, 64, 67, 0.15);\n",
              "      fill: #174EA6;\n",
              "    }\n",
              "\n",
              "    [theme=dark] .colab-df-convert {\n",
              "      background-color: #3B4455;\n",
              "      fill: #D2E3FC;\n",
              "    }\n",
              "\n",
              "    [theme=dark] .colab-df-convert:hover {\n",
              "      background-color: #434B5C;\n",
              "      box-shadow: 0px 1px 3px 1px rgba(0, 0, 0, 0.15);\n",
              "      filter: drop-shadow(0px 1px 2px rgba(0, 0, 0, 0.3));\n",
              "      fill: #FFFFFF;\n",
              "    }\n",
              "  </style>\n",
              "\n",
              "      <script>\n",
              "        const buttonEl =\n",
              "          document.querySelector('#df-344a2a2f-4b40-46cb-886b-886cc54f2f17 button.colab-df-convert');\n",
              "        buttonEl.style.display =\n",
              "          google.colab.kernel.accessAllowed ? 'block' : 'none';\n",
              "\n",
              "        async function convertToInteractive(key) {\n",
              "          const element = document.querySelector('#df-344a2a2f-4b40-46cb-886b-886cc54f2f17');\n",
              "          const dataTable =\n",
              "            await google.colab.kernel.invokeFunction('convertToInteractive',\n",
              "                                                     [key], {});\n",
              "          if (!dataTable) return;\n",
              "\n",
              "          const docLinkHtml = 'Like what you see? Visit the ' +\n",
              "            '<a target=\"_blank\" href=https://colab.research.google.com/notebooks/data_table.ipynb>data table notebook</a>'\n",
              "            + ' to learn more about interactive tables.';\n",
              "          element.innerHTML = '';\n",
              "          dataTable['output_type'] = 'display_data';\n",
              "          await google.colab.output.renderOutput(dataTable, element);\n",
              "          const docLink = document.createElement('div');\n",
              "          docLink.innerHTML = docLinkHtml;\n",
              "          element.appendChild(docLink);\n",
              "        }\n",
              "      </script>\n",
              "    </div>\n",
              "  </div>\n",
              "  "
            ]
          },
          "metadata": {},
          "execution_count": 167
        }
      ]
    },
    {
      "cell_type": "code",
      "source": [
        "df_allcat_test.groupby(\"doc_category\").count()"
      ],
      "metadata": {
        "colab": {
          "base_uri": "https://localhost:8080/",
          "height": 340
        },
        "id": "PWRQ6VSUrRrq",
        "outputId": "84adc769-291a-4b1b-ecec-47dee611cf55"
      },
      "execution_count": null,
      "outputs": [
        {
          "output_type": "execute_result",
          "data": {
            "text/plain": [
              "                                index  doc_name  domain   status  word_count  \\\n",
              "doc_category                                                                   \n",
              "Abstract                           69        69      69       69          69   \n",
              "Other                              76        76      76       76          76   \n",
              "Research paper_Journal article     73        73      73       73          73   \n",
              "Response to reviewer comments      52        52      52       52          52   \n",
              "\n",
              "                                n_tables  n_paragraphs  n_images  n_headings  \\\n",
              "doc_category                                                                   \n",
              "Abstract                              69            69        69          69   \n",
              "Other                                 76            76        76          76   \n",
              "Research paper_Journal article        73            73        73          73   \n",
              "Response to reviewer comments         52            52        52          52   \n",
              "\n",
              "                                heading_text  text  raw_category  rtrc  \\\n",
              "doc_category                                                             \n",
              "Abstract                                  69    69            69    69   \n",
              "Other                                     76    76            76    76   \n",
              "Research paper_Journal article            73    73            73    73   \n",
              "Response to reviewer comments             52    52            52    52   \n",
              "\n",
              "                                abstract  rp  word_count2  \n",
              "doc_category                                               \n",
              "Abstract                              69  69           69  \n",
              "Other                                 76  76           76  \n",
              "Research paper_Journal article        73  73           73  \n",
              "Response to reviewer comments         52  52           52  "
            ],
            "text/html": [
              "\n",
              "  <div id=\"df-cf4753ed-0b0f-4f95-a0e4-d2f14a0dd926\">\n",
              "    <div class=\"colab-df-container\">\n",
              "      <div>\n",
              "<style scoped>\n",
              "    .dataframe tbody tr th:only-of-type {\n",
              "        vertical-align: middle;\n",
              "    }\n",
              "\n",
              "    .dataframe tbody tr th {\n",
              "        vertical-align: top;\n",
              "    }\n",
              "\n",
              "    .dataframe thead th {\n",
              "        text-align: right;\n",
              "    }\n",
              "</style>\n",
              "<table border=\"1\" class=\"dataframe\">\n",
              "  <thead>\n",
              "    <tr style=\"text-align: right;\">\n",
              "      <th></th>\n",
              "      <th>index</th>\n",
              "      <th>doc_name</th>\n",
              "      <th>domain</th>\n",
              "      <th>status</th>\n",
              "      <th>word_count</th>\n",
              "      <th>n_tables</th>\n",
              "      <th>n_paragraphs</th>\n",
              "      <th>n_images</th>\n",
              "      <th>n_headings</th>\n",
              "      <th>heading_text</th>\n",
              "      <th>text</th>\n",
              "      <th>raw_category</th>\n",
              "      <th>rtrc</th>\n",
              "      <th>abstract</th>\n",
              "      <th>rp</th>\n",
              "      <th>word_count2</th>\n",
              "    </tr>\n",
              "    <tr>\n",
              "      <th>doc_category</th>\n",
              "      <th></th>\n",
              "      <th></th>\n",
              "      <th></th>\n",
              "      <th></th>\n",
              "      <th></th>\n",
              "      <th></th>\n",
              "      <th></th>\n",
              "      <th></th>\n",
              "      <th></th>\n",
              "      <th></th>\n",
              "      <th></th>\n",
              "      <th></th>\n",
              "      <th></th>\n",
              "      <th></th>\n",
              "      <th></th>\n",
              "      <th></th>\n",
              "    </tr>\n",
              "  </thead>\n",
              "  <tbody>\n",
              "    <tr>\n",
              "      <th>Abstract</th>\n",
              "      <td>69</td>\n",
              "      <td>69</td>\n",
              "      <td>69</td>\n",
              "      <td>69</td>\n",
              "      <td>69</td>\n",
              "      <td>69</td>\n",
              "      <td>69</td>\n",
              "      <td>69</td>\n",
              "      <td>69</td>\n",
              "      <td>69</td>\n",
              "      <td>69</td>\n",
              "      <td>69</td>\n",
              "      <td>69</td>\n",
              "      <td>69</td>\n",
              "      <td>69</td>\n",
              "      <td>69</td>\n",
              "    </tr>\n",
              "    <tr>\n",
              "      <th>Other</th>\n",
              "      <td>76</td>\n",
              "      <td>76</td>\n",
              "      <td>76</td>\n",
              "      <td>76</td>\n",
              "      <td>76</td>\n",
              "      <td>76</td>\n",
              "      <td>76</td>\n",
              "      <td>76</td>\n",
              "      <td>76</td>\n",
              "      <td>76</td>\n",
              "      <td>76</td>\n",
              "      <td>76</td>\n",
              "      <td>76</td>\n",
              "      <td>76</td>\n",
              "      <td>76</td>\n",
              "      <td>76</td>\n",
              "    </tr>\n",
              "    <tr>\n",
              "      <th>Research paper_Journal article</th>\n",
              "      <td>73</td>\n",
              "      <td>73</td>\n",
              "      <td>73</td>\n",
              "      <td>73</td>\n",
              "      <td>73</td>\n",
              "      <td>73</td>\n",
              "      <td>73</td>\n",
              "      <td>73</td>\n",
              "      <td>73</td>\n",
              "      <td>73</td>\n",
              "      <td>73</td>\n",
              "      <td>73</td>\n",
              "      <td>73</td>\n",
              "      <td>73</td>\n",
              "      <td>73</td>\n",
              "      <td>73</td>\n",
              "    </tr>\n",
              "    <tr>\n",
              "      <th>Response to reviewer comments</th>\n",
              "      <td>52</td>\n",
              "      <td>52</td>\n",
              "      <td>52</td>\n",
              "      <td>52</td>\n",
              "      <td>52</td>\n",
              "      <td>52</td>\n",
              "      <td>52</td>\n",
              "      <td>52</td>\n",
              "      <td>52</td>\n",
              "      <td>52</td>\n",
              "      <td>52</td>\n",
              "      <td>52</td>\n",
              "      <td>52</td>\n",
              "      <td>52</td>\n",
              "      <td>52</td>\n",
              "      <td>52</td>\n",
              "    </tr>\n",
              "  </tbody>\n",
              "</table>\n",
              "</div>\n",
              "      <button class=\"colab-df-convert\" onclick=\"convertToInteractive('df-cf4753ed-0b0f-4f95-a0e4-d2f14a0dd926')\"\n",
              "              title=\"Convert this dataframe to an interactive table.\"\n",
              "              style=\"display:none;\">\n",
              "        \n",
              "  <svg xmlns=\"http://www.w3.org/2000/svg\" height=\"24px\"viewBox=\"0 0 24 24\"\n",
              "       width=\"24px\">\n",
              "    <path d=\"M0 0h24v24H0V0z\" fill=\"none\"/>\n",
              "    <path d=\"M18.56 5.44l.94 2.06.94-2.06 2.06-.94-2.06-.94-.94-2.06-.94 2.06-2.06.94zm-11 1L8.5 8.5l.94-2.06 2.06-.94-2.06-.94L8.5 2.5l-.94 2.06-2.06.94zm10 10l.94 2.06.94-2.06 2.06-.94-2.06-.94-.94-2.06-.94 2.06-2.06.94z\"/><path d=\"M17.41 7.96l-1.37-1.37c-.4-.4-.92-.59-1.43-.59-.52 0-1.04.2-1.43.59L10.3 9.45l-7.72 7.72c-.78.78-.78 2.05 0 2.83L4 21.41c.39.39.9.59 1.41.59.51 0 1.02-.2 1.41-.59l7.78-7.78 2.81-2.81c.8-.78.8-2.07 0-2.86zM5.41 20L4 18.59l7.72-7.72 1.47 1.35L5.41 20z\"/>\n",
              "  </svg>\n",
              "      </button>\n",
              "      \n",
              "  <style>\n",
              "    .colab-df-container {\n",
              "      display:flex;\n",
              "      flex-wrap:wrap;\n",
              "      gap: 12px;\n",
              "    }\n",
              "\n",
              "    .colab-df-convert {\n",
              "      background-color: #E8F0FE;\n",
              "      border: none;\n",
              "      border-radius: 50%;\n",
              "      cursor: pointer;\n",
              "      display: none;\n",
              "      fill: #1967D2;\n",
              "      height: 32px;\n",
              "      padding: 0 0 0 0;\n",
              "      width: 32px;\n",
              "    }\n",
              "\n",
              "    .colab-df-convert:hover {\n",
              "      background-color: #E2EBFA;\n",
              "      box-shadow: 0px 1px 2px rgba(60, 64, 67, 0.3), 0px 1px 3px 1px rgba(60, 64, 67, 0.15);\n",
              "      fill: #174EA6;\n",
              "    }\n",
              "\n",
              "    [theme=dark] .colab-df-convert {\n",
              "      background-color: #3B4455;\n",
              "      fill: #D2E3FC;\n",
              "    }\n",
              "\n",
              "    [theme=dark] .colab-df-convert:hover {\n",
              "      background-color: #434B5C;\n",
              "      box-shadow: 0px 1px 3px 1px rgba(0, 0, 0, 0.15);\n",
              "      filter: drop-shadow(0px 1px 2px rgba(0, 0, 0, 0.3));\n",
              "      fill: #FFFFFF;\n",
              "    }\n",
              "  </style>\n",
              "\n",
              "      <script>\n",
              "        const buttonEl =\n",
              "          document.querySelector('#df-cf4753ed-0b0f-4f95-a0e4-d2f14a0dd926 button.colab-df-convert');\n",
              "        buttonEl.style.display =\n",
              "          google.colab.kernel.accessAllowed ? 'block' : 'none';\n",
              "\n",
              "        async function convertToInteractive(key) {\n",
              "          const element = document.querySelector('#df-cf4753ed-0b0f-4f95-a0e4-d2f14a0dd926');\n",
              "          const dataTable =\n",
              "            await google.colab.kernel.invokeFunction('convertToInteractive',\n",
              "                                                     [key], {});\n",
              "          if (!dataTable) return;\n",
              "\n",
              "          const docLinkHtml = 'Like what you see? Visit the ' +\n",
              "            '<a target=\"_blank\" href=https://colab.research.google.com/notebooks/data_table.ipynb>data table notebook</a>'\n",
              "            + ' to learn more about interactive tables.';\n",
              "          element.innerHTML = '';\n",
              "          dataTable['output_type'] = 'display_data';\n",
              "          await google.colab.output.renderOutput(dataTable, element);\n",
              "          const docLink = document.createElement('div');\n",
              "          docLink.innerHTML = docLinkHtml;\n",
              "          element.appendChild(docLink);\n",
              "        }\n",
              "      </script>\n",
              "    </div>\n",
              "  </div>\n",
              "  "
            ]
          },
          "metadata": {},
          "execution_count": 168
        }
      ]
    },
    {
      "cell_type": "code",
      "source": [
        "full_gold.groupby(\"doc_category\").count()"
      ],
      "metadata": {
        "colab": {
          "base_uri": "https://localhost:8080/"
        },
        "id": "qWUcgsyWm_qI",
        "outputId": "3fbb02af-0c71-4f1a-ee60-6f6b33ae1c83"
      },
      "execution_count": null,
      "outputs": [
        {
          "output_type": "execute_result",
          "data": {
            "text/plain": [
              "                                name  word_count  n_tables  n_paragraphs  \\\n",
              "doc_category                                                               \n",
              "Abstract                          18          18        18            18   \n",
              "Other                             29          29        29            29   \n",
              "Research paper_Journal article    18          18        18            18   \n",
              "Response to reviewer comments     20          20        20            20   \n",
              "\n",
              "                                n_images  n_headings  heading_text  text  \\\n",
              "doc_category                                                               \n",
              "Abstract                              18          18            18    18   \n",
              "Other                                 29          29            29    29   \n",
              "Research paper_Journal article        18          18            18    18   \n",
              "Response to reviewer comments         20          20            20    20   \n",
              "\n",
              "                                raw_category  word_count2  rtrc  abstract  rp  \\\n",
              "doc_category                                                                    \n",
              "Abstract                                  18           18    18        18  18   \n",
              "Other                                     29           29    29        29  29   \n",
              "Research paper_Journal article            18           18    18        18  18   \n",
              "Response to reviewer comments             20           20    20        20  20   \n",
              "\n",
              "                                domain  doc_name  \n",
              "doc_category                                      \n",
              "Abstract                            18        18  \n",
              "Other                               29        29  \n",
              "Research paper_Journal article      18        18  \n",
              "Response to reviewer comments       20        20  "
            ],
            "text/html": [
              "\n",
              "  <div id=\"df-1dba856e-ef4f-4997-baeb-33b72b387958\">\n",
              "    <div class=\"colab-df-container\">\n",
              "      <div>\n",
              "<style scoped>\n",
              "    .dataframe tbody tr th:only-of-type {\n",
              "        vertical-align: middle;\n",
              "    }\n",
              "\n",
              "    .dataframe tbody tr th {\n",
              "        vertical-align: top;\n",
              "    }\n",
              "\n",
              "    .dataframe thead th {\n",
              "        text-align: right;\n",
              "    }\n",
              "</style>\n",
              "<table border=\"1\" class=\"dataframe\">\n",
              "  <thead>\n",
              "    <tr style=\"text-align: right;\">\n",
              "      <th></th>\n",
              "      <th>name</th>\n",
              "      <th>word_count</th>\n",
              "      <th>n_tables</th>\n",
              "      <th>n_paragraphs</th>\n",
              "      <th>n_images</th>\n",
              "      <th>n_headings</th>\n",
              "      <th>heading_text</th>\n",
              "      <th>text</th>\n",
              "      <th>raw_category</th>\n",
              "      <th>word_count2</th>\n",
              "      <th>rtrc</th>\n",
              "      <th>abstract</th>\n",
              "      <th>rp</th>\n",
              "      <th>domain</th>\n",
              "      <th>doc_name</th>\n",
              "    </tr>\n",
              "    <tr>\n",
              "      <th>doc_category</th>\n",
              "      <th></th>\n",
              "      <th></th>\n",
              "      <th></th>\n",
              "      <th></th>\n",
              "      <th></th>\n",
              "      <th></th>\n",
              "      <th></th>\n",
              "      <th></th>\n",
              "      <th></th>\n",
              "      <th></th>\n",
              "      <th></th>\n",
              "      <th></th>\n",
              "      <th></th>\n",
              "      <th></th>\n",
              "      <th></th>\n",
              "    </tr>\n",
              "  </thead>\n",
              "  <tbody>\n",
              "    <tr>\n",
              "      <th>Abstract</th>\n",
              "      <td>18</td>\n",
              "      <td>18</td>\n",
              "      <td>18</td>\n",
              "      <td>18</td>\n",
              "      <td>18</td>\n",
              "      <td>18</td>\n",
              "      <td>18</td>\n",
              "      <td>18</td>\n",
              "      <td>18</td>\n",
              "      <td>18</td>\n",
              "      <td>18</td>\n",
              "      <td>18</td>\n",
              "      <td>18</td>\n",
              "      <td>18</td>\n",
              "      <td>18</td>\n",
              "    </tr>\n",
              "    <tr>\n",
              "      <th>Other</th>\n",
              "      <td>29</td>\n",
              "      <td>29</td>\n",
              "      <td>29</td>\n",
              "      <td>29</td>\n",
              "      <td>29</td>\n",
              "      <td>29</td>\n",
              "      <td>29</td>\n",
              "      <td>29</td>\n",
              "      <td>29</td>\n",
              "      <td>29</td>\n",
              "      <td>29</td>\n",
              "      <td>29</td>\n",
              "      <td>29</td>\n",
              "      <td>29</td>\n",
              "      <td>29</td>\n",
              "    </tr>\n",
              "    <tr>\n",
              "      <th>Research paper_Journal article</th>\n",
              "      <td>18</td>\n",
              "      <td>18</td>\n",
              "      <td>18</td>\n",
              "      <td>18</td>\n",
              "      <td>18</td>\n",
              "      <td>18</td>\n",
              "      <td>18</td>\n",
              "      <td>18</td>\n",
              "      <td>18</td>\n",
              "      <td>18</td>\n",
              "      <td>18</td>\n",
              "      <td>18</td>\n",
              "      <td>18</td>\n",
              "      <td>18</td>\n",
              "      <td>18</td>\n",
              "    </tr>\n",
              "    <tr>\n",
              "      <th>Response to reviewer comments</th>\n",
              "      <td>20</td>\n",
              "      <td>20</td>\n",
              "      <td>20</td>\n",
              "      <td>20</td>\n",
              "      <td>20</td>\n",
              "      <td>20</td>\n",
              "      <td>20</td>\n",
              "      <td>20</td>\n",
              "      <td>20</td>\n",
              "      <td>20</td>\n",
              "      <td>20</td>\n",
              "      <td>20</td>\n",
              "      <td>20</td>\n",
              "      <td>20</td>\n",
              "      <td>20</td>\n",
              "    </tr>\n",
              "  </tbody>\n",
              "</table>\n",
              "</div>\n",
              "      <button class=\"colab-df-convert\" onclick=\"convertToInteractive('df-1dba856e-ef4f-4997-baeb-33b72b387958')\"\n",
              "              title=\"Convert this dataframe to an interactive table.\"\n",
              "              style=\"display:none;\">\n",
              "        \n",
              "  <svg xmlns=\"http://www.w3.org/2000/svg\" height=\"24px\"viewBox=\"0 0 24 24\"\n",
              "       width=\"24px\">\n",
              "    <path d=\"M0 0h24v24H0V0z\" fill=\"none\"/>\n",
              "    <path d=\"M18.56 5.44l.94 2.06.94-2.06 2.06-.94-2.06-.94-.94-2.06-.94 2.06-2.06.94zm-11 1L8.5 8.5l.94-2.06 2.06-.94-2.06-.94L8.5 2.5l-.94 2.06-2.06.94zm10 10l.94 2.06.94-2.06 2.06-.94-2.06-.94-.94-2.06-.94 2.06-2.06.94z\"/><path d=\"M17.41 7.96l-1.37-1.37c-.4-.4-.92-.59-1.43-.59-.52 0-1.04.2-1.43.59L10.3 9.45l-7.72 7.72c-.78.78-.78 2.05 0 2.83L4 21.41c.39.39.9.59 1.41.59.51 0 1.02-.2 1.41-.59l7.78-7.78 2.81-2.81c.8-.78.8-2.07 0-2.86zM5.41 20L4 18.59l7.72-7.72 1.47 1.35L5.41 20z\"/>\n",
              "  </svg>\n",
              "      </button>\n",
              "      \n",
              "  <style>\n",
              "    .colab-df-container {\n",
              "      display:flex;\n",
              "      flex-wrap:wrap;\n",
              "      gap: 12px;\n",
              "    }\n",
              "\n",
              "    .colab-df-convert {\n",
              "      background-color: #E8F0FE;\n",
              "      border: none;\n",
              "      border-radius: 50%;\n",
              "      cursor: pointer;\n",
              "      display: none;\n",
              "      fill: #1967D2;\n",
              "      height: 32px;\n",
              "      padding: 0 0 0 0;\n",
              "      width: 32px;\n",
              "    }\n",
              "\n",
              "    .colab-df-convert:hover {\n",
              "      background-color: #E2EBFA;\n",
              "      box-shadow: 0px 1px 2px rgba(60, 64, 67, 0.3), 0px 1px 3px 1px rgba(60, 64, 67, 0.15);\n",
              "      fill: #174EA6;\n",
              "    }\n",
              "\n",
              "    [theme=dark] .colab-df-convert {\n",
              "      background-color: #3B4455;\n",
              "      fill: #D2E3FC;\n",
              "    }\n",
              "\n",
              "    [theme=dark] .colab-df-convert:hover {\n",
              "      background-color: #434B5C;\n",
              "      box-shadow: 0px 1px 3px 1px rgba(0, 0, 0, 0.15);\n",
              "      filter: drop-shadow(0px 1px 2px rgba(0, 0, 0, 0.3));\n",
              "      fill: #FFFFFF;\n",
              "    }\n",
              "  </style>\n",
              "\n",
              "      <script>\n",
              "        const buttonEl =\n",
              "          document.querySelector('#df-1dba856e-ef4f-4997-baeb-33b72b387958 button.colab-df-convert');\n",
              "        buttonEl.style.display =\n",
              "          google.colab.kernel.accessAllowed ? 'block' : 'none';\n",
              "\n",
              "        async function convertToInteractive(key) {\n",
              "          const element = document.querySelector('#df-1dba856e-ef4f-4997-baeb-33b72b387958');\n",
              "          const dataTable =\n",
              "            await google.colab.kernel.invokeFunction('convertToInteractive',\n",
              "                                                     [key], {});\n",
              "          if (!dataTable) return;\n",
              "\n",
              "          const docLinkHtml = 'Like what you see? Visit the ' +\n",
              "            '<a target=\"_blank\" href=https://colab.research.google.com/notebooks/data_table.ipynb>data table notebook</a>'\n",
              "            + ' to learn more about interactive tables.';\n",
              "          element.innerHTML = '';\n",
              "          dataTable['output_type'] = 'display_data';\n",
              "          await google.colab.output.renderOutput(dataTable, element);\n",
              "          const docLink = document.createElement('div');\n",
              "          docLink.innerHTML = docLinkHtml;\n",
              "          element.appendChild(docLink);\n",
              "        }\n",
              "      </script>\n",
              "    </div>\n",
              "  </div>\n",
              "  "
            ]
          },
          "metadata": {},
          "execution_count": 164
        }
      ]
    },
    {
      "cell_type": "markdown",
      "source": [
        "# Benchmark Functions"
      ],
      "metadata": {
        "id": "NcP8PXhNDyAC"
      }
    },
    {
      "cell_type": "code",
      "source": [
        "def benchmark(**params):\n",
        "  clf = params[\"clf\"]\n",
        "  vectorizer = params[\"vectorizer\"]\n",
        "  X = params[\"X\"]\n",
        "  title = params[\"title\"]\n",
        "  model_details = params[\"model_details\"]\n",
        "  y = params[\"y\"]\n",
        "  vectorizer.fit(X)\n",
        "  t1 = time()\n",
        "  X_vector = vectorizer.transform(X)\n",
        "  t2 = time()\n",
        "  cv = cross_validate(clf, X_vector, y, cv = 5, scoring = scoring)\n",
        "  for keys, value in cv.items():\n",
        "    cv[keys] = sum(cv[keys])/len(cv[keys])\n",
        "  cv[\"title\"] = title\n",
        "  cv[\"model_details\"] = model_details\n",
        "  cv[\"vectoriszation_time\"] = (t2-t1)/X.shape[0]\n",
        "  cv[\"feature_vector_length\"]  =X_vector.shape[0]\n",
        "  return cv\n",
        "def benchmark_gold(**params):\n",
        "  clf = params[\"clf\"]\n",
        "  vectorizer = params[\"vectorizer\"]\n",
        "  X = params[\"X\"]\n",
        "  title = params[\"title\"]\n",
        "  model_details = params[\"model_details\"]\n",
        "  y = params[\"y\"]\n",
        "  t1 = time()\n",
        "  X_vector = vectorizer.transform(X)\n",
        "  t2 = time()\n",
        "  cv = cross_validate(clf, X_vector, y, cv = 1, scoring = scoring)\n",
        "  for keys, value in cv.items():\n",
        "    cv[keys] = sum(cv[keys])/len(cv[keys])\n",
        "  cv[\"title\"] = title\n",
        "  cv[\"model_details\"] = model_details\n",
        "  cv[\"vectoriszation_time\"] = (t2-t1)/X.shape[0]\n",
        "  cv[\"feature_vector_length\"]  =X_vector.shape[0]\n",
        "  return cv"
      ],
      "metadata": {
        "id": "5K_J7U5zDXbS"
      },
      "execution_count": null,
      "outputs": []
    },
    {
      "cell_type": "code",
      "source": [
        "def abstract_precision(model, X, y):\n",
        "  return cr(y, model.predict(X), output_dict = True)[\"Abstract\"][\"precision\"]\n",
        "def other_precision(model, X, y):\n",
        "  return cr(y, model.predict(X), output_dict = True)[\"Other\"][\"precision\"]\n",
        "def rtrc_precision(model, X, y):\n",
        "  return cr(y, model.predict(X), output_dict = True)[\"Response to reviewer comments\"][\"precision\"]\n",
        "def rp_precision(model, X, y):\n",
        "  return cr(y, model.predict(X), output_dict = True)[\"Research paper_Journal article\"][\"precision\"]\n",
        "def abstract_recall(model, X, y):\n",
        "  return cr(y, model.predict(X), output_dict = True)[\"Abstract\"][\"recall\"]\n",
        "def other_recall(model, X, y):\n",
        "  return cr(y, model.predict(X), output_dict = True)[\"Other\"][\"recall\"]\n",
        "def rtrc_recall(model, X, y):\n",
        "  return cr(y, model.predict(X), output_dict = True)[\"Response to reviewer comments\"][\"recall\"]\n",
        "def rp_recall(model, X, y):\n",
        "  return cr(y, model.predict(X), output_dict = True)[\"Research paper_Journal article\"][\"recall\"]\n",
        "def macro_precision(model, X, y):\n",
        "  return cr(y, model.predict(X), output_dict = True)[\"macro avg\"][\"precision\"]\n",
        "def macro_f1(model, X, y):\n",
        "  return cr(y, model.predict(X), output_dict = True)[\"macro avg\"][\"f1-score\"]\n",
        "def accuracy(model, X, y):\n",
        "  return cr(y, model.predict(X), output_dict = True)[\"accuracy\"]\n",
        "\n",
        "scoring = {\n",
        "    \"abstract_precision\":abstract_precision,\n",
        "    \"other_precision\":other_precision,\n",
        "    \"rtrc_precision\":rtrc_precision,\n",
        "    \"rp_precision\":rp_precision,\n",
        "    \"abstract_recall\": abstract_recall,\n",
        "    \"other_recall\":other_recall,\n",
        "    \"rtrc_recall\":rtrc_recall,\n",
        "    \"rp_recall\":rp_recall,\n",
        "    \"macro_precision\":macro_precision,\n",
        "    \"macro_f1\": macro_f1,\n",
        "    \"accuracy\": accuracy\n",
        "}"
      ],
      "metadata": {
        "id": "1pBg_gaMMW3z"
      },
      "execution_count": null,
      "outputs": []
    },
    {
      "cell_type": "code",
      "source": [
        "scoring = {\n",
        "    \"abstract_precision\":abstract_precision,\n",
        "    \"other_precision\":other_precision,\n",
        "    \"rtrc_precision\":rtrc_precision,\n",
        "    \"rp_precision\":rp_precision,\n",
        "    \"abstract_recall\": abstract_recall,\n",
        "    \"other_recall\":other_recall,\n",
        "    \"rtrc_recall\":rtrc_recall,\n",
        "    \"rp_recall\":rp_recall,\n",
        "    \"macro_precision\":macro_precision,\n",
        "    \"macro_f1\": macro_f1,\n",
        "    \"accuracy\": accuracy\n",
        "}"
      ],
      "metadata": {
        "id": "HmTyeBwV-m2e"
      },
      "execution_count": null,
      "outputs": []
    },
    {
      "cell_type": "code",
      "source": [
        "scoring2 = scoring.copy()\n",
        "scoring2.pop(\"other_precision\")"
      ],
      "metadata": {
        "colab": {
          "base_uri": "https://localhost:8080/"
        },
        "id": "gnrC72tc-ouB",
        "outputId": "676bb7a5-5f86-48f5-e76e-ddcf394b08d0"
      },
      "execution_count": null,
      "outputs": [
        {
          "output_type": "execute_result",
          "data": {
            "text/plain": [
              "<function __main__.other_precision>"
            ]
          },
          "metadata": {},
          "execution_count": 102
        }
      ]
    },
    {
      "cell_type": "code",
      "source": [
        "def scorer(rfc, X, y):\n",
        "  y_pred = rfc.predict(X)\n",
        "  cr_ = cr(y, y_pred, output_dict = True)\n",
        "  res = {\n",
        "      \"accuracy\":cr_[\"accuracy\"],\n",
        "      \"rp_precision\":cr_[\"Research paper_Journal article\"][\"precision\"], \n",
        "      \"rtrc_precision\":cr_[\"Response to reviewer comments\"][\"precision\"],\n",
        "      \"abstract_precision\":cr_[\"Abstract\"][\"precision\"],\n",
        "      \"rp_recall\":cr_['Research paper_Journal article'][\"recall\"],\n",
        "      \"weighted_f1_score\":cr_['weighted avg'][\"f1-score\"],\n",
        "      \"precision_weighted\":cr_['weighted avg']['precision'],\n",
        "      \"recall_weighted\":cr_['weighted avg']['recall']\n",
        "  }\n",
        "  return res"
      ],
      "metadata": {
        "id": "IU-Gcg1gWzhE"
      },
      "execution_count": null,
      "outputs": []
    },
    {
      "cell_type": "code",
      "source": [
        "import nltk\n",
        "from nltk.stem.porter import PorterStemmer\n",
        "from nltk.corpus import stopwords\n",
        "nltk.download('stopwords')\n",
        "nltk.download('punkt')\n",
        "\n",
        "stop_words = set(stopwords.words('english'))\n",
        "\n",
        "def tokenize(text):\n",
        "    '''\n",
        "    It takes text, removes stopwords and returns list of stemmed tokens\n",
        "    '''\n",
        "    word_tokens = nltk.word_tokenize(text)\n",
        "    #Removing stopwords\n",
        "    filtered_sentence = [w for w in word_tokens if not w.lower() in stop_words]\n",
        "    stems = []\n",
        "    for item in filtered_sentence:\n",
        "        stems.append(PorterStemmer().stem(item))\n",
        "    return stems"
      ],
      "metadata": {
        "colab": {
          "base_uri": "https://localhost:8080/"
        },
        "id": "CppIlms1zfj9",
        "outputId": "3b4b137a-cc02-429c-f03d-9cdac59b7e42"
      },
      "execution_count": null,
      "outputs": [
        {
          "output_type": "stream",
          "name": "stdout",
          "text": [
            "[nltk_data] Downloading package stopwords to /root/nltk_data...\n",
            "[nltk_data]   Unzipping corpora/stopwords.zip.\n",
            "[nltk_data] Downloading package punkt to /root/nltk_data...\n",
            "[nltk_data]   Unzipping tokenizers/punkt.zip.\n"
          ]
        }
      ]
    },
    {
      "cell_type": "markdown",
      "source": [
        "# Experiment 0: Rule Based Models"
      ],
      "metadata": {
        "id": "dyBwcj7qFb_y"
      }
    },
    {
      "cell_type": "code",
      "source": [
        "#features extracted during EDA using statistical and empirical observations\n",
        "rtrc_features = \"we agree, we appreciate, \\\n",
        "thank you, reviewer, sincerely, apologize, \\\n",
        "comment, appreciate your, mentioned, please\".split(\",\")\n",
        "\n",
        "journal_features = \"discussion, analyses, shows\\\n",
        "conclusion, analysis, references, summary, \\\n",
        "this article, funded, table\".split(\",\")"
      ],
      "metadata": {
        "id": "uJpV_mS9F5KY"
      },
      "execution_count": null,
      "outputs": []
    },
    {
      "cell_type": "code",
      "source": [
        "#Running Rule based model and then testing it. \n",
        "\n",
        "#Taking out mvp documents\n",
        "df_temp = df_allcat_test.loc[df_allcat_test.doc_category.isin(mvp_cat)].reset_index(drop = True)\n",
        "df_length = len(df_temp)\n",
        "features = rtrc_features\n",
        "truth = []\n",
        "pred = []\n",
        "rtrc_threshold = 3\n",
        "journal_threshold = 3\n",
        "t1 = time()\n",
        "for i in range(df_length):\n",
        "  count = 0\n",
        "  text = df_temp.text[i]\n",
        "  truth_ = df_temp.doc_category[i]\n",
        "\n",
        "  count_rtrc = 0\n",
        "  for j in rtrc_features:\n",
        "    if j in text:\n",
        "      count_rtrc+=1\n",
        "\n",
        "  if(count_rtrc > rtrc_threshold):\n",
        "    pred_ = \"Response to reviewer comments\"\n",
        "  elif df_temp.word_count[i] < 2500:\n",
        "    pred_ = \"Abstract\"\n",
        "  else:\n",
        "    pred_ = \"Research paper_Journal article\"\n",
        "\n",
        "  pred.append(pred_)\n",
        "  truth.append(truth_)\n",
        "t2 = time()\n",
        "print(f'Average Inference time : {(t2-t1)/df_length}')\n",
        "\n",
        "print(cr(truth, pred))\n",
        "cmd(confusion_matrix=cm(truth,pred), display_labels=sorted(set(pred))).plot()\n",
        "plt.xticks((0,1,2), sorted(set(pred)), rotation=20, rotation_mode=\"anchor\", ha='right')\n",
        "plt.show()"
      ],
      "metadata": {
        "colab": {
          "base_uri": "https://localhost:8080/",
          "height": 525
        },
        "id": "DB7Io4vcFexh",
        "outputId": "e41de57b-1551-4154-885d-e0b0dacdfd93"
      },
      "execution_count": null,
      "outputs": [
        {
          "output_type": "stream",
          "name": "stdout",
          "text": [
            "Average Inference time : 0.0002191373982380346\n",
            "                                precision    recall  f1-score   support\n",
            "\n",
            "                      Abstract       0.79      0.93      0.85        69\n",
            "Research paper_Journal article       0.74      0.88      0.80        73\n",
            " Response to reviewer comments       1.00      0.50      0.67        52\n",
            "\n",
            "                      accuracy                           0.79       194\n",
            "                     macro avg       0.84      0.77      0.77       194\n",
            "                  weighted avg       0.83      0.79      0.78       194\n",
            "\n"
          ]
        },
        {
          "output_type": "display_data",
          "data": {
            "text/plain": [
              "<Figure size 432x288 with 2 Axes>"
            ],
            "image/png": "[encoded data removed]"
          },
          "metadata": {
            "needs_background": "light"
          }
        }
      ]
    },
    {
      "cell_type": "code",
      "source": [
        "#Testing on Gold Set\n",
        "df_temp = full_gold.loc[full_gold.doc_category.isin(mvp_cat)].reset_index(drop = True)\n",
        "df_length = len(df_temp)\n",
        "features = rtrc_features\n",
        "truth = []\n",
        "pred = []\n",
        "rtrc_threshold = 3\n",
        "journal_threshold = 3\n",
        "t1 = time()\n",
        "for i in range(df_length):\n",
        "  count = 0\n",
        "  text = df_temp.text[i]\n",
        "  truth_ = df_temp.doc_category[i]\n",
        "\n",
        "  count_rtrc = 0\n",
        "  for j in rtrc_features:\n",
        "    if j in text:\n",
        "      count_rtrc+=1\n",
        "\n",
        "  if(count_rtrc > rtrc_threshold):\n",
        "    pred_ = \"Response to reviewer comments\"\n",
        "  elif df_temp.word_count[i] < 2500:\n",
        "    pred_ = \"Abstract\"\n",
        "  else:\n",
        "    pred_ = \"Research paper_Journal article\"\n",
        "\n",
        "  pred.append(pred_)\n",
        "  truth.append(truth_)\n",
        "t2 = time()\n",
        "print(f'Average Inference time : {(t2-t1)/df_length}')\n",
        "print(cr(truth, pred))\n",
        "cmd(confusion_matrix=cm(truth,pred), display_labels=sorted(set(pred))).plot()\n",
        "plt.xticks((0,1,2), sorted(set(pred)), rotation=20, rotation_mode=\"anchor\", ha='right')\n",
        "plt.show()"
      ],
      "metadata": {
        "colab": {
          "base_uri": "https://localhost:8080/",
          "height": 529
        },
        "id": "nS9OXEcgiCAH",
        "outputId": "db0735cb-d786-49ed-b5eb-7815d6ac1d80"
      },
      "execution_count": null,
      "outputs": [
        {
          "output_type": "stream",
          "name": "stdout",
          "text": [
            "Average Inference time : 0.00015766280038016184\n",
            "                                precision    recall  f1-score   support\n",
            "\n",
            "                      Abstract       0.82      1.00      0.90        18\n",
            "Research paper_Journal article       1.00      1.00      1.00        18\n",
            " Response to reviewer comments       1.00      0.80      0.89        20\n",
            "\n",
            "                      accuracy                           0.93        56\n",
            "                     macro avg       0.94      0.93      0.93        56\n",
            "                  weighted avg       0.94      0.93      0.93        56\n",
            "\n"
          ]
        },
        {
          "output_type": "display_data",
          "data": {
            "text/plain": [
              "<Figure size 432x288 with 2 Axes>"
            ],
            "image/png": "[encoded data removed]"
          },
          "metadata": {
            "needs_background": "light"
          }
        }
      ]
    },
    {
      "cell_type": "markdown",
      "source": [
        "# Experiment 1(a) : Vanilla (MVP)"
      ],
      "metadata": {
        "id": "t_urmpR1FGmP"
      }
    },
    {
      "cell_type": "code",
      "source": [
        "tfidf = TfidfVectorizer()\n",
        "rfc = RandomForestClassifier(random_state = 32)"
      ],
      "metadata": {
        "id": "15PnTa4LGmkQ"
      },
      "execution_count": null,
      "outputs": []
    },
    {
      "cell_type": "code",
      "source": [
        "experiment = {\n",
        "    \"clf\":RandomForestClassifier(random_state = 42),\n",
        "    \"vectorizer\": TfidfVectorizer(), \n",
        "    \"X\": df_allcat_train_cv.text,\n",
        "    \"y\":df_allcat_train_cv.doc_category, \n",
        "    \"model_details\": '''\"clf\":RandomForestClassifier(random_state = 42),\n",
        "    \"vectorizer\": TfidfVectorizer()''',\n",
        "    \"title\": \"Vanilla Experiment\"\n",
        "}\n",
        "r = benchmark(**experiment)\n",
        "results[\"vanilla\"] = r"
      ],
      "metadata": {
        "id": "Oz_Qq1iFVfmd"
      },
      "execution_count": null,
      "outputs": []
    },
    {
      "cell_type": "code",
      "source": [
        "df_train_mvp = df_allcat_train_cv.loc[df_allcat_train_cv.doc_category.isin(mvp_cat)].reset_index(drop = True)\n",
        "gold_mvp = full_gold.loc[full_gold.doc_category.isin(mvp_cat)].reset_index(drop = True)\n",
        "df_ = df.sample(frac=1, random_state = 42).reset_index(drop = True) \n",
        "df_mvp = df_.loc[df_.doc_category.isin(mvp_cat)].reset_index(drop = True)"
      ],
      "metadata": {
        "id": "waxnLcJ_ePmq"
      },
      "execution_count": null,
      "outputs": []
    },
    {
      "cell_type": "code",
      "source": [
        "#Only MVP Categories\n",
        "#Gold\n",
        "X_train = df_train_mvp.text\n",
        "y_train = df_train_mvp.doc_category\n",
        "tfidf = TfidfVectorizer().fit(X_train)\n",
        "X_train = tfidf.transform(X_train)\n",
        "rfc = RandomForestClassifier(random_state = 42)\n",
        "rfc.fit(X_train, y_train)\n",
        "\n",
        "print(\"*************Cross_Validation_Results**********\")\n",
        "pipe = Pipeline([(\"tfidf\",tfidf), (\"rfc\", rfc)])\n",
        "cv_result  = cross_validate(pipe, df_.text, df_.doc_category, cv = 5, scoring = scorer)\n",
        "print(pd.DataFrame(cv_result).mean(axis = 0))\n",
        "print(\"*************Gold_Data_Test_Results************\")\n",
        "\n",
        "gold_res = {}\n",
        "y_true_gold = gold_mvp.doc_category\n",
        "t1 = time()\n",
        "X_gold = tfidf.transform(gold_mvp.text)\n",
        "t2 = time()\n",
        "y_pred_gold = rfc.predict(X_gold)\n",
        "t3 = time()\n",
        "gold_res[\"vectorizing_time\"] = (t2-t1)/X_gold.shape[0]\n",
        "gold_res[\"inference_time\"] = (t3-t2)/X_gold.shape[0]\n",
        "gold_res[\"feature_vector_size\"] = X_gold.shape[1]\n",
        "print(cr(gold_mvp.doc_category, y_pred_gold))\n",
        "cmd(confusion_matrix=cm(y_true_gold,y_pred_gold), display_labels=y_true_gold.unique()).plot(xticks_rotation='vertical')\n",
        "plt.show()\n",
        "print(gold_res)"
      ],
      "metadata": {
        "colab": {
          "base_uri": "https://localhost:8080/",
          "height": 471
        },
        "id": "byPHl1Rperlh",
        "outputId": "70971745-f36c-4f13-b64a-a7df87047f0d"
      },
      "execution_count": null,
      "outputs": [
        {
          "output_type": "stream",
          "name": "stdout",
          "text": [
            "*************Cross_Validation_Results**********\n",
            "fit_time                   12.510994\n",
            "score_time                  1.197929\n",
            "test_accuracy               0.718738\n",
            "test_rp_precision           0.655792\n",
            "test_rtrc_precision         0.929621\n",
            "test_abstract_precision     0.706911\n",
            "test_rp_recall              0.872973\n",
            "test_weighted_f1_score      0.708080\n",
            "test_precision_weighted     0.740129\n",
            "test_recall_weighted        0.718738\n",
            "dtype: float64\n",
            "*************Gold_Data_Test_Results************\n",
            "                                precision    recall  f1-score   support\n",
            "\n",
            "                      Abstract       1.00      1.00      1.00        18\n",
            "Research paper_Journal article       1.00      1.00      1.00        18\n",
            " Response to reviewer comments       1.00      1.00      1.00        20\n",
            "\n",
            "                      accuracy                           1.00        56\n",
            "                     macro avg       1.00      1.00      1.00        56\n",
            "                  weighted avg       1.00      1.00      1.00        56\n",
            "\n"
          ]
        },
        {
          "output_type": "display_data",
          "data": {
            "text/plain": [
              "<Figure size 432x288 with 2 Axes>"
            ],
            "image/png": "[encoded data removed]"
          },
          "metadata": {
            "needs_background": "light"
          }
        },
        {
          "output_type": "stream",
          "name": "stdout",
          "text": [
            "{'vectorizing_time': 0.0013463454587118967, 'inference_time': 0.0010229519435337611, 'feature_vector_size': 141364}\n"
          ]
        }
      ]
    },
    {
      "cell_type": "markdown",
      "source": [
        "# Experiment 1(b): Only MVP but with Stemming"
      ],
      "metadata": {
        "id": "4G7-IjHYrpLA"
      }
    },
    {
      "cell_type": "code",
      "source": [
        "#Only MVP Categories but with Stemming\n",
        "#Gold\n",
        "X_train = df_train_mvp.text\n",
        "y_train = df_train_mvp.doc_category\n",
        "tfidf = TfidfVectorizer(tokenizer = tokenize).fit(X_train)\n",
        "X_train = tfidf.transform(X_train)\n",
        "rfc = RandomForestClassifier(random_state = 42)\n",
        "rfc.fit(X_train, y_train)\n",
        "\n",
        "print(\"*************Cross_Validation_Results**********\")\n",
        "pipe = Pipeline([(\"tfidf\",tfidf), (\"rfc\", rfc)])\n",
        "cv_result  = cross_validate(pipe, df_.text, df_.doc_category, cv = 5, scoring = scorer)\n",
        "print(pd.DataFrame(cv_result).mean(axis = 0))\n",
        "print(\"*************Gold_Data_Test_Results************\")\n",
        "\n",
        "gold_res = {}\n",
        "y_true_gold = gold_mvp.doc_category\n",
        "t1 = time()\n",
        "X_gold = tfidf.transform(gold_mvp.text)\n",
        "t2 = time()\n",
        "y_pred_gold = rfc.predict(X_gold)\n",
        "t3 = time()\n",
        "gold_res[\"vectorizing_time\"] = (t2-t1)/X_gold.shape[0]\n",
        "gold_res[\"inference_time\"] = (t3-t2)/X_gold.shape[0]\n",
        "gold_res[\"feature_vector_size\"] = X_gold.shape[1]\n",
        "print(cr(gold_mvp.doc_category, y_pred_gold))\n",
        "cmd(confusion_matrix=cm(y_true_gold,y_pred_gold), display_labels=y_true_gold.unique()).plot(xticks_rotation='vertical')\n",
        "plt.show()\n",
        "print(gold_res)"
      ],
      "metadata": {
        "colab": {
          "base_uri": "https://localhost:8080/",
          "height": 907
        },
        "id": "eYQDPaSSzujf",
        "outputId": "723ba0e2-1b17-4902-b5da-4a61222048da"
      },
      "execution_count": null,
      "outputs": [
        {
          "output_type": "stream",
          "name": "stderr",
          "text": [
            "/usr/local/lib/python3.7/dist-packages/sklearn/feature_extraction/text.py:517: UserWarning: The parameter 'token_pattern' will not be used since 'tokenizer' is not None'\n",
            "  \"The parameter 'token_pattern' will not be used\"\n"
          ]
        },
        {
          "output_type": "stream",
          "name": "stdout",
          "text": [
            "*************Cross_Validation_Results**********\n",
            "fit_time                   129.356025\n",
            "score_time                  30.669958\n",
            "test_accuracy                0.716883\n",
            "test_rp_precision            0.652388\n",
            "test_rtrc_precision          0.912660\n",
            "test_abstract_precision      0.708350\n",
            "test_rp_recall               0.871622\n",
            "test_weighted_f1_score       0.704638\n",
            "test_precision_weighted      0.735948\n",
            "test_recall_weighted         0.716883\n",
            "dtype: float64\n",
            "*************Gold_Data_Test_Results************\n",
            "                                precision    recall  f1-score   support\n",
            "\n",
            "                      Abstract       1.00      1.00      1.00        18\n",
            "Research paper_Journal article       1.00      1.00      1.00        18\n",
            " Response to reviewer comments       1.00      1.00      1.00        20\n",
            "\n",
            "                      accuracy                           1.00        56\n",
            "                     macro avg       1.00      1.00      1.00        56\n",
            "                  weighted avg       1.00      1.00      1.00        56\n",
            "\n"
          ]
        },
        {
          "output_type": "display_data",
          "data": {
            "text/plain": [
              "<Figure size 432x288 with 2 Axes>"
            ],
            "image/png": "[encoded data removed]"
          },
          "metadata": {
            "needs_background": "light"
          }
        },
        {
          "output_type": "stream",
          "name": "stdout",
          "text": [
            "{'vectorizing_time': 0.0425871695790972, 'inference_time': 0.000898029123033796, 'feature_vector_size': 119864}\n"
          ]
        }
      ]
    },
    {
      "cell_type": "markdown",
      "source": [
        "# Experiment 2(a): Including Other Categories"
      ],
      "metadata": {
        "id": "YaQn9-37rvVa"
      }
    },
    {
      "cell_type": "code",
      "source": [
        "#With \"Other\" Categories\n",
        "#Gold\n",
        "X_train = df_allcat_train_cv.text\n",
        "y_train = df_allcat_train_cv.doc_category\n",
        "tfidf = TfidfVectorizer().fit(X_train)\n",
        "X_train = tfidf.transform(X_train)\n",
        "rfc = RandomForestClassifier(random_state = 42)\n",
        "rfc.fit(X_train, y_train)\n",
        "\n",
        "print(\"*************Cross_Validation_Results**********\")\n",
        "pipe = Pipeline([(\"tfidf\",tfidf), (\"rfc\", rfc)])\n",
        "df_ = df.sample(frac=1).reset_index(drop = True) \n",
        "cv_result  = cross_validate(pipe, df_.text, df_.doc_category, cv = 5, scoring = scorer)\n",
        "print(pd.DataFrame(cv_result).mean(axis = 0))\n",
        "print(\"*************Gold_Data_Test_Results************\")\n",
        "gold_res = {}\n",
        "y_true_gold = full_gold.doc_category\n",
        "t1 = time()\n",
        "X_gold = tfidf.transform(full_gold.text)\n",
        "t2 = time()\n",
        "y_pred_gold = rfc.predict(X_gold)\n",
        "t3 = time()\n",
        "gold_res[\"vectorizing_time\"] = (t2-t1)/X_gold.shape[0]\n",
        "gold_res[\"inference_time\"] = (t3-t2)/X_gold.shape[0]\n",
        "gold_res[\"feature_vector_size\"] = X_gold.shape[1]\n",
        "print(cr(full_gold.doc_category, y_pred_gold))\n",
        "cmd(confusion_matrix=cm(y_true_gold,y_pred_gold), display_labels=sorted(y_true_gold.unique())).plot(xticks_rotation='vertical')\n",
        "plt.show()\n",
        "print(gold_res)"
      ],
      "metadata": {
        "colab": {
          "base_uri": "https://localhost:8080/",
          "height": 870
        },
        "id": "_N4pmyhADd1Q",
        "outputId": "ca2b13b6-db0b-46cb-f983-94d06a8921d5"
      },
      "execution_count": null,
      "outputs": [
        {
          "output_type": "stream",
          "name": "stdout",
          "text": [
            "*************Cross_Validation_Results**********\n",
            "fit_time                   11.637817\n",
            "score_time                  1.129469\n",
            "test_accuracy               0.722820\n",
            "test_rp_precision           0.658368\n",
            "test_rtrc_precision         0.934040\n",
            "test_abstract_precision     0.708478\n",
            "test_rp_recall              0.868919\n",
            "test_weighted_f1_score      0.712674\n",
            "test_precision_weighted     0.743669\n",
            "test_recall_weighted        0.722820\n",
            "dtype: float64\n",
            "*************Gold_Data_Test_Results************\n",
            "                                precision    recall  f1-score   support\n",
            "\n",
            "                      Abstract       0.89      0.94      0.92        18\n",
            "                         Other       0.89      0.55      0.68        29\n",
            "Research paper_Journal article       0.63      0.94      0.76        18\n",
            " Response to reviewer comments       0.95      1.00      0.98        20\n",
            "\n",
            "                      accuracy                           0.82        85\n",
            "                     macro avg       0.84      0.86      0.83        85\n",
            "                  weighted avg       0.85      0.82      0.82        85\n",
            "\n"
          ]
        },
        {
          "output_type": "display_data",
          "data": {
            "text/plain": [
              "<Figure size 432x288 with 2 Axes>"
            ],
            "image/png": "[encoded data removed]"
          },
          "metadata": {
            "needs_background": "light"
          }
        },
        {
          "output_type": "stream",
          "name": "stdout",
          "text": [
            "{'vectorizing_time': 0.0018069014829747818, 'inference_time': 0.0009675586924833409, 'feature_vector_size': 167507}\n"
          ]
        }
      ]
    },
    {
      "cell_type": "markdown",
      "source": [
        "# Experiment 2(b): Including Other Categories and Stemming"
      ],
      "metadata": {
        "id": "aIeZM_SDsSbL"
      }
    },
    {
      "cell_type": "code",
      "source": [
        "#With \"Other\" Categories but with stemming\n",
        "#Gold\n",
        "X_train = df_allcat_train_cv.text\n",
        "y_train = df_allcat_train_cv.doc_category\n",
        "tfidf = TfidfVectorizer(tokenizer = tokenize).fit(X_train)\n",
        "X_train = tfidf.transform(X_train)\n",
        "rfc = RandomForestClassifier(random_state = 42)\n",
        "rfc.fit(X_train, y_train)\n",
        "\n",
        "print(\"*************Cross_Validation_Results**********\")\n",
        "pipe = Pipeline([(\"tfidf\",tfidf), (\"rfc\", rfc)])\n",
        "df_ = df.sample(frac=1).reset_index(drop = True) \n",
        "cv_result  = cross_validate(pipe, df_.text, df_.doc_category, cv = 5, scoring = scorer)\n",
        "print(pd.DataFrame(cv_result).mean(axis = 0))\n",
        "print(\"*************Gold_Data_Test_Results************\")\n",
        "gold_res = {}\n",
        "y_true_gold = full_gold.doc_category\n",
        "t1 = time()\n",
        "X_gold = tfidf.transform(full_gold.text)\n",
        "t2 = time()\n",
        "y_pred_gold = rfc.predict(X_gold)\n",
        "t3 = time()\n",
        "gold_res[\"vectorizing_time\"] = (t2-t1)/X_gold.shape[0]\n",
        "gold_res[\"inference_time\"] = (t3-t2)/X_gold.shape[0]\n",
        "gold_res[\"feature_vector_size\"] = X_gold.shape[1]\n",
        "print(cr(full_gold.doc_category, y_pred_gold))\n",
        "cmd(confusion_matrix=cm(y_true_gold,y_pred_gold), display_labels=sorted(y_true_gold.unique())).plot(xticks_rotation='vertical')\n",
        "plt.show()\n",
        "print(gold_res)"
      ],
      "metadata": {
        "colab": {
          "base_uri": "https://localhost:8080/",
          "height": 921
        },
        "id": "0JDtXfDG4R5P",
        "outputId": "26dc752e-7c24-4035-86d1-f8348632803e"
      },
      "execution_count": null,
      "outputs": [
        {
          "output_type": "stream",
          "name": "stderr",
          "text": [
            "/usr/local/lib/python3.7/dist-packages/sklearn/feature_extraction/text.py:517: UserWarning: The parameter 'token_pattern' will not be used since 'tokenizer' is not None'\n",
            "  \"The parameter 'token_pattern' will not be used\"\n"
          ]
        },
        {
          "output_type": "stream",
          "name": "stdout",
          "text": [
            "*************Cross_Validation_Results**********\n",
            "fit_time                   130.454552\n",
            "score_time                  30.950510\n",
            "test_accuracy                0.716512\n",
            "test_rp_precision            0.647885\n",
            "test_rtrc_precision          0.909760\n",
            "test_abstract_precision      0.706102\n",
            "test_rp_recall               0.872973\n",
            "test_weighted_f1_score       0.704082\n",
            "test_precision_weighted      0.737550\n",
            "test_recall_weighted         0.716512\n",
            "dtype: float64\n",
            "*************Gold_Data_Test_Results************\n",
            "                                precision    recall  f1-score   support\n",
            "\n",
            "                      Abstract       0.85      0.94      0.89        18\n",
            "                         Other       0.83      0.34      0.49        29\n",
            "Research paper_Journal article       0.60      1.00      0.75        18\n",
            " Response to reviewer comments       0.83      0.95      0.88        20\n",
            "\n",
            "                      accuracy                           0.75        85\n",
            "                     macro avg       0.78      0.81      0.75        85\n",
            "                  weighted avg       0.79      0.75      0.72        85\n",
            "\n"
          ]
        },
        {
          "output_type": "display_data",
          "data": {
            "text/plain": [
              "<Figure size 432x288 with 2 Axes>"
            ],
            "image/png": "[encoded data removed]"
          },
          "metadata": {
            "needs_background": "light"
          }
        },
        {
          "output_type": "stream",
          "name": "stdout",
          "text": [
            "{'vectorizing_time': 0.05761506136725931, 'inference_time': 0.0007804169374353746, 'feature_vector_size': 142468}\n"
          ]
        }
      ]
    },
    {
      "cell_type": "markdown",
      "source": [
        "# Experiment 3(a): Removing Stopwords and using min_df"
      ],
      "metadata": {
        "id": "gLM9sbo9sYmr"
      }
    },
    {
      "cell_type": "code",
      "source": [
        "#After removing stopwords min_df\n",
        "tfidf_min_max_df = TfidfVectorizer(stop_words = \"english\", use_idf = True, min_df = 0.1111, max_df = 0.9999)\n",
        "X_text = tfidf_min_max_df.fit_transform(df_allcat_train_cv.text)\n",
        "rfc_min_max = RandomForestClassifier(random_state = 42, n_estimators = 100)\n",
        "rfc_min_max.fit(X_text, df_allcat_train_cv.doc_category)\n",
        "\n",
        "print(\"*************Cross_Validation_Results**********\")\n",
        "pipe = Pipeline([(\"tfidf\",tfidf_min_max_df), (\"rfc\", rfc_min_max)])\n",
        "df_ = df.sample(frac=1).reset_index(drop = True) \n",
        "cv_result  = cross_validate(pipe, df_.text, df_.doc_category, cv = 5, scoring = scorer)\n",
        "print(pd.DataFrame(cv_result).mean(axis = 0))\n",
        "print(\"\\n\\n*************Gold_Data_Test_Results************\")\n",
        "gold_res = {}\n",
        "y_true_gold = full_gold.doc_category\n",
        "t1 = time()\n",
        "X_gold = tfidf_min_max_df.transform(full_gold.text)\n",
        "t2 = time()\n",
        "y_pred_gold = rfc_min_max.predict(X_gold)\n",
        "t3 = time()\n",
        "gold_res[\"vectorizing_time\"] = (t2-t1)/X_gold.shape[0]\n",
        "gold_res[\"inference_time\"] = (t3-t2)/X_gold.shape[0]\n",
        "gold_res[\"feature_vector_size\"] = X_gold.shape[1]\n",
        "print(cr(full_gold.doc_category, y_pred_gold))\n",
        "cmd(confusion_matrix=cm(y_true_gold,y_pred_gold), display_labels=sorted(y_true_gold.unique())).plot(xticks_rotation='vertical')\n",
        "plt.show()\n",
        "print(gold_res)"
      ],
      "metadata": {
        "colab": {
          "base_uri": "https://localhost:8080/",
          "height": 905
        },
        "id": "vOvoAyEEYXAq",
        "outputId": "068640bf-a94d-4c6f-ecdc-0da0346eb8f0"
      },
      "execution_count": null,
      "outputs": [
        {
          "output_type": "stream",
          "name": "stdout",
          "text": [
            "*************Cross_Validation_Results**********\n",
            "fit_time                   7.554845\n",
            "score_time                 0.860646\n",
            "test_accuracy              0.734323\n",
            "test_rp_precision          0.667497\n",
            "test_rtrc_precision        0.911841\n",
            "test_abstract_precision    0.793839\n",
            "test_rp_recall             0.855405\n",
            "test_weighted_f1_score     0.731625\n",
            "test_precision_weighted    0.747927\n",
            "test_recall_weighted       0.734323\n",
            "dtype: float64\n",
            "\n",
            "\n",
            "*************Gold_Data_Test_Results************\n",
            "                                precision    recall  f1-score   support\n",
            "\n",
            "                      Abstract       0.94      0.89      0.91        18\n",
            "                         Other       0.90      0.62      0.73        29\n",
            "Research paper_Journal article       0.69      1.00      0.82        18\n",
            " Response to reviewer comments       0.91      1.00      0.95        20\n",
            "\n",
            "                      accuracy                           0.85        85\n",
            "                     macro avg       0.86      0.88      0.85        85\n",
            "                  weighted avg       0.87      0.85      0.84        85\n",
            "\n"
          ]
        },
        {
          "output_type": "display_data",
          "data": {
            "text/plain": [
              "<Figure size 432x288 with 2 Axes>"
            ],
            "image/png": "[encoded data removed]"
          },
          "metadata": {
            "needs_background": "light"
          }
        },
        {
          "output_type": "stream",
          "name": "stdout",
          "text": [
            "{'vectorizing_time': 0.0016681502847110524, 'inference_time': 0.00021100324742934283, 'feature_vector_size': 823}\n"
          ]
        }
      ]
    },
    {
      "cell_type": "markdown",
      "source": [
        "# Experiment 3(b): Removing Stopwords and using min_df + Stemming"
      ],
      "metadata": {
        "id": "szln60c0siaN"
      }
    },
    {
      "cell_type": "code",
      "source": [
        "#After removing stopwords min_df with stemming\n",
        "tfidf_min_max_df = TfidfVectorizer(use_idf = True, min_df = 0.1111, max_df = 0.9999, tokenizer = tokenize)\n",
        "X_text = tfidf_min_max_df.fit_transform(df_allcat_train_cv.text)\n",
        "rfc_min_max = RandomForestClassifier(random_state = 42, n_estimators = 100)\n",
        "rfc_min_max.fit(X_text, df_allcat_train_cv.doc_category)\n",
        "\n",
        "print(\"*************Cross_Validation_Results**********\")\n",
        "pipe = Pipeline([(\"tfidf\",tfidf_min_max_df), (\"rfc\", rfc_min_max)])\n",
        "df_ = df.sample(frac=1).reset_index(drop = True) \n",
        "cv_result  = cross_validate(pipe, df_.text, df_.doc_category, cv = 5, scoring = scorer)\n",
        "print(pd.DataFrame(cv_result).mean(axis = 0))\n",
        "print(\"\\n\\n*************Gold_Data_Test_Results************\")\n",
        "gold_res = {}\n",
        "y_true_gold = full_gold.doc_category\n",
        "t1 = time()\n",
        "X_gold = tfidf_min_max_df.transform(full_gold.text)\n",
        "t2 = time()\n",
        "y_pred_gold = rfc_min_max.predict(X_gold)\n",
        "t3 = time()\n",
        "gold_res[\"vectorizing_time\"] = (t2-t1)/X_gold.shape[0]\n",
        "gold_res[\"inference_time\"] = (t3-t2)/X_gold.shape[0]\n",
        "gold_res[\"feature_vector_size\"] = X_gold.shape[1]\n",
        "print(cr(full_gold.doc_category, y_pred_gold))\n",
        "cmd(confusion_matrix=cm(y_true_gold,y_pred_gold), display_labels=sorted(y_true_gold.unique())).plot(xticks_rotation='vertical')\n",
        "plt.show()\n",
        "print(gold_res)"
      ],
      "metadata": {
        "colab": {
          "base_uri": "https://localhost:8080/",
          "height": 925
        },
        "id": "TKcNSzW04xNx",
        "outputId": "25f3a856-7c0d-49ec-a00d-195fa2df29f2"
      },
      "execution_count": null,
      "outputs": [
        {
          "output_type": "stream",
          "name": "stdout",
          "text": [
            "*************Cross_Validation_Results**********\n",
            "fit_time                   127.647214\n",
            "score_time                  30.921994\n",
            "test_accuracy                0.739889\n",
            "test_rp_precision            0.670317\n",
            "test_rtrc_precision          0.903302\n",
            "test_abstract_precision      0.764002\n",
            "test_rp_recall               0.862162\n",
            "test_weighted_f1_score       0.734405\n",
            "test_precision_weighted      0.751331\n",
            "test_recall_weighted         0.739889\n",
            "dtype: float64\n",
            "\n",
            "\n",
            "*************Gold_Data_Test_Results************\n",
            "                                precision    recall  f1-score   support\n",
            "\n",
            "                      Abstract       0.94      0.94      0.94        18\n",
            "                         Other       0.95      0.62      0.75        29\n",
            "Research paper_Journal article       0.72      1.00      0.84        18\n",
            " Response to reviewer comments       0.87      1.00      0.93        20\n",
            "\n",
            "                      accuracy                           0.86        85\n",
            "                     macro avg       0.87      0.89      0.87        85\n",
            "                  weighted avg       0.88      0.86      0.85        85\n",
            "\n"
          ]
        },
        {
          "output_type": "display_data",
          "data": {
            "text/plain": [
              "<Figure size 432x288 with 2 Axes>"
            ],
            "image/png": "[encoded data removed]"
          },
          "metadata": {
            "needs_background": "light"
          }
        },
        {
          "output_type": "stream",
          "name": "stdout",
          "text": [
            "{'vectorizing_time': 0.05826572810902315, 'inference_time': 0.00021786970250746782, 'feature_vector_size': 882}\n"
          ]
        }
      ]
    },
    {
      "cell_type": "code",
      "source": [
        "#After removing stopwords min_df and regularising\n",
        "tfidf_min_max_df = TfidfVectorizer( use_idf = True, min_df = 0.1111, max_df = 0.9999, tokenizer = tokenize)\n",
        "X_text = tfidf_min_max_df.fit_transform(df_allcat_train_cv.text)\n",
        "rfc_min_max_regu = RandomForestClassifier(random_state = 42, n_estimators = 100, max_depth = 15)\n",
        "rfc_min_max_regu.fit(X_text, df_allcat_train_cv.doc_category)\n",
        "\n",
        "print(\"*************Cross_Validation_Results**********\")\n",
        "pipe = Pipeline([(\"tfidf\",tfidf_min_max_df), (\"rfc\", rfc_min_max_regu)])\n",
        "df_ = df.sample(frac=1).reset_index(drop = True) \n",
        "cv_result  = cross_validate(pipe, df_.text, df_.doc_category, cv = 5, scoring = scorer)\n",
        "print(pd.DataFrame(cv_result).mean(axis = 0))\n",
        "print(\"\\n\\n*************Gold_Data_Test_Results************\")\n",
        "\n",
        "gold_res = {}\n",
        "y_true_gold = full_gold.doc_category\n",
        "t1 = time()\n",
        "X_gold_min_max_df = tfidf_min_max_df.transform(full_gold.text).toarray()\n",
        "t2 = time()\n",
        "y_pred_gold = rfc_min_max_regu.predict(X_gold_min_max_df)\n",
        "t3 = time()\n",
        "gold_res[\"vectorizing_time\"] = (t2-t1)/X_gold_min_max_df.shape[0]\n",
        "gold_res[\"inference_time\"] = (t3-t2)/X_gold_min_max_df.shape[0]\n",
        "gold_res[\"feature_vector_size\"] = X_gold_min_max_df.shape[1]\n",
        "print(cr(full_gold.doc_category, y_pred_gold))\n",
        "cmd(confusion_matrix=cm(y_true_gold,y_pred_gold), display_labels=y_true_gold.unique()).plot(xticks_rotation='vertical')\n",
        "plt.show()\n",
        "gold_res"
      ],
      "metadata": {
        "colab": {
          "base_uri": "https://localhost:8080/",
          "height": 935
        },
        "id": "j8_joFlsCrwj",
        "outputId": "3fc950f5-050d-4012-aade-27728eb3975e"
      },
      "execution_count": null,
      "outputs": [
        {
          "output_type": "stream",
          "name": "stdout",
          "text": [
            "*************Cross_Validation_Results**********\n",
            "fit_time                   128.875443\n",
            "score_time                  31.544054\n",
            "test_accuracy                0.736178\n",
            "test_rp_precision            0.661663\n",
            "test_rtrc_precision          0.911710\n",
            "test_abstract_precision      0.747287\n",
            "test_rp_recall               0.871622\n",
            "test_weighted_f1_score       0.729117\n",
            "test_precision_weighted      0.751867\n",
            "test_recall_weighted         0.736178\n",
            "dtype: float64\n",
            "\n",
            "\n",
            "*************Gold_Data_Test_Results************\n",
            "                                precision    recall  f1-score   support\n",
            "\n",
            "                      Abstract       0.94      0.94      0.94        18\n",
            "                         Other       0.89      0.55      0.68        29\n",
            "Research paper_Journal article       0.64      1.00      0.78        18\n",
            " Response to reviewer comments       0.90      0.95      0.93        20\n",
            "\n",
            "                      accuracy                           0.82        85\n",
            "                     macro avg       0.85      0.86      0.83        85\n",
            "                  weighted avg       0.85      0.82      0.82        85\n",
            "\n"
          ]
        },
        {
          "output_type": "display_data",
          "data": {
            "text/plain": [
              "<Figure size 432x288 with 2 Axes>"
            ],
            "image/png": "[encoded data removed]"
          },
          "metadata": {
            "needs_background": "light"
          }
        },
        {
          "output_type": "execute_result",
          "data": {
            "text/plain": [
              "{'feature_vector_size': 882,\n",
              " 'inference_time': 0.00017118453979492188,\n",
              " 'vectorizing_time': 0.058965635299682614}"
            ]
          },
          "metadata": {},
          "execution_count": 191
        }
      ]
    },
    {
      "cell_type": "markdown",
      "source": [
        "# Experiment 3(c): Pruning"
      ],
      "metadata": {
        "id": "ZcDQZvpuv6E5"
      }
    },
    {
      "cell_type": "code",
      "source": [
        "def create_classifier_signature(tree, df, rfc_, tfidf):\n",
        "  '''\n",
        "  x_test should be in vectorised form \n",
        "  '''\n",
        "  x_test = tfidf.transform(list(df.text))\n",
        "  classes = rfc_.classes_\n",
        "  y_test = df.doc_category\n",
        "  pred_tree = tree.predict(x_test)\n",
        "  dd  ={}\n",
        "  for k,v in enumerate(classes):\n",
        "    dd[k] = v\n",
        "  pred_classes = [dd[i] for i in pred_tree]\n",
        "\n",
        "  #Calculating Signature of a tree \n",
        "  signature = np.empty(pred_tree.shape)\n",
        "  for i, j in enumerate(pred_classes):\n",
        "    if j == y_test[i]:\n",
        "      signature[i] = 1\n",
        "    else:\n",
        "      signature[i] = -1\n",
        "  return signature"
      ],
      "metadata": {
        "id": "5I6uW31KpX9J"
      },
      "execution_count": null,
      "outputs": []
    },
    {
      "cell_type": "code",
      "source": [
        "def lambda_(x):\n",
        "  o = np.ones(x.shape)\n",
        "  l = (-o @ x) / (np.linalg.norm(x))**2\n",
        "  return l\n",
        "def encode(y, rfc_):\n",
        "  '''\n",
        "  This is needed to convert labels to indexes as estimators give output \n",
        "  in terms of index and not labels. \n",
        "  This will be needed for calculating orientations wrt reference vector\n",
        "  '''\n",
        "  classes = rfc_.classes_\n",
        "  dd = {}\n",
        "  for k,v in enumerate(classes):\n",
        "    dd[v] = k\n",
        "  label = np.empty(y.shape)\n",
        "  for i,j in enumerate(y):\n",
        "    label[i] = dd[j]\n",
        "  return label\n",
        "def prune_rf(rfc, tfidf, df):\n",
        "  '''\n",
        "  Takes classifier object, vectoriser, and data\n",
        "  returns ensemble of selected tree(pruned classifier). \n",
        "  '''\n",
        "  '''\n",
        "  Step 1: Create A signature vector for every estimator in the ensemble\n",
        "  Step 2: Calculate reference vector for the entire ensemble. \n",
        "  Step 3: Calculate Orientations of each estimator wrt reference vector using\n",
        "  signature vector of each estimator\n",
        "  Step 4: #Selecting thw DT's that are in first quadrant of rf_reference_vector \n",
        "  and rf_signature_vector\n",
        "  Step 5: Create ensemble of Selected trees\n",
        "  '''\n",
        "  print(\"Step 1: Create A signature vector for every estimator in the ensemble\")\n",
        "\n",
        "  rfc_signature_list = []\n",
        "  for i in tqdm(range(len(rfc.estimators_))):\n",
        "    classifier_signature = create_classifier_signature(rfc.estimators_[i], df_allcat_train_cv, rfc, tfidf)\n",
        "    rfc_signature_list.append(classifier_signature)\n",
        "  rfc_signature_list = np.array(rfc_signature_list)\n",
        "\n",
        "  print(\"\\nStep 2: Calculate reference vector for the entire ensemble.\")\n",
        "  #Calculating the reference vector rf\n",
        "  rfc_signature_vector = np.average(rfc_signature_list, axis = 0)\n",
        "  alph = lambda_(rfc_signature_vector)\n",
        "  rfc_reference_vector = np.ones(rfc_signature_vector.shape) + alph * rfc_signature_vector\n",
        "  rfc_reference_vector.shape\n",
        "\n",
        "  print(\"\\nStep 3: Calculate Orientations\")\n",
        "  #Calculating Orientations for each estimator\n",
        "  dot  = rfc_signature_list @ rfc_reference_vector\n",
        "  orientations = dot / np.linalg.norm(rfc_signature_list, axis = 1) / np.linalg.norm(rfc_reference_vector)\n",
        "\n",
        "  print(\"\\nStep 4: #Selecting thw DT's\")\n",
        "  #Selecting thw DT's that are in first quadrant of rfc_reference_vector and rfc_signature_vector\n",
        "  final_ensemble = []\n",
        "  for i,j in enumerate(orientations):\n",
        "    if j < 1.57 and j > 0:\n",
        "      final_ensemble.append(rfc.estimators_[i])\n",
        "\n",
        "  #Creating ensemble of selected trees\n",
        "\n",
        "  print(\"\\nStep 5: Create ensemble of Selected trees\")\n",
        "  #######################################\n",
        "  #Some workaround\n",
        "  import six\n",
        "  import sys\n",
        "  sys.modules['sklearn.externals.six'] = six\n",
        "\n",
        "  #######################################\n",
        "  from mlxtend.classifier import EnsembleVoteClassifier\n",
        "  import copy\n",
        "  eclf = EnsembleVoteClassifier(clfs=final_ensemble, weights=list(np.ones(len(final_ensemble))), refit=False)\n",
        "\n",
        "  X_train_small = tfidf.transform(df.text)\n",
        "\n",
        "  y_train = encode(df.doc_category, rfc) #This has to be encoded form or else it fails\n",
        "\n",
        "  eclf.fit(X_train_small,y_train)\n",
        "\n",
        "  #Putting the classes back in the eclf. this is imp since when you are pickeling, these classes names need to go along\n",
        "  eclf.classes_ = rfc.classes_\n",
        "\n",
        "  return {\"pruned_rfc\":eclf, \"reference_vector\":rfc_reference_vector, \"selected_trees\": final_ensemble, \"rfc_signature_list\":rfc_signature_list}"
      ],
      "metadata": {
        "id": "Y9BIIupt8YqS"
      },
      "execution_count": null,
      "outputs": []
    },
    {
      "cell_type": "code",
      "source": [
        "def scorer_eclf(rfc, X, y):\n",
        "  y_pred = rfc.classes_[rfc.predict(X).astype(int)]\n",
        "  cr_ = cr(y, y_pred, output_dict = True)\n",
        "  res = {\n",
        "      \"accuracy\":cr_[\"accuracy\"],\n",
        "      \"rp_precision\":cr_[\"Research paper_Journal article\"][\"precision\"], \n",
        "      \"rtrc_precision\":cr_[\"Response to reviewer comments\"][\"precision\"],\n",
        "      \"abstract_precision\":cr_[\"Abstract\"][\"precision\"],\n",
        "      \"rp_recall\":cr_['Research paper_Journal article'][\"recall\"],\n",
        "      \"weighted_f1_score\":cr_['weighted avg'][\"f1-score\"],\n",
        "      \"precision_weighted\":cr_['weighted avg']['precision'],\n",
        "      \"recall_weighted\":cr_['weighted avg']['recall']\n",
        "  }\n",
        "  return res"
      ],
      "metadata": {
        "id": "8-SXfjyTLxY5"
      },
      "execution_count": null,
      "outputs": []
    },
    {
      "cell_type": "code",
      "source": [
        "from sklearn.model_selection import KFold\n",
        "kf = KFold(n_splits=5)\n",
        "fold = 1\n",
        "results = []\n",
        "df_temp = df.sample(frac=1).reset_index(drop=True)\n",
        "for train_index, test_index in kf.split(df):\n",
        "  print(\"-\"*100)\n",
        "  print(f\"\\nTraining for fold: {fold}\")\n",
        "  fold+=1\n",
        "  tfidf_min_max_df = TfidfVectorizer(stop_words = \"english\", use_idf = True, min_df = 0.1111, max_df = 0.9999)\n",
        "  X_text = tfidf_min_max_df.fit_transform(df_temp.iloc[train_index,:].text)\n",
        "  rfc_min_max = RandomForestClassifier(random_state = 42, n_estimators = 100)\n",
        "  rfc_min_max.fit(X_text, df_temp.iloc[train_index,:].doc_category)\n",
        "\n",
        "  print(\"\\nPruning started....\")\n",
        "\n",
        "  pruning = prune_rf(rfc_min_max, tfidf_min_max_df, df_temp.iloc[train_index,:])\n",
        "  clf = pruning[\"pruned_rfc\"]\n",
        "  print(\"\\nPruning Done. Scoring Pruned Forest...\")\n",
        "  res = scorer_eclf(clf, tfidf_min_max_df.transform(df_temp.loc[test_index,:].text), df_temp.loc[test_index,:].doc_category)\n",
        "  results.append(res)"
      ],
      "metadata": {
        "colab": {
          "base_uri": "https://localhost:8080/"
        },
        "id": "AQ_YpsdvNnhM",
        "outputId": "3150e84d-3e40-45ea-eb1d-28e140bcfeca"
      },
      "execution_count": null,
      "outputs": [
        {
          "output_type": "stream",
          "name": "stdout",
          "text": [
            "----------------------------------------------------------------------------------------------------\n",
            "\n",
            "Training for fold: 1\n",
            "\n",
            "Pruning started....\n",
            "Step 1: Create A signature vector for every estimator in the ensemble\n"
          ]
        },
        {
          "output_type": "stream",
          "name": "stderr",
          "text": [
            "100%|██████████| 100/100 [05:55<00:00,  3.55s/it]\n"
          ]
        },
        {
          "output_type": "stream",
          "name": "stdout",
          "text": [
            "\n",
            "Step 2: Calculate reference vector for the entire ensemble.\n",
            "\n",
            "Step 3: Calculate Orientations\n",
            "\n",
            "Step 4: #Selecting thw DT's\n",
            "\n",
            "Step 5: Create ensemble of Selected trees\n",
            "\n",
            "Pruning Done. Scoring Pruned Forest...\n",
            "----------------------------------------------------------------------------------------------------\n",
            "\n",
            "Training for fold: 2\n",
            "\n",
            "Pruning started....\n",
            "Step 1: Create A signature vector for every estimator in the ensemble\n"
          ]
        },
        {
          "output_type": "stream",
          "name": "stderr",
          "text": [
            "100%|██████████| 100/100 [05:47<00:00,  3.47s/it]\n"
          ]
        },
        {
          "output_type": "stream",
          "name": "stdout",
          "text": [
            "\n",
            "Step 2: Calculate reference vector for the entire ensemble.\n",
            "\n",
            "Step 3: Calculate Orientations\n",
            "\n",
            "Step 4: #Selecting thw DT's\n",
            "\n",
            "Step 5: Create ensemble of Selected trees\n",
            "\n",
            "Pruning Done. Scoring Pruned Forest...\n",
            "----------------------------------------------------------------------------------------------------\n",
            "\n",
            "Training for fold: 3\n",
            "\n",
            "Pruning started....\n",
            "Step 1: Create A signature vector for every estimator in the ensemble\n"
          ]
        },
        {
          "output_type": "stream",
          "name": "stderr",
          "text": [
            "100%|██████████| 100/100 [05:52<00:00,  3.53s/it]\n"
          ]
        },
        {
          "output_type": "stream",
          "name": "stdout",
          "text": [
            "\n",
            "Step 2: Calculate reference vector for the entire ensemble.\n",
            "\n",
            "Step 3: Calculate Orientations\n",
            "\n",
            "Step 4: #Selecting thw DT's\n",
            "\n",
            "Step 5: Create ensemble of Selected trees\n",
            "\n",
            "Pruning Done. Scoring Pruned Forest...\n",
            "----------------------------------------------------------------------------------------------------\n",
            "\n",
            "Training for fold: 4\n",
            "\n",
            "Pruning started....\n",
            "Step 1: Create A signature vector for every estimator in the ensemble\n"
          ]
        },
        {
          "output_type": "stream",
          "name": "stderr",
          "text": [
            "100%|██████████| 100/100 [05:58<00:00,  3.59s/it]\n"
          ]
        },
        {
          "output_type": "stream",
          "name": "stdout",
          "text": [
            "\n",
            "Step 2: Calculate reference vector for the entire ensemble.\n",
            "\n",
            "Step 3: Calculate Orientations\n",
            "\n",
            "Step 4: #Selecting thw DT's\n",
            "\n",
            "Step 5: Create ensemble of Selected trees\n",
            "\n",
            "Pruning Done. Scoring Pruned Forest...\n",
            "----------------------------------------------------------------------------------------------------\n",
            "\n",
            "Training for fold: 5\n",
            "\n",
            "Pruning started....\n",
            "Step 1: Create A signature vector for every estimator in the ensemble\n"
          ]
        },
        {
          "output_type": "stream",
          "name": "stderr",
          "text": [
            "100%|██████████| 100/100 [06:00<00:00,  3.60s/it]\n"
          ]
        },
        {
          "output_type": "stream",
          "name": "stdout",
          "text": [
            "\n",
            "Step 2: Calculate reference vector for the entire ensemble.\n",
            "\n",
            "Step 3: Calculate Orientations\n",
            "\n",
            "Step 4: #Selecting thw DT's\n",
            "\n",
            "Step 5: Create ensemble of Selected trees\n",
            "\n",
            "Pruning Done. Scoring Pruned Forest...\n"
          ]
        }
      ]
    },
    {
      "cell_type": "code",
      "source": [
        "pd.DataFrame(results).mean(axis = 0)"
      ],
      "metadata": {
        "colab": {
          "base_uri": "https://localhost:8080/"
        },
        "id": "qGAh-6UmNbjT",
        "outputId": "818d267c-ca99-416e-a529-700c57b7a8ed"
      },
      "execution_count": null,
      "outputs": [
        {
          "output_type": "execute_result",
          "data": {
            "text/plain": [
              "accuracy              0.745455\n",
              "rp_precision          0.667139\n",
              "rtrc_precision        0.919581\n",
              "abstract_precision    0.798874\n",
              "rp_recall             0.851244\n",
              "weighted_f1_score     0.744355\n",
              "precision_weighted    0.762484\n",
              "recall_weighted       0.745455\n",
              "dtype: float64"
            ]
          },
          "metadata": {},
          "execution_count": 27
        }
      ]
    },
    {
      "cell_type": "code",
      "source": [
        "#Testing Pruned Tree on GoldSet\n",
        "tfidf_min_max_df = TfidfVectorizer(stop_words = \"english\", use_idf = True, min_df = 0.1111, max_df = 0.9999)\n",
        "X_text = tfidf_min_max_df.fit_transform(df_allcat_train_cv.text)\n",
        "rfc_min_max = RandomForestClassifier(random_state = 42, n_estimators = 100)\n",
        "print(\"Building Forest...\")\n",
        "rfc_min_max.fit(X_text, df_allcat_train_cv.doc_category)\n",
        "print(\"\\nPruning Forest...\")\n",
        "pruning = prune_rf(rfc_min_max, tfidf_min_max_df, df_allcat_train_cv)\n",
        "clf = pruning[\"pruned_rfc\"]\n",
        "print(\"\\n\\n*************Gold_Data_Test_Results************\")\n",
        "gold_res = {}\n",
        "y_true_gold = full_gold.doc_category\n",
        "t1 = time()\n",
        "X_gold = tfidf_min_max_df.transform(full_gold.text)\n",
        "t2 = time()\n",
        "y_pred_gold = clf.classes_[clf.predict(X_gold).astype(int)]\n",
        "t3 = time()\n",
        "gold_res[\"vectorizing_time\"] = (t2-t1)/X_gold.shape[0]\n",
        "gold_res[\"inference_time\"] = (t3-t2)/X_gold.shape[0]\n",
        "gold_res[\"feature_vector_size\"] = X_gold.shape[1]\n",
        "print(cr(full_gold.doc_category, y_pred_gold))\n",
        "cmd(confusion_matrix=cm(y_true_gold,y_pred_gold), display_labels=sorted(y_true_gold.unique())).plot(xticks_rotation='vertical')\n",
        "plt.show()\n",
        "print(gold_res)"
      ],
      "metadata": {
        "colab": {
          "base_uri": "https://localhost:8080/",
          "height": 922
        },
        "id": "quYF-diQd-rI",
        "outputId": "b4da3760-2828-4f48-e9d9-e16ec1298dd2"
      },
      "execution_count": null,
      "outputs": [
        {
          "output_type": "stream",
          "name": "stdout",
          "text": [
            "Building Forest...\n",
            "\n",
            "Pruning Forest...\n",
            "Step 1: Create A signature vector for every estimator in the ensemble\n"
          ]
        },
        {
          "output_type": "stream",
          "name": "stderr",
          "text": [
            "100%|██████████| 100/100 [05:59<00:00,  3.60s/it]\n"
          ]
        },
        {
          "output_type": "stream",
          "name": "stdout",
          "text": [
            "\n",
            "Step 2: Calculate reference vector for the entire ensemble.\n",
            "\n",
            "Step 3: Calculate Orientations\n",
            "\n",
            "Step 4: #Selecting thw DT's\n",
            "\n",
            "Step 5: Create ensemble of Selected trees\n",
            "\n",
            "\n",
            "*************Gold_Data_Test_Results************\n",
            "                                precision    recall  f1-score   support\n",
            "\n",
            "                      Abstract       0.94      0.94      0.94        18\n",
            "                         Other       0.91      0.69      0.78        29\n",
            "Research paper_Journal article       0.71      0.94      0.81        18\n",
            " Response to reviewer comments       0.90      0.95      0.93        20\n",
            "\n",
            "                      accuracy                           0.86        85\n",
            "                     macro avg       0.87      0.88      0.87        85\n",
            "                  weighted avg       0.87      0.86      0.86        85\n",
            "\n"
          ]
        },
        {
          "output_type": "display_data",
          "data": {
            "text/plain": [
              "<Figure size 432x288 with 2 Axes>"
            ],
            "image/png": "[encoded data removed]"
          },
          "metadata": {
            "needs_background": "light"
          }
        },
        {
          "output_type": "stream",
          "name": "stdout",
          "text": [
            "{'vectorizing_time': 0.0015770799973431756, 'inference_time': 0.00021413915297564337, 'feature_vector_size': 823}\n"
          ]
        }
      ]
    },
    {
      "cell_type": "code",
      "source": [
        "import pickle\n",
        "pickle.dump(clf, open(\"estimator_v3_c_pruned.sav\", \"wb\"))\n",
        "pickle.dump(tfidf_min_max_df, open(\"tfidf_v3_c_min_max_df.sav\", \"wb\"))"
      ],
      "metadata": {
        "id": "GRn6eAWfnavp"
      },
      "execution_count": null,
      "outputs": []
    },
    {
      "cell_type": "code",
      "source": [
        "import pickle\n",
        "import six\n",
        "import sys\n",
        "sys.modules['sklearn.externals.six'] = six\n",
        "rr = pickle.load(open(\"estimator_v3_c_pruned.sav\", \"rb\"))\n",
        "vv = pickle.load(open(\"tfidf_v3_c_min_max_df.sav\", \"rb\"))"
      ],
      "metadata": {
        "id": "I0hbNM3q76Cw"
      },
      "execution_count": null,
      "outputs": []
    },
    {
      "cell_type": "code",
      "source": [
        "rr.predict(vv.transform([\"methods abstract references conclusion\"]))"
      ],
      "metadata": {
        "colab": {
          "base_uri": "https://localhost:8080/"
        },
        "id": "aHD3TAx88alV",
        "outputId": "a0905089-37e7-482d-d1af-16933b8a02c1"
      },
      "execution_count": null,
      "outputs": [
        {
          "output_type": "execute_result",
          "data": {
            "text/plain": [
              "array([0.])"
            ]
          },
          "metadata": {},
          "execution_count": 31
        }
      ]
    },
    {
      "cell_type": "markdown",
      "source": [
        "# Experiment 4(a): Adding Class Weight"
      ],
      "metadata": {
        "id": "kKSXg1qoytGJ"
      }
    },
    {
      "cell_type": "code",
      "source": [
        "#Adding Class weight\n",
        "\n",
        "tfidf_class_weight = TfidfVectorizer(stop_words= \"english\", use_idf = True, min_df = 0.1111, max_df = 0.999)\n",
        "rfc_class_weight = RandomForestClassifier(n_estimators = 100, criterion = \"entropy\", random_state = 32, class_weight = {'Research paper_Journal article':2, 'Abstract':1, 'Other':0.5,\n",
        "       'Response to reviewer comments':1})\n",
        "rfc_class_weight.fit(tfidf_class_weight.fit_transform(df_allcat_train_cv.text), df_allcat_train_cv.doc_category)\n",
        "\n",
        "print(\"*************Cross_Validation_Results**********\")\n",
        "pipe = Pipeline([(\"tfidf\",tfidf_class_weight), (\"rfc\", rfc_class_weight)])\n",
        "df_ = df.sample(frac=1).reset_index(drop = True) \n",
        "cv_result  = cross_validate(pipe, df_.text, df_.doc_category, cv = 5, scoring = scorer)\n",
        "print(pd.DataFrame(cv_result).mean(axis = 0))\n",
        "print(\"\\n\\n*************Gold_Data_Test_Results************\")\n",
        "\n",
        "gold_res = {}\n",
        "y_true_gold = full_gold.doc_category\n",
        "t1 = time()\n",
        "X_gold_class_weight = tfidf_class_weight.transform(full_gold.text).toarray()\n",
        "t2 = time()\n",
        "y_pred_gold = rfc_class_weight.predict(X_gold_class_weight)\n",
        "t3 = time()\n",
        "gold_res[\"vectorizing_time\"] = (t2-t1)/X_gold_class_weight.shape[0]\n",
        "gold_res[\"inference_time\"] = (t3-t2)/X_gold_class_weight.shape[0]\n",
        "gold_res[\"feature_vector_size\"] = X_gold_class_weight.shape[1]\n",
        "print(cr(full_gold.doc_category, y_pred_gold))\n",
        "cmd(confusion_matrix=cm(y_true_gold,y_pred_gold), display_labels=y_true_gold.unique()).plot(xticks_rotation='vertical')\n",
        "plt.show()\n",
        "gold_res"
      ],
      "metadata": {
        "colab": {
          "base_uri": "https://localhost:8080/",
          "height": 935
        },
        "id": "rsUSu6Dc-Pro",
        "outputId": "f56f858f-f762-4cac-ad8c-416e330770c7"
      },
      "execution_count": null,
      "outputs": [
        {
          "output_type": "stream",
          "name": "stdout",
          "text": [
            "*************Cross_Validation_Results**********\n",
            "fit_time                   9.000245\n",
            "score_time                 0.845368\n",
            "test_accuracy              0.740260\n",
            "test_rp_precision          0.662210\n",
            "test_rtrc_precision        0.918754\n",
            "test_abstract_precision    0.766626\n",
            "test_rp_recall             0.867568\n",
            "test_weighted_f1_score     0.734822\n",
            "test_precision_weighted    0.754933\n",
            "test_recall_weighted       0.740260\n",
            "dtype: float64\n",
            "\n",
            "\n",
            "*************Gold_Data_Test_Results************\n",
            "                                precision    recall  f1-score   support\n",
            "\n",
            "                      Abstract       0.95      1.00      0.97        18\n",
            "                         Other       0.89      0.59      0.71        29\n",
            "Research paper_Journal article       0.65      0.94      0.77        18\n",
            " Response to reviewer comments       0.90      0.95      0.93        20\n",
            "\n",
            "                      accuracy                           0.84        85\n",
            "                     macro avg       0.85      0.87      0.85        85\n",
            "                  weighted avg       0.86      0.84      0.83        85\n",
            "\n"
          ]
        },
        {
          "output_type": "display_data",
          "data": {
            "text/plain": [
              "<Figure size 432x288 with 2 Axes>"
            ],
            "image/png": "[encoded data removed]"
          },
          "metadata": {
            "needs_background": "light"
          }
        },
        {
          "output_type": "execute_result",
          "data": {
            "text/plain": [
              "{'feature_vector_size': 823,\n",
              " 'inference_time': 0.00018696784973144532,\n",
              " 'vectorizing_time': 0.0016894873450784122}"
            ]
          },
          "metadata": {},
          "execution_count": 183
        }
      ]
    },
    {
      "cell_type": "markdown",
      "source": [
        "# Experiment 4(b): Adding Class Weight and Stemming"
      ],
      "metadata": {
        "id": "81pzhA8oy0s0"
      }
    },
    {
      "cell_type": "code",
      "source": [
        "#Adding Class weight ans stemming\n",
        "\n",
        "tfidf_class_weight = TfidfVectorizer(use_idf = True, min_df = 0.1111, max_df = 0.999, tokenizer = tokenize)\n",
        "rfc_class_weight = RandomForestClassifier(n_estimators = 100, criterion = \"entropy\", random_state = 32, class_weight = {'Research paper_Journal article':2, 'Abstract':1, 'Other':0.5,\n",
        "       'Response to reviewer comments':1})\n",
        "rfc_class_weight.fit(tfidf_class_weight.fit_transform(df_allcat_train_cv.text), df_allcat_train_cv.doc_category)\n",
        "\n",
        "print(\"*************Cross_Validation_Results**********\")\n",
        "pipe = Pipeline([(\"tfidf\",tfidf_class_weight), (\"rfc\", rfc_class_weight)])\n",
        "df_ = df.sample(frac=1).reset_index(drop = True) \n",
        "cv_result  = cross_validate(pipe, df_.text, df_.doc_category, cv = 5, scoring = scorer)\n",
        "print(pd.DataFrame(cv_result).mean(axis = 0))\n",
        "print(\"\\n\\n*************Gold_Data_Test_Results************\")\n",
        "\n",
        "gold_res = {}\n",
        "y_true_gold = full_gold.doc_category\n",
        "t1 = time()\n",
        "X_gold_class_weight = tfidf_class_weight.transform(full_gold.text).toarray()\n",
        "t2 = time()\n",
        "y_pred_gold = rfc_class_weight.predict(X_gold_class_weight)\n",
        "t3 = time()\n",
        "gold_res[\"vectorizing_time\"] = (t2-t1)/X_gold_class_weight.shape[0]\n",
        "gold_res[\"inference_time\"] = (t3-t2)/X_gold_class_weight.shape[0]\n",
        "gold_res[\"feature_vector_size\"] = X_gold_class_weight.shape[1]\n",
        "print(cr(full_gold.doc_category, y_pred_gold))\n",
        "cmd(confusion_matrix=cm(y_true_gold,y_pred_gold), display_labels=y_true_gold.unique()).plot(xticks_rotation='vertical')\n",
        "plt.show()\n",
        "gold_res"
      ],
      "metadata": {
        "colab": {
          "base_uri": "https://localhost:8080/",
          "height": 939
        },
        "id": "rAUzfQXw-SPS",
        "outputId": "fc3a5ada-55a2-451a-9a84-49dc676e41c3"
      },
      "execution_count": null,
      "outputs": [
        {
          "output_type": "stream",
          "name": "stdout",
          "text": [
            "*************Cross_Validation_Results**********\n",
            "fit_time                   131.701400\n",
            "score_time                  31.466984\n",
            "test_accuracy                0.738404\n",
            "test_rp_precision            0.658878\n",
            "test_rtrc_precision          0.916349\n",
            "test_abstract_precision      0.744077\n",
            "test_rp_recall               0.871622\n",
            "test_weighted_f1_score       0.729880\n",
            "test_precision_weighted      0.755841\n",
            "test_recall_weighted         0.738404\n",
            "dtype: float64\n",
            "\n",
            "\n",
            "*************Gold_Data_Test_Results************\n",
            "                                precision    recall  f1-score   support\n",
            "\n",
            "                      Abstract       0.85      0.94      0.89        18\n",
            "                         Other       0.80      0.41      0.55        29\n",
            "Research paper_Journal article       0.62      1.00      0.77        18\n",
            " Response to reviewer comments       0.86      0.90      0.88        20\n",
            "\n",
            "                      accuracy                           0.76        85\n",
            "                     macro avg       0.78      0.81      0.77        85\n",
            "                  weighted avg       0.79      0.76      0.74        85\n",
            "\n"
          ]
        },
        {
          "output_type": "display_data",
          "data": {
            "text/plain": [
              "<Figure size 432x288 with 2 Axes>"
            ],
            "image/png": "[encoded data removed]"
          },
          "metadata": {
            "needs_background": "light"
          }
        },
        {
          "output_type": "execute_result",
          "data": {
            "text/plain": [
              "{'feature_vector_size': 882,\n",
              " 'inference_time': 0.000187228707706227,\n",
              " 'vectorizing_time': 0.06053234268637264}"
            ]
          },
          "metadata": {},
          "execution_count": 192
        }
      ]
    },
    {
      "cell_type": "markdown",
      "source": [
        "# Experiment 4(c): Pruning"
      ],
      "metadata": {
        "id": "6BQlRsKHlkuS"
      }
    },
    {
      "cell_type": "code",
      "source": [
        "from sklearn.model_selection import KFold\n",
        "kf = KFold(n_splits=5)\n",
        "fold = 1\n",
        "results = []\n",
        "df_temp = df.sample(frac=1).reset_index(drop=True)\n",
        "for train_index, test_index in kf.split(df):\n",
        "  print(\"-\"*100)\n",
        "  print(f\"\\nTraining for fold: {fold}\")\n",
        "  fold+=1\n",
        "  tfidf_class_weight = TfidfVectorizer(stop_words= \"english\", use_idf = True, min_df = 0.1111, max_df = 0.999)\n",
        "  rfc_class_weight = RandomForestClassifier(n_estimators = 100, criterion = \"entropy\", random_state = 32, class_weight = {'Research paper_Journal article':2, 'Abstract':1, 'Other':0.5,\n",
        "        'Response to reviewer comments':1})\n",
        "  rfc_class_weight.fit(tfidf_class_weight.fit_transform(df_temp.iloc[train_index,:].text), df_temp.iloc[train_index,:].doc_category)\n",
        "\n",
        "  print(\"\\nPruning started....\")\n",
        "\n",
        "  pruning = prune_rf(rfc_class_weight, tfidf_class_weight, df_temp.iloc[train_index,:])\n",
        "  clf = pruning[\"pruned_rfc\"]\n",
        "  print(\"\\nPruning Done. Scoring Pruned Forest...\")\n",
        "  res = scorer_eclf(clf, tfidf_class_weight.transform(df_temp.iloc[test_index,:].text), df_temp.iloc[test_index,:].doc_category)\n",
        "  results.append(res)"
      ],
      "metadata": {
        "colab": {
          "base_uri": "https://localhost:8080/"
        },
        "id": "dzPbZ4KllroR",
        "outputId": "cd17acf3-bbee-40a2-a606-25e4fd3dd855"
      },
      "execution_count": null,
      "outputs": [
        {
          "metadata": {
            "tags": null
          },
          "name": "stdout",
          "output_type": "stream",
          "text": [
            "----------------------------------------------------------------------------------------------------\n",
            "\n",
            "Training for fold: 1\n",
            "\n",
            "Pruning started....\n",
            "Step 1: Create A signature vector for every estimator in the ensemble\n"
          ]
        },
        {
          "output_type": "stream",
          "name": "stderr",
          "text": [
            "100%|██████████| 100/100 [05:59<00:00,  3.59s/it]\n"
          ]
        },
        {
          "output_type": "stream",
          "name": "stdout",
          "text": [
            "\n",
            "Step 2: Calculate reference vector for the entire ensemble.\n",
            "\n",
            "Step 3: Calculate Orientations\n",
            "\n",
            "Step 4: #Selecting thw DT's\n",
            "\n",
            "Step 5: Create ensemble of Selected trees\n",
            "\n",
            "Pruning Done. Scoring Pruned Forest...\n",
            "----------------------------------------------------------------------------------------------------\n",
            "\n",
            "Training for fold: 2\n",
            "\n",
            "Pruning started....\n",
            "Step 1: Create A signature vector for every estimator in the ensemble\n"
          ]
        },
        {
          "output_type": "stream",
          "name": "stderr",
          "text": [
            "100%|██████████| 100/100 [05:59<00:00,  3.59s/it]\n"
          ]
        },
        {
          "output_type": "stream",
          "name": "stdout",
          "text": [
            "\n",
            "Step 2: Calculate reference vector for the entire ensemble.\n",
            "\n",
            "Step 3: Calculate Orientations\n",
            "\n",
            "Step 4: #Selecting thw DT's\n",
            "\n",
            "Step 5: Create ensemble of Selected trees\n",
            "\n",
            "Pruning Done. Scoring Pruned Forest...\n",
            "----------------------------------------------------------------------------------------------------\n",
            "\n",
            "Training for fold: 3\n",
            "\n",
            "Pruning started....\n",
            "Step 1: Create A signature vector for every estimator in the ensemble\n"
          ]
        },
        {
          "output_type": "stream",
          "name": "stderr",
          "text": [
            "100%|██████████| 100/100 [05:55<00:00,  3.55s/it]\n"
          ]
        },
        {
          "output_type": "stream",
          "name": "stdout",
          "text": [
            "\n",
            "Step 2: Calculate reference vector for the entire ensemble.\n",
            "\n",
            "Step 3: Calculate Orientations\n",
            "\n",
            "Step 4: #Selecting thw DT's\n",
            "\n",
            "Step 5: Create ensemble of Selected trees\n",
            "\n",
            "Pruning Done. Scoring Pruned Forest...\n",
            "----------------------------------------------------------------------------------------------------\n",
            "\n",
            "Training for fold: 4\n",
            "\n",
            "Pruning started....\n",
            "Step 1: Create A signature vector for every estimator in the ensemble\n"
          ]
        },
        {
          "output_type": "stream",
          "name": "stderr",
          "text": [
            "100%|██████████| 100/100 [05:57<00:00,  3.58s/it]\n"
          ]
        },
        {
          "output_type": "stream",
          "name": "stdout",
          "text": [
            "\n",
            "Step 2: Calculate reference vector for the entire ensemble.\n",
            "\n",
            "Step 3: Calculate Orientations\n",
            "\n",
            "Step 4: #Selecting thw DT's\n",
            "\n",
            "Step 5: Create ensemble of Selected trees\n",
            "\n",
            "Pruning Done. Scoring Pruned Forest...\n",
            "----------------------------------------------------------------------------------------------------\n",
            "\n",
            "Training for fold: 5\n",
            "\n",
            "Pruning started....\n",
            "Step 1: Create A signature vector for every estimator in the ensemble\n"
          ]
        },
        {
          "output_type": "stream",
          "name": "stderr",
          "text": [
            "100%|██████████| 100/100 [05:54<00:00,  3.55s/it]\n"
          ]
        },
        {
          "output_type": "stream",
          "name": "stdout",
          "text": [
            "\n",
            "Step 2: Calculate reference vector for the entire ensemble.\n",
            "\n",
            "Step 3: Calculate Orientations\n",
            "\n",
            "Step 4: #Selecting thw DT's\n",
            "\n",
            "Step 5: Create ensemble of Selected trees\n",
            "\n",
            "Pruning Done. Scoring Pruned Forest...\n"
          ]
        }
      ]
    },
    {
      "cell_type": "code",
      "source": [
        "pd.DataFrame(results).mean(axis = 0)"
      ],
      "metadata": {
        "colab": {
          "base_uri": "https://localhost:8080/"
        },
        "id": "Psmp2yNauDSE",
        "outputId": "366a7a74-dc68-4330-87fe-06611276e545"
      },
      "execution_count": null,
      "outputs": [
        {
          "output_type": "execute_result",
          "data": {
            "text/plain": [
              "accuracy              0.737662\n",
              "rp_precision          0.664440\n",
              "rtrc_precision        0.898279\n",
              "abstract_precision    0.776775\n",
              "rp_recall             0.855509\n",
              "weighted_f1_score     0.732675\n",
              "precision_weighted    0.748836\n",
              "recall_weighted       0.737662\n",
              "dtype: float64"
            ]
          },
          "metadata": {},
          "execution_count": 33
        }
      ]
    },
    {
      "cell_type": "code",
      "source": [
        "#Testing Pruned Tree on GoldSet\n",
        "tfidf_min_max_df = TfidfVectorizer(stop_words = \"english\", use_idf = True, min_df = 0.1111, max_df = 0.9999)\n",
        "X_text = tfidf_min_max_df.fit_transform(df_allcat_train_cv.text)\n",
        "rfc_min_max = RandomForestClassifier(n_estimators = 100, criterion = \"entropy\", \\\n",
        "                                     random_state = 32, class_weight = {'Research paper_Journal article':2, 'Abstract':1, 'Other':0.5,\n",
        "        'Response to reviewer comments':1})\n",
        "print(\"Building Forest...\")\n",
        "rfc_min_max.fit(X_text, df_allcat_train_cv.doc_category)\n",
        "print(\"\\nPruning Forest...\")\n",
        "pruning = prune_rf(rfc_min_max, tfidf_min_max_df, df_allcat_train_cv)\n",
        "clf = pruning[\"pruned_rfc\"]\n",
        "print(\"\\n\\n*************Gold_Data_Test_Results************\")\n",
        "gold_res = {}\n",
        "y_true_gold = full_gold.doc_category\n",
        "t1 = time()\n",
        "X_gold = tfidf_min_max_df.transform(full_gold.text)\n",
        "t2 = time()\n",
        "y_pred_gold = clf.classes_[clf.predict(X_gold).astype(int)]\n",
        "t3 = time()\n",
        "gold_res[\"vectorizing_time\"] = (t2-t1)/X_gold.shape[0]\n",
        "gold_res[\"inference_time\"] = (t3-t2)/X_gold.shape[0]\n",
        "gold_res[\"feature_vector_size\"] = X_gold.shape[1]\n",
        "print(cr(full_gold.doc_category, y_pred_gold))\n",
        "cmd(confusion_matrix=cm(y_true_gold,y_pred_gold), display_labels=sorted(y_true_gold.unique())).plot(xticks_rotation='vertical')\n",
        "plt.show()\n",
        "print(gold_res)"
      ],
      "metadata": {
        "colab": {
          "base_uri": "https://localhost:8080/",
          "height": 918
        },
        "id": "y08F4hv6uIHt",
        "outputId": "f2319893-941a-4cef-c75f-9549f1b8b344"
      },
      "execution_count": null,
      "outputs": [
        {
          "output_type": "stream",
          "name": "stdout",
          "text": [
            "Building Forest...\n",
            "\n",
            "Pruning Forest...\n",
            "Step 1: Create A signature vector for every estimator in the ensemble\n"
          ]
        },
        {
          "output_type": "stream",
          "name": "stderr",
          "text": [
            "100%|██████████| 100/100 [06:08<00:00,  3.68s/it]\n"
          ]
        },
        {
          "output_type": "stream",
          "name": "stdout",
          "text": [
            "\n",
            "Step 2: Calculate reference vector for the entire ensemble.\n",
            "\n",
            "Step 3: Calculate Orientations\n",
            "\n",
            "Step 4: #Selecting thw DT's\n",
            "\n",
            "Step 5: Create ensemble of Selected trees\n",
            "\n",
            "\n",
            "*************Gold_Data_Test_Results************\n",
            "                                precision    recall  f1-score   support\n",
            "\n",
            "                      Abstract       0.89      0.94      0.92        18\n",
            "                         Other       0.83      0.66      0.73        29\n",
            "Research paper_Journal article       0.68      0.83      0.75        18\n",
            " Response to reviewer comments       0.90      0.95      0.93        20\n",
            "\n",
            "                      accuracy                           0.82        85\n",
            "                     macro avg       0.83      0.85      0.83        85\n",
            "                  weighted avg       0.83      0.82      0.82        85\n",
            "\n"
          ]
        },
        {
          "output_type": "display_data",
          "data": {
            "text/plain": [
              "<Figure size 432x288 with 2 Axes>"
            ],
            "image/png": "[encoded data removed]"
          },
          "metadata": {
            "needs_background": "light"
          }
        },
        {
          "output_type": "stream",
          "name": "stdout",
          "text": [
            "{'vectorizing_time': 0.001491700901704676, 'inference_time': 0.00021865227643181297, 'feature_vector_size': 823}\n"
          ]
        }
      ]
    },
    {
      "cell_type": "markdown",
      "source": [
        "# Experiment 5(a) : Multiclass to Multilabel"
      ],
      "metadata": {
        "id": "9mgkVW3Uy7Iw"
      }
    },
    {
      "cell_type": "code",
      "source": [
        "def test_multilabel(y_true, y_pred):\n",
        "  # labels = {}\n",
        "  labels = {('non-rp', 'non-rtrc', 'abstract'): 'Abstract', \n",
        "    ('non-rp', 'non-rtrc', 'non-abstract'): 'Other', \n",
        "    ('non-rp', 'rtrc', 'non-abstract'): 'Response to reviewer comments', \n",
        "    ('rp', 'non-rtrc', 'non-abstract'): 'Research paper_Journal article'}\n",
        "  labels_ = [\"Abstract\", \"Other\", \"Response to reviewer comments\", \"Research paper_Journal article\"]\n",
        "  # for i,j in enumerate(np.unique(np.array(y_pred).astype(\"<U22\"), axis = 0)):\n",
        "  #   labels[tuple(j)] = labels_[i]\n",
        "  y_pred_simple = []\n",
        "  for i in np.array(y_pred):\n",
        "    y_pred_simple.append(labels[tuple(i)])\n",
        "  return y_pred_simple\n",
        "\n",
        "def predict(rfc, tfidf_text, tfidf_headings, df, headings_text = False):\n",
        "  X_text = tfidf_text.transform(df.text)\n",
        "  if headings_text:\n",
        "    X_headings = tfidf_headings.transform(df.heading_text)\n",
        "    X_total = hstack([X_text,X_headings,df[[\"word_count2\",\"n_tables\",\"n_images\"]].astype(float)])\n",
        "  else:\n",
        "    X_total = hstack([X_text,df[[\"word_count2\",\"n_tables\",\"n_images\"]].astype(float)])\n",
        "  y_true = df.doc_category\n",
        "  y_pred = rfc.predict(X_total)\n",
        "  return y_true, y_pred\n",
        "\n",
        "def scorer_multilabel(rfc, X, y):\n",
        "  y_pred = rfc.predict(X)\n",
        "  y_true_simple = test_multilabel(y, y)\n",
        "  y_pred_simple = test_multilabel(y, y_pred)\n",
        "  cr_ = cr(y_true_simple, y_pred_simple, output_dict = True)\n",
        "  res = {\n",
        "      \"accuracy\":cr_[\"accuracy\"],\n",
        "      \"rp_precision\":cr_[\"Research paper_Journal article\"][\"precision\"], \n",
        "      \"rtrc_precision\":cr_[\"Response to reviewer comments\"][\"precision\"],\n",
        "      \"abstract_precision\":cr_[\"Abstract\"][\"precision\"],\n",
        "      \"rp_recall\":cr_['Research paper_Journal article'][\"recall\"],\n",
        "      \"weighted_f1_score\":cr_['weighted avg'][\"f1-score\"],\n",
        "      \"precision_weighted\":cr_['weighted avg']['precision'],\n",
        "      \"recall_weighted\":cr_['weighted avg']['recall']\n",
        "  }\n",
        "  return res\n",
        "\n",
        "class_weights= [\n",
        "                {\"rp\":1, \"non-rp\":0.1},\n",
        "                {\"rtrc\":1, \"non-rtrc\":0.5},\n",
        "                {\"abstract\":1, \"non-abstract\":0.5}\n",
        "]\n",
        "tfidf_bucket = TfidfVectorizer(stop_words= \"english\", use_idf = True, norm = None, min_df = 0.1111, max_df = 0.999)\n",
        "X = tfidf_bucket.fit_transform(df_allcat_train_cv.text)\n",
        "rfc_bucket = RandomForestClassifier(n_estimators = 100, criterion = \"entropy\", random_state = 32, class_weight = class_weights)\n",
        "rfc_bucket.fit(X, df_allcat_train_cv[[\"rp\",\"rtrc\",\"abstract\"]])\n",
        "\n",
        "print(\"*************Cross_Validation_Results**********\")\n",
        "pipe = Pipeline([(\"tfidf\",tfidf_bucket), (\"rfc\", rfc_bucket)])\n",
        "df_ = df.sample(frac=1).reset_index(drop = True) \n",
        "cv_result  = cross_validate(pipe, df_.text, df_[[\"rp\",\"rtrc\",\"abstract\"]], cv = 5, scoring = scorer_multilabel)\n",
        "print(pd.DataFrame(cv_result).mean(axis = 0))\n",
        "\n",
        "print(\"\\n\\n*************Gold_Data_Test_Results************\")\n",
        "\n",
        "gold_res = {}\n",
        "y_true_gold = full_gold.doc_category\n",
        "t1 = time()\n",
        "X_gold_bucket = tfidf_bucket.transform(full_gold.text).toarray()\n",
        "t2 = time()\n",
        "y_pred_gold = rfc_bucket.predict(X_gold_bucket)\n",
        "y_pred_simple_gold = test_multilabel(y_true_gold, y_pred_gold)\n",
        "t3 = time()\n",
        "gold_res[\"vectorizing_time\"] = (t2-t1)/X_gold_bucket.shape[0]\n",
        "gold_res[\"inference_time\"] = (t3-t2)/X_gold_bucket.shape[0]\n",
        "gold_res[\"feature_vector_size\"] = X_gold_bucket.shape[1]\n",
        "print(cr(full_gold.doc_category, y_pred_simple_gold))\n",
        "cmd(confusion_matrix=cm(y_true_gold,y_pred_simple_gold), display_labels=y_true_gold.unique()).plot(xticks_rotation='vertical')\n",
        "plt.show()\n",
        "gold_res\n",
        "# #On Gold\n",
        "# y_pred = rfc.predict(tfidf.transform(full_gold.text))\n",
        "# y_true = full_gold.doc_category\n",
        "# y_pred_simple_gold = test_multilabel(y_true, y_pred)"
      ],
      "metadata": {
        "colab": {
          "base_uri": "https://localhost:8080/",
          "height": 935
        },
        "id": "E9jskjM7FG-I",
        "outputId": "78bfa4cd-65cf-4444-aa2b-c5fef81a7624"
      },
      "execution_count": null,
      "outputs": [
        {
          "output_type": "stream",
          "name": "stdout",
          "text": [
            "*************Cross_Validation_Results**********\n",
            "fit_time                   8.092232\n",
            "score_time                 0.822719\n",
            "test_accuracy              0.687570\n",
            "test_rp_precision          0.690410\n",
            "test_rtrc_precision        0.932009\n",
            "test_abstract_precision    0.810556\n",
            "test_rp_recall             0.641708\n",
            "test_weighted_f1_score     0.694643\n",
            "test_precision_weighted    0.724905\n",
            "test_recall_weighted       0.687570\n",
            "dtype: float64\n",
            "\n",
            "\n",
            "*************Gold_Data_Test_Results************\n",
            "                                precision    recall  f1-score   support\n",
            "\n",
            "                      Abstract       0.94      0.94      0.94        18\n",
            "                         Other       0.75      0.93      0.83        29\n",
            "Research paper_Journal article       0.93      0.78      0.85        18\n",
            " Response to reviewer comments       1.00      0.80      0.89        20\n",
            "\n",
            "                      accuracy                           0.87        85\n",
            "                     macro avg       0.91      0.86      0.88        85\n",
            "                  weighted avg       0.89      0.87      0.87        85\n",
            "\n"
          ]
        },
        {
          "output_type": "display_data",
          "data": {
            "text/plain": [
              "<Figure size 432x288 with 2 Axes>"
            ],
            "image/png": "[encoded data removed]"
          },
          "metadata": {
            "needs_background": "light"
          }
        },
        {
          "output_type": "execute_result",
          "data": {
            "text/plain": [
              "{'feature_vector_size': 823,\n",
              " 'inference_time': 0.00023187749526079965,\n",
              " 'vectorizing_time': 0.0014549956602208755}"
            ]
          },
          "metadata": {},
          "execution_count": 57
        }
      ]
    },
    {
      "cell_type": "code",
      "source": [
        "!pip freeze"
      ],
      "metadata": {
        "colab": {
          "base_uri": "https://localhost:8080/"
        },
        "id": "D87nVXPQQbmS",
        "outputId": "0c9fea85-abb2-4825-b291-b03fd225e5c9"
      },
      "execution_count": null,
      "outputs": [
        {
          "output_type": "stream",
          "name": "stdout",
          "text": [
            "absl-py==1.0.0\n",
            "alabaster==0.7.12\n",
            "albumentations==0.1.12\n",
            "altair==4.2.0\n",
            "appdirs==1.4.4\n",
            "argon2-cffi==21.3.0\n",
            "argon2-cffi-bindings==21.2.0\n",
            "arviz==0.12.1\n",
            "astor==0.8.1\n",
            "astropy==4.3.1\n",
            "astunparse==1.6.3\n",
            "atari-py==0.2.9\n",
            "atomicwrites==1.4.0\n",
            "attrs==21.4.0\n",
            "audioread==2.1.9\n",
            "autograd==1.4\n",
            "Babel==2.10.1\n",
            "backcall==0.2.0\n",
            "beautifulsoup4==4.6.3\n",
            "bleach==5.0.0\n",
            "blis==0.4.1\n",
            "bokeh==2.3.3\n",
            "Bottleneck==1.3.4\n",
            "branca==0.5.0\n",
            "bs4==0.0.1\n",
            "CacheControl==0.12.11\n",
            "cached-property==1.5.2\n",
            "cachetools==4.2.4\n",
            "catalogue==1.0.0\n",
            "certifi==2022.5.18.1\n",
            "cffi==1.15.0\n",
            "cftime==1.6.0\n",
            "chardet==3.0.4\n",
            "charset-normalizer==2.0.12\n",
            "click==7.1.2\n",
            "cloudpickle==1.3.0\n",
            "cmake==3.22.4\n",
            "cmdstanpy==0.9.5\n",
            "colorcet==3.0.0\n",
            "colorlover==0.3.0\n",
            "community==1.0.0b1\n",
            "contextlib2==0.5.5\n",
            "convertdate==2.4.0\n",
            "coverage==3.7.1\n",
            "coveralls==0.5\n",
            "crcmod==1.7\n",
            "cufflinks==0.17.3\n",
            "cvxopt==1.2.7\n",
            "cvxpy==1.0.31\n",
            "cycler==0.11.0\n",
            "cymem==2.0.6\n",
            "Cython==0.29.30\n",
            "daft==0.0.4\n",
            "dask==2.12.0\n",
            "datascience==0.10.6\n",
            "debugpy==1.0.0\n",
            "decorator==4.4.2\n",
            "defusedxml==0.7.1\n",
            "descartes==1.1.0\n",
            "dill==0.3.5.1\n",
            "distributed==1.25.3\n",
            "dlib==19.18.0+zzzcolab20220513001918\n",
            "dm-tree==0.1.7\n",
            "docopt==0.6.2\n",
            "docutils==0.17.1\n",
            "dopamine-rl==1.0.5\n",
            "earthengine-api==0.1.311\n",
            "easydict==1.9\n",
            "ecos==2.0.10\n",
            "editdistance==0.5.3\n",
            "en-core-web-sm @ https://github.com/explosion/spacy-models/releases/download/en_core_web_sm-2.2.5/en_core_web_sm-2.2.5.tar.gz\n",
            "entrypoints==0.4\n",
            "ephem==4.1.3\n",
            "et-xmlfile==1.1.0\n",
            "fa2==0.3.5\n",
            "fastai==1.0.61\n",
            "fastdtw==0.3.4\n",
            "fastjsonschema==2.15.3\n",
            "fastprogress==1.0.2\n",
            "fastrlock==0.8\n",
            "fbprophet==0.7.1\n",
            "feather-format==0.4.1\n",
            "filelock==3.7.0\n",
            "firebase-admin==4.4.0\n",
            "fix-yahoo-finance==0.0.22\n",
            "Flask==1.1.4\n",
            "flatbuffers==2.0\n",
            "folium==0.8.3\n",
            "future==0.16.0\n",
            "gast==0.5.3\n",
            "GDAL==2.2.2\n",
            "gdown==4.4.0\n",
            "gensim==3.6.0\n",
            "geographiclib==1.52\n",
            "geopy==1.17.0\n",
            "gin-config==0.5.0\n",
            "glob2==0.7\n",
            "google==2.0.3\n",
            "google-api-core==1.31.6\n",
            "google-api-python-client==1.12.11\n",
            "google-auth==1.35.0\n",
            "google-auth-httplib2==0.0.4\n",
            "google-auth-oauthlib==0.4.6\n",
            "google-cloud-bigquery==1.21.0\n",
            "google-cloud-bigquery-storage==1.1.1\n",
            "google-cloud-core==1.0.3\n",
            "google-cloud-datastore==1.8.0\n",
            "google-cloud-firestore==1.7.0\n",
            "google-cloud-language==1.2.0\n",
            "google-cloud-storage==1.18.1\n",
            "google-cloud-translate==1.5.0\n",
            "google-colab @ file:///colabtools/dist/google-colab-1.0.0.tar.gz\n",
            "google-pasta==0.2.0\n",
            "google-resumable-media==0.4.1\n",
            "googleapis-common-protos==1.56.2\n",
            "googledrivedownloader==0.4\n",
            "graphviz==0.10.1\n",
            "greenlet==1.1.2\n",
            "grpcio==1.46.3\n",
            "gspread==3.4.2\n",
            "gspread-dataframe==3.0.8\n",
            "gym==0.17.3\n",
            "h5py==3.1.0\n",
            "HeapDict==1.0.1\n",
            "hijri-converter==2.2.4\n",
            "holidays==0.10.5.2\n",
            "holoviews==1.14.9\n",
            "html5lib==1.0.1\n",
            "httpimport==0.5.18\n",
            "httplib2==0.17.4\n",
            "httplib2shim==0.0.3\n",
            "humanize==0.5.1\n",
            "hyperopt==0.1.2\n",
            "ideep4py==2.0.0.post3\n",
            "idna==2.10\n",
            "imageio==2.4.1\n",
            "imagesize==1.3.0\n",
            "imbalanced-learn==0.8.1\n",
            "imblearn==0.0\n",
            "imgaug==0.2.9\n",
            "importlib-metadata==4.11.4\n",
            "importlib-resources==5.7.1\n",
            "imutils==0.5.4\n",
            "inflect==2.1.0\n",
            "iniconfig==1.1.1\n",
            "intel-openmp==2022.1.0\n",
            "intervaltree==2.1.0\n",
            "ipykernel==4.10.1\n",
            "ipython==5.5.0\n",
            "ipython-genutils==0.2.0\n",
            "ipython-sql==0.3.9\n",
            "ipywidgets==7.7.0\n",
            "itsdangerous==1.1.0\n",
            "jax==0.3.8\n",
            "jaxlib @ https://storage.googleapis.com/jax-releases/cuda11/jaxlib-0.3.7+cuda11.cudnn805-cp37-none-manylinux2014_x86_64.whl\n",
            "jedi==0.18.1\n",
            "jieba==0.42.1\n",
            "Jinja2==2.11.3\n",
            "joblib==1.1.0\n",
            "jpeg4py==0.1.4\n",
            "jsonschema==4.3.3\n",
            "jupyter==1.0.0\n",
            "jupyter-client==5.3.5\n",
            "jupyter-console==5.2.0\n",
            "jupyter-core==4.10.0\n",
            "jupyterlab-pygments==0.2.2\n",
            "jupyterlab-widgets==1.1.0\n",
            "kaggle==1.5.12\n",
            "kapre==0.3.7\n",
            "keras==2.8.0\n",
            "Keras-Preprocessing==1.1.2\n",
            "keras-vis==0.4.1\n",
            "kiwisolver==1.4.2\n",
            "korean-lunar-calendar==0.2.1\n",
            "libclang==14.0.1\n",
            "librosa==0.8.1\n",
            "lightgbm==2.2.3\n",
            "llvmlite==0.34.0\n",
            "lmdb==0.99\n",
            "LunarCalendar==0.0.9\n",
            "lxml==4.2.6\n",
            "Markdown==3.3.7\n",
            "MarkupSafe==2.0.1\n",
            "matplotlib==3.2.2\n",
            "matplotlib-inline==0.1.3\n",
            "matplotlib-venn==0.11.7\n",
            "missingno==0.5.1\n",
            "mistune==0.8.4\n",
            "mizani==0.6.0\n",
            "mkl==2019.0\n",
            "mlxtend==0.14.0\n",
            "more-itertools==8.13.0\n",
            "moviepy==0.2.3.5\n",
            "mpmath==1.2.1\n",
            "msgpack==1.0.3\n",
            "multiprocess==0.70.13\n",
            "multitasking==0.0.10\n",
            "murmurhash==1.0.7\n",
            "music21==5.5.0\n",
            "natsort==5.5.0\n",
            "nbclient==0.6.4\n",
            "nbconvert==5.6.1\n",
            "nbformat==5.4.0\n",
            "nest-asyncio==1.5.5\n",
            "netCDF4==1.5.8\n",
            "networkx==2.6.3\n",
            "nibabel==3.0.2\n",
            "nltk==3.2.5\n",
            "notebook==5.3.1\n",
            "numba==0.51.2\n",
            "numexpr==2.8.1\n",
            "numpy==1.21.6\n",
            "nvidia-ml-py3==7.352.0\n",
            "oauth2client==4.1.3\n",
            "oauthlib==3.2.0\n",
            "okgrade==0.4.3\n",
            "opencv-contrib-python==4.1.2.30\n",
            "opencv-python==4.1.2.30\n",
            "openpyxl==3.0.10\n",
            "opt-einsum==3.3.0\n",
            "osqp==0.6.2.post0\n",
            "packaging==21.3\n",
            "palettable==3.3.0\n",
            "pandas==1.3.5\n",
            "pandas-datareader==0.9.0\n",
            "pandas-gbq==0.13.3\n",
            "pandas-profiling==1.4.1\n",
            "pandocfilters==1.5.0\n",
            "panel==0.12.1\n",
            "param==1.12.1\n",
            "parso==0.8.3\n",
            "pathlib==1.0.1\n",
            "patsy==0.5.2\n",
            "pep517==0.12.0\n",
            "pexpect==4.8.0\n",
            "pickleshare==0.7.5\n",
            "Pillow==7.1.2\n",
            "pip-tools==6.2.0\n",
            "plac==1.1.3\n",
            "plotly==5.5.0\n",
            "plotnine==0.6.0\n",
            "pluggy==0.7.1\n",
            "pooch==1.6.0\n",
            "portpicker==1.3.9\n",
            "prefetch-generator==1.0.1\n",
            "preshed==3.0.6\n",
            "prettytable==3.3.0\n",
            "progressbar2==3.38.0\n",
            "prometheus-client==0.14.1\n",
            "promise==2.3\n",
            "prompt-toolkit==1.0.18\n",
            "protobuf==3.17.3\n",
            "psutil==5.4.8\n",
            "psycopg2==2.7.6.1\n",
            "ptyprocess==0.7.0\n",
            "py==1.11.0\n",
            "pyarrow==6.0.1\n",
            "pyasn1==0.4.8\n",
            "pyasn1-modules==0.2.8\n",
            "pycocotools==2.0.4\n",
            "pycparser==2.21\n",
            "pyct==0.4.8\n",
            "pydata-google-auth==1.4.0\n",
            "pydot==1.3.0\n",
            "pydot-ng==2.0.0\n",
            "pydotplus==2.0.2\n",
            "PyDrive==1.3.1\n",
            "pyemd==0.5.1\n",
            "pyerfa==2.0.0.1\n",
            "pyglet==1.5.0\n",
            "Pygments==2.6.1\n",
            "pygobject==3.26.1\n",
            "pymc3==3.11.4\n",
            "PyMeeus==0.5.11\n",
            "pymongo==4.1.1\n",
            "pymystem3==0.2.0\n",
            "PyOpenGL==3.1.6\n",
            "pyparsing==3.0.9\n",
            "pyrsistent==0.18.1\n",
            "pysndfile==1.3.8\n",
            "PySocks==1.7.1\n",
            "pystan==2.19.1.1\n",
            "pytest==3.6.4\n",
            "python-apt==0.0.0\n",
            "python-chess==0.23.11\n",
            "python-dateutil==2.8.2\n",
            "python-louvain==0.16\n",
            "python-slugify==6.1.2\n",
            "python-utils==3.2.3\n",
            "pytz==2022.1\n",
            "pyviz-comms==2.2.0\n",
            "PyWavelets==1.3.0\n",
            "PyYAML==3.13\n",
            "pyzmq==23.0.0\n",
            "qdldl==0.1.5.post2\n",
            "qtconsole==5.3.0\n",
            "QtPy==2.1.0\n",
            "regex==2019.12.20\n",
            "requests==2.23.0\n",
            "requests-oauthlib==1.3.1\n",
            "resampy==0.2.2\n",
            "rpy2==3.4.5\n",
            "rsa==4.8\n",
            "scikit-image==0.18.3\n",
            "scikit-learn==1.0.2\n",
            "scipy==1.4.1\n",
            "screen-resolution-extra==0.0.0\n",
            "scs==3.2.0\n",
            "seaborn==0.11.2\n",
            "semver==2.13.0\n",
            "Send2Trash==1.8.0\n",
            "setuptools-git==1.2\n",
            "Shapely==1.8.2\n",
            "simplegeneric==0.8.1\n",
            "six==1.15.0\n",
            "sklearn==0.0\n",
            "sklearn-pandas==1.8.0\n",
            "smart-open==6.0.0\n",
            "snowballstemmer==2.2.0\n",
            "sortedcontainers==2.4.0\n",
            "SoundFile==0.10.3.post1\n",
            "soupsieve==2.3.2.post1\n",
            "spacy==2.2.4\n",
            "Sphinx==1.8.6\n",
            "sphinxcontrib-serializinghtml==1.1.5\n",
            "sphinxcontrib-websupport==1.2.4\n",
            "SQLAlchemy==1.4.36\n",
            "sqlparse==0.4.2\n",
            "srsly==1.0.5\n",
            "statsmodels==0.10.2\n",
            "sympy==1.7.1\n",
            "tables==3.7.0\n",
            "tabulate==0.8.9\n",
            "tblib==1.7.0\n",
            "tenacity==8.0.1\n",
            "tensorboard==2.8.0\n",
            "tensorboard-data-server==0.6.1\n",
            "tensorboard-plugin-wit==1.8.1\n",
            "tensorflow==2.8.2+zzzcolab20220527125636\n",
            "tensorflow-datasets==4.0.1\n",
            "tensorflow-estimator==2.8.0\n",
            "tensorflow-gcs-config==2.8.0\n",
            "tensorflow-hub==0.12.0\n",
            "tensorflow-io-gcs-filesystem==0.26.0\n",
            "tensorflow-metadata==1.8.0\n",
            "tensorflow-probability==0.16.0\n",
            "termcolor==1.1.0\n",
            "terminado==0.13.3\n",
            "testpath==0.6.0\n",
            "text-unidecode==1.3\n",
            "textblob==0.15.3\n",
            "Theano-PyMC==1.1.2\n",
            "thinc==7.4.0\n",
            "threadpoolctl==3.1.0\n",
            "tifffile==2021.11.2\n",
            "tinycss2==1.1.1\n",
            "tomli==2.0.1\n",
            "toolz==0.11.2\n",
            "torch @ https://download.pytorch.org/whl/cu113/torch-1.11.0%2Bcu113-cp37-cp37m-linux_x86_64.whl\n",
            "torchaudio @ https://download.pytorch.org/whl/cu113/torchaudio-0.11.0%2Bcu113-cp37-cp37m-linux_x86_64.whl\n",
            "torchsummary==1.5.1\n",
            "torchtext==0.12.0\n",
            "torchvision @ https://download.pytorch.org/whl/cu113/torchvision-0.12.0%2Bcu113-cp37-cp37m-linux_x86_64.whl\n",
            "tornado==5.1.1\n",
            "tqdm==4.64.0\n",
            "traitlets==5.1.1\n",
            "tweepy==3.10.0\n",
            "typeguard==2.7.1\n",
            "typing-extensions==4.2.0\n",
            "tzlocal==1.5.1\n",
            "uritemplate==3.0.1\n",
            "urllib3==1.24.3\n",
            "vega-datasets==0.9.0\n",
            "wasabi==0.9.1\n",
            "wcwidth==0.2.5\n",
            "webencodings==0.5.1\n",
            "Werkzeug==1.0.1\n",
            "widgetsnbextension==3.6.0\n",
            "wordcloud==1.5.0\n",
            "wrapt==1.14.1\n",
            "xarray==0.20.2\n",
            "xarray-einstats==0.2.2\n",
            "xgboost==0.90\n",
            "xkit==0.0.0\n",
            "xlrd==1.1.0\n",
            "xlwt==1.3.0\n",
            "yellowbrick==1.4\n",
            "zict==2.2.0\n",
            "zipp==3.8.0\n"
          ]
        }
      ]
    },
    {
      "cell_type": "code",
      "source": [
        "import pickle\n",
        "pickle.dump(tfidf_bucket, open(\"tfidf_bucket.sav\", \"wb\"))\n",
        "pickle.dump(rfc_bucket, open(\"rfc_bucket.sav\", \"wb\"))"
      ],
      "metadata": {
        "id": "4-iCSN2hL6Ak"
      },
      "execution_count": null,
      "outputs": []
    },
    {
      "cell_type": "markdown",
      "source": [
        "# Experiment 5(b): MultiLabel and using from uni to bigrams"
      ],
      "metadata": {
        "id": "UnVSqfkXzn7G"
      }
    },
    {
      "cell_type": "code",
      "source": [
        "def test_multilabel(y_true, y_pred):\n",
        "  # labels = {}\n",
        "  labels = {('non-rp', 'non-rtrc', 'abstract'): 'Abstract', \n",
        "    ('non-rp', 'non-rtrc', 'non-abstract'): 'Other', \n",
        "    ('non-rp', 'rtrc', 'non-abstract'): 'Response to reviewer comments', \n",
        "    ('rp', 'non-rtrc', 'non-abstract'): 'Research paper_Journal article'}\n",
        "  labels_ = [\"Abstract\", \"Other\", \"Response to reviewer comments\", \"Research paper_Journal article\"]\n",
        "  # for i,j in enumerate(np.unique(np.array(y_pred).astype(\"<U22\"), axis = 0)):\n",
        "  #   labels[tuple(j)] = labels_[i]\n",
        "  y_pred_simple = []\n",
        "  for i in np.array(y_pred):\n",
        "    y_pred_simple.append(labels[tuple(i)])\n",
        "  return y_pred_simple\n",
        "\n",
        "def predict(rfc, tfidf_text, tfidf_headings, df, headings_text = False):\n",
        "  X_text = tfidf_text.transform(df.text)\n",
        "  if headings_text:\n",
        "    X_headings = tfidf_headings.transform(df.heading_text)\n",
        "    X_total = hstack([X_text,X_headings,df[[\"word_count2\",\"n_tables\",\"n_images\"]].astype(float)])\n",
        "  else:\n",
        "    X_total = hstack([X_text,df[[\"word_count2\",\"n_tables\",\"n_images\"]].astype(float)])\n",
        "  y_true = df.doc_category\n",
        "  y_pred = rfc.predict(X_total)\n",
        "  return y_true, y_pred\n",
        "\n",
        "def scorer_multilabel(rfc, X, y):\n",
        "  y_pred = rfc.predict(X)\n",
        "  y_true_simple = test_multilabel(y, y)\n",
        "  y_pred_simple = test_multilabel(y, y_pred)\n",
        "  cr_ = cr(y_true_simple, y_pred_simple, output_dict = True)\n",
        "  res = {\n",
        "      \"accuracy\":cr_[\"accuracy\"],\n",
        "      \"rp_precision\":cr_[\"Research paper_Journal article\"][\"precision\"], \n",
        "      \"rtrc_precision\":cr_[\"Response to reviewer comments\"][\"precision\"],\n",
        "      \"abstract_precision\":cr_[\"Abstract\"][\"precision\"],\n",
        "      \"rp_recall\":cr_['Research paper_Journal article'][\"recall\"],\n",
        "      \"weighted_f1_score\":cr_['weighted avg'][\"f1-score\"],\n",
        "      \"precision_weighted\":cr_['weighted avg']['precision'],\n",
        "      \"recall_weighted\":cr_['weighted avg']['recall']\n",
        "  }\n",
        "  return res\n",
        "\n",
        "class_weights= [\n",
        "                {\"rp\":1, \"non-rp\":0.1},\n",
        "                {\"rtrc\":1, \"non-rtrc\":0.5},\n",
        "                {\"abstract\":1, \"non-abstract\":0.5}\n",
        "]\n",
        "tfidf_bucket = TfidfVectorizer(stop_words= \"english\", use_idf = True, norm = None, ngram_range = (1,2), min_df = 0.1111, max_df = 0.999)\n",
        "X = tfidf_bucket.fit_transform(df_allcat_train_cv.text)\n",
        "rfc_bucket = RandomForestClassifier(n_estimators = 100, criterion = \"entropy\", random_state = 32, class_weight = class_weights)\n",
        "rfc_bucket.fit(X, df_allcat_train_cv[[\"rp\",\"rtrc\",\"abstract\"]])\n",
        "\n",
        "print(\"*************Cross_Validation_Results**********\")\n",
        "pipe = Pipeline([(\"tfidf\",tfidf_bucket), (\"rfc\", rfc_bucket)])\n",
        "df_ = df.sample(frac=1).reset_index(drop = True) \n",
        "cv_result  = cross_validate(pipe, df_.text, df_[[\"rp\",\"rtrc\",\"abstract\"]], cv = 5, scoring = scorer_multilabel)\n",
        "print(pd.DataFrame(cv_result).mean(axis = 0))\n",
        "\n",
        "print(\"\\n\\n*************Gold_Data_Test_Results************\")\n",
        "\n",
        "gold_res = {}\n",
        "y_true_gold = full_gold.doc_category\n",
        "t1 = time()\n",
        "X_gold_bucket = tfidf_bucket.transform(full_gold.text).toarray()\n",
        "t2 = time()\n",
        "y_pred_gold = rfc_bucket.predict(X_gold_bucket)\n",
        "y_pred_simple_gold = test_multilabel(y_true_gold, y_pred_gold)\n",
        "t3 = time()\n",
        "gold_res[\"vectorizing_time\"] = (t2-t1)/X_gold_bucket.shape[0]\n",
        "gold_res[\"inference_time\"] = (t3-t2)/X_gold_bucket.shape[0]\n",
        "gold_res[\"feature_vector_size\"] = X_gold_bucket.shape[1]\n",
        "print(cr(full_gold.doc_category, y_pred_simple_gold))\n",
        "cmd(confusion_matrix=cm(y_true_gold,y_pred_simple_gold), display_labels=y_true_gold.unique()).plot(xticks_rotation='vertical')\n",
        "plt.show()\n",
        "gold_res\n",
        "# #On Gold\n",
        "# y_pred = rfc.predict(tfidf.transform(full_gold.text))\n",
        "# y_true = full_gold.doc_category\n",
        "# y_pred_simple_gold = test_multilabel(y_true, y_pred)"
      ],
      "metadata": {
        "colab": {
          "base_uri": "https://localhost:8080/",
          "height": 935
        },
        "id": "TXAJmdISxL8r",
        "outputId": "9b837e20-2a5f-4a75-af39-a11844d5cc16"
      },
      "execution_count": null,
      "outputs": [
        {
          "output_type": "stream",
          "name": "stdout",
          "text": [
            "*************Cross_Validation_Results**********\n",
            "fit_time                   14.895399\n",
            "score_time                  1.629524\n",
            "test_accuracy               0.699814\n",
            "test_rp_precision           0.705749\n",
            "test_rtrc_precision         0.944573\n",
            "test_abstract_precision     0.812062\n",
            "test_rp_recall              0.648998\n",
            "test_weighted_f1_score      0.705853\n",
            "test_precision_weighted     0.734588\n",
            "test_recall_weighted        0.699814\n",
            "dtype: float64\n",
            "\n",
            "\n",
            "*************Gold_Data_Test_Results************\n",
            "                                precision    recall  f1-score   support\n",
            "\n",
            "                      Abstract       1.00      0.94      0.97        18\n",
            "                         Other       0.71      0.93      0.81        29\n",
            "Research paper_Journal article       0.87      0.72      0.79        18\n",
            " Response to reviewer comments       1.00      0.75      0.86        20\n",
            "\n",
            "                      accuracy                           0.85        85\n",
            "                     macro avg       0.89      0.84      0.86        85\n",
            "                  weighted avg       0.87      0.85      0.85        85\n",
            "\n"
          ]
        },
        {
          "output_type": "display_data",
          "data": {
            "text/plain": [
              "<Figure size 432x288 with 2 Axes>"
            ],
            "image/png": "[encoded data removed]"
          },
          "metadata": {
            "needs_background": "light"
          }
        },
        {
          "output_type": "execute_result",
          "data": {
            "text/plain": [
              "{'feature_vector_size': 836,\n",
              " 'inference_time': 0.0002648634069106158,\n",
              " 'vectorizing_time': 0.0030195516698500687}"
            ]
          },
          "metadata": {},
          "execution_count": 198
        }
      ]
    },
    {
      "cell_type": "markdown",
      "source": [
        "# Experiment 5(c): Multilabel, class weights, bigrams, Stemming"
      ],
      "metadata": {
        "id": "0BwIxYqQ0DPh"
      }
    },
    {
      "cell_type": "code",
      "source": [
        "def test_multilabel(y_true, y_pred):\n",
        "  # labels = {}\n",
        "  labels = {('non-rp', 'non-rtrc', 'abstract'): 'Abstract', \n",
        "    ('non-rp', 'non-rtrc', 'non-abstract'): 'Other', \n",
        "    ('non-rp', 'rtrc', 'non-abstract'): 'Response to reviewer comments', \n",
        "    ('rp', 'non-rtrc', 'non-abstract'): 'Research paper_Journal article'}\n",
        "  labels_ = [\"Abstract\", \"Other\", \"Response to reviewer comments\", \"Research paper_Journal article\"]\n",
        "  # for i,j in enumerate(np.unique(np.array(y_pred).astype(\"<U22\"), axis = 0)):\n",
        "  #   labels[tuple(j)] = labels_[i]\n",
        "  y_pred_simple = []\n",
        "  for i in np.array(y_pred):\n",
        "    y_pred_simple.append(labels[tuple(i)])\n",
        "  return y_pred_simple\n",
        "\n",
        "def predict(rfc, tfidf_text, tfidf_headings, df, headings_text = False):\n",
        "  X_text = tfidf_text.transform(df.text)\n",
        "  if headings_text:\n",
        "    X_headings = tfidf_headings.transform(df.heading_text)\n",
        "    X_total = hstack([X_text,X_headings,df[[\"word_count2\",\"n_tables\",\"n_images\"]].astype(float)])\n",
        "  else:\n",
        "    X_total = hstack([X_text,df[[\"word_count2\",\"n_tables\",\"n_images\"]].astype(float)])\n",
        "  y_true = df.doc_category\n",
        "  y_pred = rfc.predict(X_total)\n",
        "  return y_true, y_pred\n",
        "\n",
        "def scorer_multilabel(rfc, X, y):\n",
        "  y_pred = rfc.predict(X)\n",
        "  y_true_simple = test_multilabel(y, y)\n",
        "  y_pred_simple = test_multilabel(y, y_pred)\n",
        "  cr_ = cr(y_true_simple, y_pred_simple, output_dict = True)\n",
        "  res = {\n",
        "      \"accuracy\":cr_[\"accuracy\"],\n",
        "      \"rp_precision\":cr_[\"Research paper_Journal article\"][\"precision\"], \n",
        "      \"rtrc_precision\":cr_[\"Response to reviewer comments\"][\"precision\"],\n",
        "      \"abstract_precision\":cr_[\"Abstract\"][\"precision\"],\n",
        "      \"rp_recall\":cr_['Research paper_Journal article'][\"recall\"],\n",
        "      \"weighted_f1_score\":cr_['weighted avg'][\"f1-score\"],\n",
        "      \"precision_weighted\":cr_['weighted avg']['precision'],\n",
        "      \"recall_weighted\":cr_['weighted avg']['recall']\n",
        "  }\n",
        "  return res\n",
        "\n",
        "class_weights= [\n",
        "                {\"rp\":1, \"non-rp\":0.1},\n",
        "                {\"rtrc\":1, \"non-rtrc\":0.5},\n",
        "                {\"abstract\":1, \"non-abstract\":0.5}\n",
        "]\n",
        "tfidf_bucket = TfidfVectorizer(tokenizer = tokenize, use_idf = True, norm = None, ngram_range = (1,2), min_df = 0.1111, max_df = 0.999)\n",
        "X = tfidf_bucket.fit_transform(df_allcat_train_cv.text)\n",
        "rfc_bucket = RandomForestClassifier(n_estimators = 100, criterion = \"entropy\", random_state = 32, class_weight = class_weights)\n",
        "rfc_bucket.fit(X, df_allcat_train_cv[[\"rp\",\"rtrc\",\"abstract\"]])\n",
        "\n",
        "print(\"*************Cross_Validation_Results**********\")\n",
        "pipe = Pipeline([(\"tfidf\",tfidf_bucket), (\"rfc\", rfc_bucket)])\n",
        "df_ = df.sample(frac=1).reset_index(drop = True) \n",
        "cv_result  = cross_validate(pipe, df_.text, df_[[\"rp\",\"rtrc\",\"abstract\"]], cv = 5, scoring = scorer_multilabel)\n",
        "print(pd.DataFrame(cv_result).mean(axis = 0))\n",
        "\n",
        "print(\"\\n\\n*************Gold_Data_Test_Results************\")\n",
        "\n",
        "gold_res = {}\n",
        "y_true_gold = full_gold.doc_category\n",
        "t1 = time()\n",
        "X_gold_bucket = tfidf_bucket.transform(full_gold.text).toarray()\n",
        "t2 = time()\n",
        "y_pred_gold = rfc_bucket.predict(X_gold_bucket)\n",
        "y_pred_simple_gold = test_multilabel(y_true_gold, y_pred_gold)\n",
        "t3 = time()\n",
        "gold_res[\"vectorizing_time\"] = (t2-t1)/X_gold_bucket.shape[0]\n",
        "gold_res[\"inference_time\"] = (t3-t2)/X_gold_bucket.shape[0]\n",
        "gold_res[\"feature_vector_size\"] = X_gold_bucket.shape[1]\n",
        "print(cr(full_gold.doc_category, y_pred_simple_gold))\n",
        "cmd(confusion_matrix=cm(y_true_gold,y_pred_simple_gold), display_labels=y_true_gold.unique()).plot(xticks_rotation='vertical')\n",
        "plt.show()\n",
        "gold_res\n",
        "# #On Gold\n",
        "# y_pred = rfc.predict(tfidf.transform(full_gold.text))\n",
        "# y_true = full_gold.doc_category\n",
        "# y_pred_simple_gold = test_multilabel(y_true, y_pred)"
      ],
      "metadata": {
        "colab": {
          "base_uri": "https://localhost:8080/",
          "height": 939
        },
        "id": "Z1Ajhh1g0GZM",
        "outputId": "e92cc668-986e-4860-826b-d403a9c71eaa"
      },
      "execution_count": null,
      "outputs": [
        {
          "output_type": "stream",
          "name": "stdout",
          "text": [
            "*************Cross_Validation_Results**********\n",
            "fit_time                   133.273586\n",
            "score_time                  31.216159\n",
            "test_accuracy                0.692022\n",
            "test_rp_precision            0.698168\n",
            "test_rtrc_precision          0.953421\n",
            "test_abstract_precision      0.790908\n",
            "test_rp_recall               0.658223\n",
            "test_weighted_f1_score       0.697552\n",
            "test_precision_weighted      0.727902\n",
            "test_recall_weighted         0.692022\n",
            "dtype: float64\n",
            "\n",
            "\n",
            "*************Gold_Data_Test_Results************\n",
            "                                precision    recall  f1-score   support\n",
            "\n",
            "                      Abstract       0.94      0.94      0.94        18\n",
            "                         Other       0.74      0.86      0.79        29\n",
            "Research paper_Journal article       0.82      0.78      0.80        18\n",
            " Response to reviewer comments       1.00      0.80      0.89        20\n",
            "\n",
            "                      accuracy                           0.85        85\n",
            "                     macro avg       0.88      0.85      0.86        85\n",
            "                  weighted avg       0.86      0.85      0.85        85\n",
            "\n"
          ]
        },
        {
          "output_type": "display_data",
          "data": {
            "text/plain": [
              "<Figure size 432x288 with 2 Axes>"
            ],
            "image/png": "[encoded data removed]"
          },
          "metadata": {
            "needs_background": "light"
          }
        },
        {
          "output_type": "execute_result",
          "data": {
            "text/plain": [
              "{'feature_vector_size': 901,\n",
              " 'inference_time': 0.00023583804859834558,\n",
              " 'vectorizing_time': 0.058342728895299574}"
            ]
          },
          "metadata": {},
          "execution_count": 199
        }
      ]
    },
    {
      "cell_type": "code",
      "source": [
        "plt.figure(figsize = (10,10))\n",
        "plt.bar(x, y)\n",
        "plt.xticks(rotation = 45)\n",
        "plt.xlabel(\"KEYWORDS\")\n",
        "plt.ylabel(\"KEYWORD IMPORTANCE\")\n",
        "plt.show()"
      ],
      "metadata": {
        "colab": {
          "base_uri": "https://localhost:8080/",
          "height": 645
        },
        "id": "iLfN_7jpIMfi",
        "outputId": "31f127e3-507a-4c67-9bd6-4eff39cb1d92"
      },
      "execution_count": null,
      "outputs": [
        {
          "output_type": "display_data",
          "data": {
            "text/plain": [
              "<Figure size 720x720 with 1 Axes>"
            ],
            "image/png": "[encoded data removed]"
          },
          "metadata": {
            "needs_background": "light"
          }
        }
      ]
    },
    {
      "cell_type": "markdown",
      "source": [
        "# Experiment 5(d): Pruning Multilabel(Failed)"
      ],
      "metadata": {
        "id": "N9YAgUB0y30Z"
      }
    },
    {
      "cell_type": "code",
      "source": [
        "from tqdm import tqdm\n",
        "def test_multilabel_prune(y_true, y_pred):\n",
        "  labels = {}\n",
        "  labels_ = [\"Abstract\", \"Other\", \"Response to reviewer comments\", \"Research paper_Journal article\"]\n",
        "  for i,j in enumerate(np.unique(y_pred.astype(\"<U22\"),axis = 0)):\n",
        "    labels[tuple(j)] = labels_[i]\n",
        "  y_pred_simple = []\n",
        "  for i in y_pred.astype(\"<U22\"):\n",
        "    y_pred_simple.append(labels[tuple(i)])\n",
        "  # print(cr(y_true,y_pred_simple))\n",
        "  # print(cm(y_true,y_pred_simple))\n",
        "  return np.array(y_pred_simple)\n",
        "def create_classifier_signature(tree, df, rfc_, tfidf):\n",
        "  '''\n",
        "  x_test should be in vectorised form \n",
        "  '''\n",
        "  x_test = tfidf.transform(list(df.text))\n",
        "  classes = rfc_.classes_\n",
        "  y_test = df.doc_category\n",
        "  pred_tree_complex = tree.predict(x_test)\n",
        "  pred_classes= test_multilabel_prune(y_test, pred_tree_complex)\n",
        "  # dd  ={}\n",
        "  # for k,v in enumerate(classes):\n",
        "  #   dd[k] = v\n",
        "  # pred_classes = [dd[i] for i in pred_tree]\n",
        "\n",
        "  #Calculating Signature of a tree \n",
        "  signature = np.empty(pred_classes.shape)\n",
        "  for i, j in enumerate(pred_classes):\n",
        "    if j == y_test[i]:\n",
        "      signature[i] = 1\n",
        "    else:\n",
        "      signature[i] = -1\n",
        "  return signature\n",
        "\n",
        "rf = rfc_bucket\n",
        "tfidf_small = tfidf_bucket\n",
        "rf_signature_list = []\n",
        "for i in tqdm(range(len(rf.estimators_))):\n",
        "  classifier_signature = create_classifier_signature(rf.estimators_[i], df_allcat_train, rf, tfidf_small)\n",
        "  rf_signature_list.append(classifier_signature)\n",
        "rf_signature_list = np.array(rf_signature_list)"
      ],
      "metadata": {
        "colab": {
          "base_uri": "https://localhost:8080/"
        },
        "id": "dTPKJO6BMhGt",
        "outputId": "2c81fe13-7708-416b-bdcc-4ec5d1d4ad13"
      },
      "execution_count": null,
      "outputs": [
        {
          "output_type": "stream",
          "name": "stderr",
          "text": [
            "100%|██████████| 130/130 [06:43<00:00,  3.11s/it]\n"
          ]
        }
      ]
    },
    {
      "cell_type": "code",
      "source": [
        "rf_signature_list.shape"
      ],
      "metadata": {
        "colab": {
          "base_uri": "https://localhost:8080/"
        },
        "id": "-ONcVH5jUUxh",
        "outputId": "e021e54d-c427-4365-dd79-5221388c988b"
      },
      "execution_count": null,
      "outputs": [
        {
          "output_type": "execute_result",
          "data": {
            "text/plain": [
              "(130, 2155)"
            ]
          },
          "metadata": {},
          "execution_count": 20
        }
      ]
    },
    {
      "cell_type": "code",
      "source": [
        "rf_signature_vector = np.average(rf_signature_list, axis = 0)\n",
        "rf_signature_vector.shape"
      ],
      "metadata": {
        "colab": {
          "base_uri": "https://localhost:8080/"
        },
        "id": "KRC1QWvMUEK6",
        "outputId": "1d752f10-26c8-472a-ac12-e31085a34231"
      },
      "execution_count": null,
      "outputs": [
        {
          "output_type": "execute_result",
          "data": {
            "text/plain": [
              "(2155,)"
            ]
          },
          "metadata": {},
          "execution_count": 21
        }
      ]
    },
    {
      "cell_type": "code",
      "source": [
        "# 'O' is like the ideal vector where the rf_signature vector should have pointed. \n",
        "def lambda_(x):\n",
        "  o = np.ones(x.shape)\n",
        "  l = (-o @ x) / (np.linalg.norm(x))**2\n",
        "  return l"
      ],
      "metadata": {
        "id": "_m8kI6LnUHgl"
      },
      "execution_count": null,
      "outputs": []
    },
    {
      "cell_type": "code",
      "source": [
        "#Calculating the reference vector \n",
        "alph = lambda_(rf_signature_vector)\n",
        "rf_reference_vector = np.ones(rf_signature_vector.shape) + alph * rf_signature_vector\n",
        "rf_reference_vector.shape"
      ],
      "metadata": {
        "colab": {
          "base_uri": "https://localhost:8080/"
        },
        "id": "s3QhNN2RUJm_",
        "outputId": "9d565cf9-e38b-4b1d-8a72-3a4df9f89c1c"
      },
      "execution_count": null,
      "outputs": [
        {
          "output_type": "execute_result",
          "data": {
            "text/plain": [
              "(2155,)"
            ]
          },
          "metadata": {},
          "execution_count": 23
        }
      ]
    },
    {
      "cell_type": "code",
      "source": [
        "dot  = rf_signature_list @ rf_reference_vector\n",
        "orientations = dot / np.linalg.norm(rf_signature_list, axis = 1) / np.linalg.norm(rf_reference_vector)"
      ],
      "metadata": {
        "id": "K_0CH9XWUL6n"
      },
      "execution_count": null,
      "outputs": []
    },
    {
      "cell_type": "code",
      "source": [
        "#Selecting thise DT's that are in first quadrant of rf_reference_vector and rf_signature_vector\n",
        "final_ensemble = []\n",
        "for i,j in enumerate(orientations):\n",
        "  if j < 1.57 and j > 0:\n",
        "    final_ensemble.append(rf.estimators_[i])"
      ],
      "metadata": {
        "id": "PusXF06xUQaM"
      },
      "execution_count": null,
      "outputs": []
    },
    {
      "cell_type": "code",
      "source": [
        "def encode(y, rfc_):\n",
        "  classes = rfc_.classes_\n",
        "  dd = {\"Abstract\":(0,0,0),\n",
        "      \"Research paper_Journal article\":(1,0,1),\n",
        "      \"Response to reviewer comments\":(0,1,1),\n",
        "      \"Other\":(0,0,1)}\n",
        "  # for k,v in enumerate(classes):\n",
        "  #   dd[tuple(v)] = k\n",
        "  # print(dd)\n",
        "  label = []\n",
        "  for i,j in enumerate(y):\n",
        "    label.append(np.array(dd[j]))\n",
        "  return np.array(label)"
      ],
      "metadata": {
        "id": "ZpsG9N8HU0xM"
      },
      "execution_count": null,
      "outputs": []
    },
    {
      "cell_type": "code",
      "source": [
        "tree_to_label = {\n",
        "    (0,0,0):(0,0,1,0),\n",
        "    (0,0,1): (0,0,0,1),\n",
        "    (0,1,1): (0,1,0,0),\n",
        "    (1,0,1): (1,0,0,0)\n",
        "}\n",
        "\n",
        "index_to_label_dict = {\n",
        "    0:'Research paper_Journal article',\n",
        "    1:'Response to reviewer comments',\n",
        "    2:'Abstract',\n",
        "    3:'Other'\n",
        "}"
      ],
      "metadata": {
        "id": "Z3Bmcf9CmfVx"
      },
      "execution_count": null,
      "outputs": []
    },
    {
      "cell_type": "code",
      "source": [
        "df_allcat_train_cv.doc_category.unique()"
      ],
      "metadata": {
        "colab": {
          "base_uri": "https://localhost:8080/"
        },
        "id": "nwe84c-j97CA",
        "outputId": "d1c0ab45-bb76-4a89-f8aa-40ec9d6c7972"
      },
      "execution_count": null,
      "outputs": [
        {
          "output_type": "execute_result",
          "data": {
            "text/plain": [
              "array(['Abstract', 'Research paper_Journal article',\n",
              "       'Response to reviewer comments', 'Other'], dtype=object)"
            ]
          },
          "metadata": {},
          "execution_count": 100
        }
      ]
    },
    {
      "cell_type": "code",
      "source": [
        "y1 = np.apply_along_axis(one_hot, 1,final_ensemble[0].predict(X))\n",
        "y2 = np.apply_along_axis(one_hot, 1,final_ensemble[1].predict(X))"
      ],
      "metadata": {
        "id": "O1neNcvUliKO"
      },
      "execution_count": null,
      "outputs": []
    },
    {
      "cell_type": "code",
      "source": [
        "y1 = y1.reshape((2425,1,4))\n",
        "y2 = y2.reshape((2425,1,4))"
      ],
      "metadata": {
        "id": "4TueXYy75ArW"
      },
      "execution_count": null,
      "outputs": []
    },
    {
      "cell_type": "code",
      "source": [
        "y1[0][0]"
      ],
      "metadata": {
        "colab": {
          "base_uri": "https://localhost:8080/"
        },
        "id": "LtNZjmIk6VvP",
        "outputId": "885012fc-fbda-4d7c-da0c-b2eff2847ea6"
      },
      "execution_count": null,
      "outputs": [
        {
          "output_type": "execute_result",
          "data": {
            "text/plain": [
              "array([0, 0, 1, 0])"
            ]
          },
          "metadata": {},
          "execution_count": 70
        }
      ]
    },
    {
      "cell_type": "code",
      "source": [
        "y_comb = np.concatenate((y1,y2), axis = 1)"
      ],
      "metadata": {
        "id": "0Gq7qMup5b7i"
      },
      "execution_count": null,
      "outputs": []
    },
    {
      "cell_type": "code",
      "source": [
        "y_voting = np.average(y_comb, axis = 1)"
      ],
      "metadata": {
        "id": "wv5xr1x66jjX"
      },
      "execution_count": null,
      "outputs": []
    },
    {
      "cell_type": "code",
      "source": [
        "y_voting_index = np.argmax(y_voting , axis = 1)"
      ],
      "metadata": {
        "id": "5fQi9KXA7rZu"
      },
      "execution_count": null,
      "outputs": []
    },
    {
      "cell_type": "code",
      "source": [
        "def index_to_label(x):\n",
        "  return index_to_label_dict[x[0]]"
      ],
      "metadata": {
        "id": "-3m3-hxM9P_x"
      },
      "execution_count": null,
      "outputs": []
    },
    {
      "cell_type": "code",
      "source": [
        "y_voting_index = y_voting_index.reshape((1,2425))"
      ],
      "metadata": {
        "id": "k2fTTIsk_6cS"
      },
      "execution_count": null,
      "outputs": []
    },
    {
      "cell_type": "code",
      "source": [
        "y_voting_index[0][0]"
      ],
      "metadata": {
        "colab": {
          "base_uri": "https://localhost:8080/"
        },
        "id": "JNXYF2t-AYWA",
        "outputId": "f8434973-cece-437d-d0c8-9648e34064d4"
      },
      "execution_count": null,
      "outputs": [
        {
          "output_type": "execute_result",
          "data": {
            "text/plain": [
              "2"
            ]
          },
          "metadata": {},
          "execution_count": 122
        }
      ]
    },
    {
      "cell_type": "code",
      "source": [
        "np.apply_along_axis(index_to_label, 0, y_voting_index)"
      ],
      "metadata": {
        "colab": {
          "base_uri": "https://localhost:8080/"
        },
        "id": "dDBi9U0S_h1g",
        "outputId": "a42d9f61-4edb-4cbc-dbbf-2891c19e780c"
      },
      "execution_count": null,
      "outputs": [
        {
          "output_type": "execute_result",
          "data": {
            "text/plain": [
              "array(['Abstract', 'Research', 'Research', ..., 'Other', 'Response',\n",
              "       'Other'], dtype='<U8')"
            ]
          },
          "metadata": {},
          "execution_count": 128
        }
      ]
    },
    {
      "cell_type": "code",
      "source": [
        "def one_hot(x):\n",
        "  return tree_to_label[tuple(x)]"
      ],
      "metadata": {
        "id": "BeKXokdUyMnW"
      },
      "execution_count": null,
      "outputs": []
    },
    {
      "cell_type": "code",
      "source": [
        "ff = np.vectorize(tree_to_label[tuple(x)])"
      ],
      "metadata": {
        "id": "FOtAUlTtoIZS"
      },
      "execution_count": null,
      "outputs": []
    },
    {
      "cell_type": "code",
      "source": [
        "np.apply_along_axis(one_hot, 1, y).T"
      ],
      "metadata": {
        "colab": {
          "base_uri": "https://localhost:8080/"
        },
        "id": "hC9AoIqjWBDi",
        "outputId": "20aebff6-b631-4a38-ae18-935ada9e5e54"
      },
      "execution_count": null,
      "outputs": [
        {
          "output_type": "execute_result",
          "data": {
            "text/plain": [
              "(4, 2425)"
            ]
          },
          "metadata": {},
          "execution_count": 50
        }
      ]
    },
    {
      "cell_type": "code",
      "source": [
        "def voting(final_ensemble, X):\n",
        "  n = X.shape[0]\n",
        "  for i,tree in enumerate(final_ensemble):\n",
        "    if (i == 0):\n",
        "      y = np.apply_along_axis(one_hot, 1,tree.predict(X)).reshape((n,1,4))\n",
        "    else:\n",
        "      y_tree = np.apply_along_axis(one_hot, 1,tree.predict(X)).reshape((n,1,4))\n",
        "      y = np.concatenate((y,y_tree), axis = 1)\n",
        "  \n",
        "  y_voting = np.average(y, axis = 1)\n",
        "  y_voting_index = np.argmax(y_voting , axis = 1).reshape((1,n))\n",
        "  pred_label = np.apply_along_axis(index_to_label, 0, y_voting_index)\n",
        "  return pred_label"
      ],
      "metadata": {
        "id": "GdR3FfsSA_Dy"
      },
      "execution_count": null,
      "outputs": []
    },
    {
      "cell_type": "code",
      "source": [
        "X_test = tfidf_bucket.transform(full_gold.text)"
      ],
      "metadata": {
        "id": "w3hZb-4NCp95"
      },
      "execution_count": null,
      "outputs": []
    },
    {
      "cell_type": "code",
      "source": [
        "t1 = time()\n",
        "pred_prune = voting(final_ensemble, X_test)\n",
        "pred_prune_simple = [pruned_to_full_label[i] for i in pred_prune]\n",
        "t2 = time()\n",
        "print((t2-t1)/86)"
      ],
      "metadata": {
        "colab": {
          "base_uri": "https://localhost:8080/"
        },
        "id": "h-0Jk-GNCy8B",
        "outputId": "55f46381-abae-4bf8-8e5e-9c295c143d06"
      },
      "execution_count": null,
      "outputs": [
        {
          "output_type": "stream",
          "name": "stdout",
          "text": [
            "0.0010507910750633062\n"
          ]
        }
      ]
    },
    {
      "cell_type": "code",
      "source": [
        "pruned_to_full_label = {\n",
        "    \"Resea\":\"Research paper_Journal article\",\n",
        "    \"Respo\": \"Response to reviewer comments\",\n",
        "    \"Abstr\": \"Abstract\",\n",
        "    \"Other\": \"Other\"\n",
        "}"
      ],
      "metadata": {
        "id": "gFdXY7CIDUrH"
      },
      "execution_count": null,
      "outputs": []
    },
    {
      "cell_type": "code",
      "source": [
        ""
      ],
      "metadata": {
        "id": "2pdHU99jD_w1"
      },
      "execution_count": null,
      "outputs": []
    },
    {
      "cell_type": "code",
      "source": [
        "print(cr(full_gold.doc_category, pred_prune_simple))"
      ],
      "metadata": {
        "colab": {
          "base_uri": "https://localhost:8080/"
        },
        "id": "oWYmfa4sDKQ_",
        "outputId": "7a43a251-5110-4b35-ac8c-4da5c85220b2"
      },
      "execution_count": null,
      "outputs": [
        {
          "output_type": "stream",
          "name": "stdout",
          "text": [
            "                                precision    recall  f1-score   support\n",
            "\n",
            "                      Abstract       0.95      1.00      0.97        18\n",
            "                         Other       0.91      0.69      0.78        29\n",
            "Research paper_Journal article       0.68      0.94      0.79        18\n",
            " Response to reviewer comments       1.00      0.95      0.97        20\n",
            "\n",
            "                      accuracy                           0.87        85\n",
            "                     macro avg       0.88      0.90      0.88        85\n",
            "                  weighted avg       0.89      0.87      0.87        85\n",
            "\n"
          ]
        }
      ]
    },
    {
      "cell_type": "code",
      "source": [
        "# #######################################\n",
        "# #Some workaround\n",
        "# import six\n",
        "# import sys\n",
        "# sys.modules['sklearn.externals.six'] = six\n",
        "\n",
        "# #######################################\n",
        "# from mlxtend.classifier import EnsembleVoteClassifier\n",
        "# import copy\n",
        "# eclf = EnsembleVoteClassifier(clfs=final_ensemble, weights=list(np.ones(len(final_ensemble))), refit=False)\n",
        "\n",
        "# X_train_bucket = tfidf_bucket.transform(df_allcat_train.text)\n",
        "\n",
        "y_train = encode(df_allcat_train.doc_category, rf) #This has to be encoded form or else it fails\n",
        "\n",
        "eclf.fit(X_train_bucket,y_train)\n",
        "\n",
        "#Putting the classes back in the eclf. this is imp since when you are pickeling, these classes names need to go along\n",
        "eclf.classes_ = rf.classes_"
      ],
      "metadata": {
        "colab": {
          "base_uri": "https://localhost:8080/",
          "height": 356
        },
        "id": "uczjHGQxVQ6n",
        "outputId": "f5266783-17ec-4b64-f931-a06ffad16ae9"
      },
      "execution_count": null,
      "outputs": [
        {
          "output_type": "error",
          "ename": "NotImplementedError",
          "evalue": "ignored",
          "traceback": [
            "\u001b[0;31m---------------------------------------------------------------------------\u001b[0m",
            "\u001b[0;31mNotImplementedError\u001b[0m                       Traceback (most recent call last)",
            "\u001b[0;32m<ipython-input-129-4ded4275c8cc>\u001b[0m in \u001b[0;36m<module>\u001b[0;34m()\u001b[0m\n\u001b[1;32m     14\u001b[0m \u001b[0my_train\u001b[0m \u001b[0;34m=\u001b[0m \u001b[0mencode\u001b[0m\u001b[0;34m(\u001b[0m\u001b[0mdf_allcat_train\u001b[0m\u001b[0;34m.\u001b[0m\u001b[0mdoc_category\u001b[0m\u001b[0;34m,\u001b[0m \u001b[0mrf\u001b[0m\u001b[0;34m)\u001b[0m \u001b[0;31m#This has to be encoded form or else it fails\u001b[0m\u001b[0;34m\u001b[0m\u001b[0;34m\u001b[0m\u001b[0m\n\u001b[1;32m     15\u001b[0m \u001b[0;34m\u001b[0m\u001b[0m\n\u001b[0;32m---> 16\u001b[0;31m \u001b[0meclf\u001b[0m\u001b[0;34m.\u001b[0m\u001b[0mfit\u001b[0m\u001b[0;34m(\u001b[0m\u001b[0mX_train_bucket\u001b[0m\u001b[0;34m,\u001b[0m\u001b[0my_train\u001b[0m\u001b[0;34m)\u001b[0m\u001b[0;34m\u001b[0m\u001b[0;34m\u001b[0m\u001b[0m\n\u001b[0m\u001b[1;32m     17\u001b[0m \u001b[0;34m\u001b[0m\u001b[0m\n\u001b[1;32m     18\u001b[0m \u001b[0;31m#Putting the classes back in the eclf. this is imp since when you are pickeling, these classes names need to go along\u001b[0m\u001b[0;34m\u001b[0m\u001b[0;34m\u001b[0m\u001b[0;34m\u001b[0m\u001b[0m\n",
            "\u001b[0;32m/usr/local/lib/python3.7/dist-packages/mlxtend/classifier/ensemble_vote.py\u001b[0m in \u001b[0;36mfit\u001b[0;34m(self, X, y, sample_weight)\u001b[0m\n\u001b[1;32m    131\u001b[0m         \"\"\"\n\u001b[1;32m    132\u001b[0m         \u001b[0;32mif\u001b[0m \u001b[0misinstance\u001b[0m\u001b[0;34m(\u001b[0m\u001b[0my\u001b[0m\u001b[0;34m,\u001b[0m \u001b[0mnp\u001b[0m\u001b[0;34m.\u001b[0m\u001b[0mndarray\u001b[0m\u001b[0;34m)\u001b[0m \u001b[0;32mand\u001b[0m \u001b[0mlen\u001b[0m\u001b[0;34m(\u001b[0m\u001b[0my\u001b[0m\u001b[0;34m.\u001b[0m\u001b[0mshape\u001b[0m\u001b[0;34m)\u001b[0m \u001b[0;34m>\u001b[0m \u001b[0;36m1\u001b[0m \u001b[0;32mand\u001b[0m \u001b[0my\u001b[0m\u001b[0;34m.\u001b[0m\u001b[0mshape\u001b[0m\u001b[0;34m[\u001b[0m\u001b[0;36m1\u001b[0m\u001b[0;34m]\u001b[0m \u001b[0;34m>\u001b[0m \u001b[0;36m1\u001b[0m\u001b[0;34m:\u001b[0m\u001b[0;34m\u001b[0m\u001b[0;34m\u001b[0m\u001b[0m\n\u001b[0;32m--> 133\u001b[0;31m             raise NotImplementedError('Multilabel and multi-output'\n\u001b[0m\u001b[1;32m    134\u001b[0m                                       ' classification is not supported.')\n\u001b[1;32m    135\u001b[0m \u001b[0;34m\u001b[0m\u001b[0m\n",
            "\u001b[0;31mNotImplementedError\u001b[0m: Multilabel and multi-output classification is not supported."
          ]
        }
      ]
    },
    {
      "cell_type": "code",
      "source": [
        "from tqdm import tqdm\n",
        "def test_multilabel_prune(y_true, y_pred):\n",
        "  labels = {}\n",
        "  labels_ = [\"Abstract\", \"Other\", \"Response to reviewer comments\", \"Research paper_Journal article\"]\n",
        "  for i,j in enumerate(np.unique(y_pred.astype(\"<U22\"),axis = 0)):\n",
        "    labels[tuple(j)] = labels_[i]\n",
        "  y_pred_simple = []\n",
        "  for i in y_pred:\n",
        "    y_pred_simple.append(labels[tuple(i)])\n",
        "  # print(cr(y_true,y_pred_simple))\n",
        "  # print(cm(y_true,y_pred_simple))\n",
        "  return y_pred_simple\n",
        "def create_classifier_signature(tree, df, rfc_, tfidf):\n",
        "  '''\n",
        "  x_test should be in vectorised form \n",
        "  '''\n",
        "  x_test = tfidf.transform(list(df.text))\n",
        "  classes = rfc_.classes_\n",
        "  y_test = df.doc_category\n",
        "  pred_tree_complex = tree.predict(x_test)\n",
        "  pred_tree = test_multilabel(y_test, pred_tree_complex)\n",
        "  dd  ={}\n",
        "  for k,v in enumerate(classes):\n",
        "    dd[k] = v\n",
        "  pred_classes = [dd[i] for i in pred_tree]\n",
        "\n",
        "  #Calculating Signature of a tree \n",
        "  signature = np.empty(pred_tree.shape)\n",
        "  for i, j in enumerate(pred_classes):\n",
        "    if j == y_test[i]:\n",
        "      signature[i] = 1\n",
        "    else:\n",
        "      signature[i] = -1\n",
        "  return signature\n",
        "\n",
        "rf = rfc_bucket\n",
        "tfidf_small = tfidf_bucket\n",
        "rf_signature_list = []\n",
        "for i in tqdm(range(len(rf.estimators_))):\n",
        "  classifier_signature = create_classifier_signature(rf.estimators_[i], df_allcat_train, rf, tfidf_small)\n",
        "  rf_signature_list.append(classifier_signature)\n",
        "rf_signature_list = np.array(rf_signature_list)\n",
        "\n",
        "rf_signature_vector = np.average(rf_signature_list, axis = 0)\n",
        "rf_signature_vector.shape\n",
        "\n",
        "# 'O' is like the ideal vector where the rf_signature vector should have pointed. \n",
        "def lambda_(x):\n",
        "  o = np.ones(x.shape)\n",
        "  l = (-o @ x) / (np.linalg.norm(x))**2\n",
        "  return l\n",
        "\n",
        "#Calculating the reference vector \n",
        "alph = lambda_(rf_signature_vector)\n",
        "rf_reference_vector = np.ones(rf_signature_vector.shape) + alph * rf_signature_vector\n",
        "rf_reference_vector.shape\n",
        "\n",
        "dot  = rf_signature_list @ rf_reference_vector\n",
        "orientations = dot / np.linalg.norm(rf_signature_list, axis = 1) / np.linalg.norm(rf_reference_vector)\n",
        "\n",
        "#Selecting those DT's that are in first quadrant of rf_reference_vector and rf_signature_vector\n",
        "final_ensemble = []\n",
        "for i,j in enumerate(orientations):\n",
        "  if j < 1.57 and j > 0:\n",
        "    final_ensemble.append(rf.estimators_[i])\n",
        "\n",
        "def encode(y, rfc_):\n",
        "  classes = rfc_.classes_\n",
        "  dd = {}\n",
        "  for k,v in enumerate(classes):\n",
        "    dd[v] = k\n",
        "  label = np.empty(y.shape)\n",
        "  for i,j in enumerate(y):\n",
        "    label[i] = dd[j]\n",
        "  return label"
      ],
      "metadata": {
        "colab": {
          "base_uri": "https://localhost:8080/",
          "height": 397
        },
        "id": "3jstHYUBI0Zb",
        "outputId": "b0d7a734-714e-47fe-cf25-b7d2a9fc6371"
      },
      "execution_count": null,
      "outputs": [
        {
          "output_type": "stream",
          "name": "stderr",
          "text": [
            "  0%|          | 0/1000 [00:06<?, ?it/s]\n"
          ]
        },
        {
          "output_type": "error",
          "ename": "KeyError",
          "evalue": "ignored",
          "traceback": [
            "\u001b[0;31m---------------------------------------------------------------------------\u001b[0m",
            "\u001b[0;31mKeyError\u001b[0m                                  Traceback (most recent call last)",
            "\u001b[0;32m<ipython-input-67-526e8017cb8f>\u001b[0m in \u001b[0;36m<module>\u001b[0;34m()\u001b[0m\n\u001b[1;32m     27\u001b[0m \u001b[0mrf_signature_list\u001b[0m \u001b[0;34m=\u001b[0m \u001b[0;34m[\u001b[0m\u001b[0;34m]\u001b[0m\u001b[0;34m\u001b[0m\u001b[0;34m\u001b[0m\u001b[0m\n\u001b[1;32m     28\u001b[0m \u001b[0;32mfor\u001b[0m \u001b[0mi\u001b[0m \u001b[0;32min\u001b[0m \u001b[0mtqdm\u001b[0m\u001b[0;34m(\u001b[0m\u001b[0mrange\u001b[0m\u001b[0;34m(\u001b[0m\u001b[0mlen\u001b[0m\u001b[0;34m(\u001b[0m\u001b[0mrf\u001b[0m\u001b[0;34m.\u001b[0m\u001b[0mestimators_\u001b[0m\u001b[0;34m)\u001b[0m\u001b[0;34m)\u001b[0m\u001b[0;34m)\u001b[0m\u001b[0;34m:\u001b[0m\u001b[0;34m\u001b[0m\u001b[0;34m\u001b[0m\u001b[0m\n\u001b[0;32m---> 29\u001b[0;31m   \u001b[0mclassifier_signature\u001b[0m \u001b[0;34m=\u001b[0m \u001b[0mcreate_classifier_signature\u001b[0m\u001b[0;34m(\u001b[0m\u001b[0mrf\u001b[0m\u001b[0;34m.\u001b[0m\u001b[0mestimators_\u001b[0m\u001b[0;34m[\u001b[0m\u001b[0mi\u001b[0m\u001b[0;34m]\u001b[0m\u001b[0;34m,\u001b[0m \u001b[0mdf_allcat_train\u001b[0m\u001b[0;34m,\u001b[0m \u001b[0mrf\u001b[0m\u001b[0;34m,\u001b[0m \u001b[0mtfidf_small\u001b[0m\u001b[0;34m)\u001b[0m\u001b[0;34m\u001b[0m\u001b[0;34m\u001b[0m\u001b[0m\n\u001b[0m\u001b[1;32m     30\u001b[0m   \u001b[0mrf_signature_list\u001b[0m\u001b[0;34m.\u001b[0m\u001b[0mappend\u001b[0m\u001b[0;34m(\u001b[0m\u001b[0mclassifier_signature\u001b[0m\u001b[0;34m)\u001b[0m\u001b[0;34m\u001b[0m\u001b[0;34m\u001b[0m\u001b[0m\n\u001b[1;32m     31\u001b[0m \u001b[0mrf_signature_list\u001b[0m \u001b[0;34m=\u001b[0m \u001b[0mnp\u001b[0m\u001b[0;34m.\u001b[0m\u001b[0marray\u001b[0m\u001b[0;34m(\u001b[0m\u001b[0mrf_signature_list\u001b[0m\u001b[0;34m)\u001b[0m\u001b[0;34m\u001b[0m\u001b[0;34m\u001b[0m\u001b[0m\n",
            "\u001b[0;32m<ipython-input-67-526e8017cb8f>\u001b[0m in \u001b[0;36mcreate_classifier_signature\u001b[0;34m(tree, df, rfc_, tfidf)\u001b[0m\n\u001b[1;32m      8\u001b[0m   \u001b[0my_test\u001b[0m \u001b[0;34m=\u001b[0m \u001b[0mdf\u001b[0m\u001b[0;34m.\u001b[0m\u001b[0mdoc_category\u001b[0m\u001b[0;34m\u001b[0m\u001b[0;34m\u001b[0m\u001b[0m\n\u001b[1;32m      9\u001b[0m   \u001b[0mpred_tree_complex\u001b[0m \u001b[0;34m=\u001b[0m \u001b[0mtree\u001b[0m\u001b[0;34m.\u001b[0m\u001b[0mpredict\u001b[0m\u001b[0;34m(\u001b[0m\u001b[0mx_test\u001b[0m\u001b[0;34m)\u001b[0m\u001b[0;34m\u001b[0m\u001b[0;34m\u001b[0m\u001b[0m\n\u001b[0;32m---> 10\u001b[0;31m   \u001b[0mpred_tree\u001b[0m \u001b[0;34m=\u001b[0m \u001b[0mtest_multilabel\u001b[0m\u001b[0;34m(\u001b[0m\u001b[0my_test\u001b[0m\u001b[0;34m,\u001b[0m \u001b[0mpred_tree_complex\u001b[0m\u001b[0;34m)\u001b[0m\u001b[0;34m\u001b[0m\u001b[0;34m\u001b[0m\u001b[0m\n\u001b[0m\u001b[1;32m     11\u001b[0m   \u001b[0mdd\u001b[0m  \u001b[0;34m=\u001b[0m\u001b[0;34m{\u001b[0m\u001b[0;34m}\u001b[0m\u001b[0;34m\u001b[0m\u001b[0;34m\u001b[0m\u001b[0m\n\u001b[1;32m     12\u001b[0m   \u001b[0;32mfor\u001b[0m \u001b[0mk\u001b[0m\u001b[0;34m,\u001b[0m\u001b[0mv\u001b[0m \u001b[0;32min\u001b[0m \u001b[0menumerate\u001b[0m\u001b[0;34m(\u001b[0m\u001b[0mclasses\u001b[0m\u001b[0;34m)\u001b[0m\u001b[0;34m:\u001b[0m\u001b[0;34m\u001b[0m\u001b[0;34m\u001b[0m\u001b[0m\n",
            "\u001b[0;32m<ipython-input-62-591bac6245bd>\u001b[0m in \u001b[0;36mtest_multilabel\u001b[0;34m(y_true, y_pred)\u001b[0m\n\u001b[1;32m      6\u001b[0m   \u001b[0my_pred_simple\u001b[0m \u001b[0;34m=\u001b[0m \u001b[0;34m[\u001b[0m\u001b[0;34m]\u001b[0m\u001b[0;34m\u001b[0m\u001b[0;34m\u001b[0m\u001b[0m\n\u001b[1;32m      7\u001b[0m   \u001b[0;32mfor\u001b[0m \u001b[0mi\u001b[0m \u001b[0;32min\u001b[0m \u001b[0my_pred\u001b[0m\u001b[0;34m:\u001b[0m\u001b[0;34m\u001b[0m\u001b[0;34m\u001b[0m\u001b[0m\n\u001b[0;32m----> 8\u001b[0;31m     \u001b[0my_pred_simple\u001b[0m\u001b[0;34m.\u001b[0m\u001b[0mappend\u001b[0m\u001b[0;34m(\u001b[0m\u001b[0mlabels\u001b[0m\u001b[0;34m[\u001b[0m\u001b[0mtuple\u001b[0m\u001b[0;34m(\u001b[0m\u001b[0mi\u001b[0m\u001b[0;34m)\u001b[0m\u001b[0;34m]\u001b[0m\u001b[0;34m)\u001b[0m\u001b[0;34m\u001b[0m\u001b[0;34m\u001b[0m\u001b[0m\n\u001b[0m\u001b[1;32m      9\u001b[0m   \u001b[0;31m# print(cr(y_true,y_pred_simple))\u001b[0m\u001b[0;34m\u001b[0m\u001b[0;34m\u001b[0m\u001b[0;34m\u001b[0m\u001b[0m\n\u001b[1;32m     10\u001b[0m   \u001b[0;31m# print(cm(y_true,y_pred_simple))\u001b[0m\u001b[0;34m\u001b[0m\u001b[0;34m\u001b[0m\u001b[0;34m\u001b[0m\u001b[0m\n",
            "\u001b[0;31mKeyError\u001b[0m: (0.0, 0.0, 1.0)"
          ]
        }
      ]
    },
    {
      "cell_type": "markdown",
      "source": [
        "# Experiment 6(a): One-against-all"
      ],
      "metadata": {
        "id": "XXG582a41XkD"
      }
    },
    {
      "cell_type": "code",
      "source": [
        "import nltk\n",
        "from nltk.stem.porter import PorterStemmer\n",
        "from nltk.corpus import stopwords\n",
        "nltk.download('stopwords')\n",
        "nltk.download('punkt')\n",
        "\n",
        "stop_words = set(stopwords.words('english'))\n",
        "\n",
        "def tokenize(text):\n",
        "    '''\n",
        "    It takes text, removes stopwords and returns list of stemmed tokens\n",
        "    '''\n",
        "    word_tokens = nltk.word_tokenize(text)\n",
        "    #Removing stopwords\n",
        "    filtered_sentence = [w for w in word_tokens if not w.lower() in stop_words]\n",
        "    stems = []\n",
        "    for item in filtered_sentence:\n",
        "        stems.append(PorterStemmer().stem(item))\n",
        "    return stems"
      ],
      "metadata": {
        "colab": {
          "base_uri": "https://localhost:8080/"
        },
        "id": "lrmNXhl51cfy",
        "outputId": "df391f84-ca66-46c4-daed-09323bb60365"
      },
      "execution_count": null,
      "outputs": [
        {
          "output_type": "stream",
          "name": "stdout",
          "text": [
            "[nltk_data] Downloading package stopwords to /root/nltk_data...\n",
            "[nltk_data]   Package stopwords is already up-to-date!\n",
            "[nltk_data] Downloading package punkt to /root/nltk_data...\n",
            "[nltk_data]   Package punkt is already up-to-date!\n"
          ]
        }
      ]
    },
    {
      "cell_type": "code",
      "source": [
        "tfidf_rp = TfidfVectorizer(use_idf = True, stop_words = \"english\", min_df = 0.111, max_df = 0.999)\n",
        "rfc_rp = RandomForestClassifier(n_estimators = 200, criterion = \"entropy\", random_state = 32, n_jobs = -1, max_depth = 25)\n",
        "X = tfidf_rp.fit_transform(df_allcat_train_cv.text)\n",
        "df_x = pd.DataFrame(X.toarray())\n",
        "df_x.columns = tfidf_rp.get_feature_names_out()\n",
        "rfc_rp.fit(X, df_allcat_train_cv.rp)"
      ],
      "metadata": {
        "colab": {
          "base_uri": "https://localhost:8080/"
        },
        "id": "Ekf5B5xg1uio",
        "outputId": "d44bd0f5-9d89-4190-8452-251437687181"
      },
      "execution_count": null,
      "outputs": [
        {
          "output_type": "execute_result",
          "data": {
            "text/plain": [
              "RandomForestClassifier(criterion='entropy', max_depth=25, n_estimators=200,\n",
              "                       n_jobs=-1, random_state=32)"
            ]
          },
          "metadata": {},
          "execution_count": 359
        }
      ]
    },
    {
      "cell_type": "code",
      "source": [
        "print(cr(full_gold.rp,rfc_rp.predict(tfidf_rp.transform(full_gold.text))))\n",
        "print(cm(full_gold.rp,rfc_rp.predict(tfidf_rp.transform(full_gold.text))))\n",
        "\n",
        "print(cr(new_gold.sam_rp,rfc_rp.predict(tfidf_rp.transform(new_gold.text))))\n",
        "print(cm(new_gold.sam_rp,rfc_rp.predict(tfidf_rp.transform(new_gold.text))))"
      ],
      "metadata": {
        "colab": {
          "base_uri": "https://localhost:8080/"
        },
        "id": "6sUfqPpH2GtJ",
        "outputId": "21355271-eb3f-4425-a1b7-4b651ab72f5e"
      },
      "execution_count": null,
      "outputs": [
        {
          "output_type": "stream",
          "name": "stdout",
          "text": [
            "              precision    recall  f1-score   support\n",
            "\n",
            "      non-rp       0.93      0.94      0.93        67\n",
            "          rp       0.76      0.72      0.74        18\n",
            "\n",
            "    accuracy                           0.89        85\n",
            "   macro avg       0.85      0.83      0.84        85\n",
            "weighted avg       0.89      0.89      0.89        85\n",
            "\n",
            "[[63  4]\n",
            " [ 5 13]]\n",
            "              precision    recall  f1-score   support\n",
            "\n",
            "      non-rp       0.67      0.98      0.80        52\n",
            "          rp       0.96      0.47      0.63        47\n",
            "\n",
            "    accuracy                           0.74        99\n",
            "   macro avg       0.81      0.72      0.71        99\n",
            "weighted avg       0.81      0.74      0.72        99\n",
            "\n",
            "[[51  1]\n",
            " [25 22]]\n"
          ]
        }
      ]
    },
    {
      "cell_type": "code",
      "source": [
        "df_allcat_train_cv.head()"
      ],
      "metadata": {
        "colab": {
          "base_uri": "https://localhost:8080/",
          "height": 565
        },
        "id": "uSqeuGiPBzJM",
        "outputId": "901e6e72-02da-4b37-afaf-7c10e2b6e385"
      },
      "execution_count": null,
      "outputs": [
        {
          "output_type": "execute_result",
          "data": {
            "text/plain": [
              "   index                doc_name                    doc_category  \\\n",
              "0    216    KYOBO_726_input.json                        Abstract   \n",
              "1   1898  ELSVR_68003_input.json  Research paper_Journal article   \n",
              "2   2108  ELSVR_71326_input.json  Research paper_Journal article   \n",
              "3    322     UNCGS_20_input.json                        Abstract   \n",
              "4   1657     HYUGC_20_input.json   Response to reviewer comments   \n",
              "\n",
              "              domain    status word_count n_tables n_paragraphs n_images  \\\n",
              "0  Physical Sciences  Original        539        0            6        0   \n",
              "1  Physical Sciences  Original       5856        0           83       34   \n",
              "2         Humanities  Original      35201        0          122       18   \n",
              "3         Humanities  Original         97        0            1        0   \n",
              "4           Medicine  Original        500        0           15        0   \n",
              "\n",
              "  n_headings                                       heading_text  \\\n",
              "0          3                (S-21-0122) (S-21-0123) (S-21-0126)   \n",
              "1          4  1. Introduction 3. Failure of specimens 4. Tem...   \n",
              "2         10  Introduction Existing Literature Hypotheses 4....   \n",
              "3          0                                                      \n",
              "4          0                                                      \n",
              "\n",
              "                                                text  \\\n",
              "0  s  an experimental research on operation chara...   \n",
              "1  experimental study on mechanical behavior of s...   \n",
              "2  introduction the board of directors plays an e...   \n",
              "3  parliamentary control over budgets is a fundam...   \n",
              "4  reviewer   i think data and methods should be ...   \n",
              "\n",
              "                     raw_category rtrc abstract rp  word_count2  \n",
              "0                        Abstract    0        1  0          535  \n",
              "1  Research paper_Journal article    0        0  1         5973  \n",
              "2  Research paper_Journal article    0        0  1        14010  \n",
              "3                        Abstract    0        1  0          103  \n",
              "4   Response to reviewer comments    1        0  0          573  "
            ],
            "text/html": [
              "\n",
              "  <div id=\"df-e72c723a-690f-4fe1-be47-8e6b63824fcc\">\n",
              "    <div class=\"colab-df-container\">\n",
              "      <div>\n",
              "<style scoped>\n",
              "    .dataframe tbody tr th:only-of-type {\n",
              "        vertical-align: middle;\n",
              "    }\n",
              "\n",
              "    .dataframe tbody tr th {\n",
              "        vertical-align: top;\n",
              "    }\n",
              "\n",
              "    .dataframe thead th {\n",
              "        text-align: right;\n",
              "    }\n",
              "</style>\n",
              "<table border=\"1\" class=\"dataframe\">\n",
              "  <thead>\n",
              "    <tr style=\"text-align: right;\">\n",
              "      <th></th>\n",
              "      <th>index</th>\n",
              "      <th>doc_name</th>\n",
              "      <th>doc_category</th>\n",
              "      <th>domain</th>\n",
              "      <th>status</th>\n",
              "      <th>word_count</th>\n",
              "      <th>n_tables</th>\n",
              "      <th>n_paragraphs</th>\n",
              "      <th>n_images</th>\n",
              "      <th>n_headings</th>\n",
              "      <th>heading_text</th>\n",
              "      <th>text</th>\n",
              "      <th>raw_category</th>\n",
              "      <th>rtrc</th>\n",
              "      <th>abstract</th>\n",
              "      <th>rp</th>\n",
              "      <th>word_count2</th>\n",
              "    </tr>\n",
              "  </thead>\n",
              "  <tbody>\n",
              "    <tr>\n",
              "      <th>0</th>\n",
              "      <td>216</td>\n",
              "      <td>KYOBO_726_input.json</td>\n",
              "      <td>Abstract</td>\n",
              "      <td>Physical Sciences</td>\n",
              "      <td>Original</td>\n",
              "      <td>539</td>\n",
              "      <td>0</td>\n",
              "      <td>6</td>\n",
              "      <td>0</td>\n",
              "      <td>3</td>\n",
              "      <td>(S-21-0122) (S-21-0123) (S-21-0126)</td>\n",
              "      <td>s  an experimental research on operation chara...</td>\n",
              "      <td>Abstract</td>\n",
              "      <td>0</td>\n",
              "      <td>1</td>\n",
              "      <td>0</td>\n",
              "      <td>535</td>\n",
              "    </tr>\n",
              "    <tr>\n",
              "      <th>1</th>\n",
              "      <td>1898</td>\n",
              "      <td>ELSVR_68003_input.json</td>\n",
              "      <td>Research paper_Journal article</td>\n",
              "      <td>Physical Sciences</td>\n",
              "      <td>Original</td>\n",
              "      <td>5856</td>\n",
              "      <td>0</td>\n",
              "      <td>83</td>\n",
              "      <td>34</td>\n",
              "      <td>4</td>\n",
              "      <td>1. Introduction 3. Failure of specimens 4. Tem...</td>\n",
              "      <td>experimental study on mechanical behavior of s...</td>\n",
              "      <td>Research paper_Journal article</td>\n",
              "      <td>0</td>\n",
              "      <td>0</td>\n",
              "      <td>1</td>\n",
              "      <td>5973</td>\n",
              "    </tr>\n",
              "    <tr>\n",
              "      <th>2</th>\n",
              "      <td>2108</td>\n",
              "      <td>ELSVR_71326_input.json</td>\n",
              "      <td>Research paper_Journal article</td>\n",
              "      <td>Humanities</td>\n",
              "      <td>Original</td>\n",
              "      <td>35201</td>\n",
              "      <td>0</td>\n",
              "      <td>122</td>\n",
              "      <td>18</td>\n",
              "      <td>10</td>\n",
              "      <td>Introduction Existing Literature Hypotheses 4....</td>\n",
              "      <td>introduction the board of directors plays an e...</td>\n",
              "      <td>Research paper_Journal article</td>\n",
              "      <td>0</td>\n",
              "      <td>0</td>\n",
              "      <td>1</td>\n",
              "      <td>14010</td>\n",
              "    </tr>\n",
              "    <tr>\n",
              "      <th>3</th>\n",
              "      <td>322</td>\n",
              "      <td>UNCGS_20_input.json</td>\n",
              "      <td>Abstract</td>\n",
              "      <td>Humanities</td>\n",
              "      <td>Original</td>\n",
              "      <td>97</td>\n",
              "      <td>0</td>\n",
              "      <td>1</td>\n",
              "      <td>0</td>\n",
              "      <td>0</td>\n",
              "      <td></td>\n",
              "      <td>parliamentary control over budgets is a fundam...</td>\n",
              "      <td>Abstract</td>\n",
              "      <td>0</td>\n",
              "      <td>1</td>\n",
              "      <td>0</td>\n",
              "      <td>103</td>\n",
              "    </tr>\n",
              "    <tr>\n",
              "      <th>4</th>\n",
              "      <td>1657</td>\n",
              "      <td>HYUGC_20_input.json</td>\n",
              "      <td>Response to reviewer comments</td>\n",
              "      <td>Medicine</td>\n",
              "      <td>Original</td>\n",
              "      <td>500</td>\n",
              "      <td>0</td>\n",
              "      <td>15</td>\n",
              "      <td>0</td>\n",
              "      <td>0</td>\n",
              "      <td></td>\n",
              "      <td>reviewer   i think data and methods should be ...</td>\n",
              "      <td>Response to reviewer comments</td>\n",
              "      <td>1</td>\n",
              "      <td>0</td>\n",
              "      <td>0</td>\n",
              "      <td>573</td>\n",
              "    </tr>\n",
              "  </tbody>\n",
              "</table>\n",
              "</div>\n",
              "      <button class=\"colab-df-convert\" onclick=\"convertToInteractive('df-e72c723a-690f-4fe1-be47-8e6b63824fcc')\"\n",
              "              title=\"Convert this dataframe to an interactive table.\"\n",
              "              style=\"display:none;\">\n",
              "        \n",
              "  <svg xmlns=\"http://www.w3.org/2000/svg\" height=\"24px\"viewBox=\"0 0 24 24\"\n",
              "       width=\"24px\">\n",
              "    <path d=\"M0 0h24v24H0V0z\" fill=\"none\"/>\n",
              "    <path d=\"M18.56 5.44l.94 2.06.94-2.06 2.06-.94-2.06-.94-.94-2.06-.94 2.06-2.06.94zm-11 1L8.5 8.5l.94-2.06 2.06-.94-2.06-.94L8.5 2.5l-.94 2.06-2.06.94zm10 10l.94 2.06.94-2.06 2.06-.94-2.06-.94-.94-2.06-.94 2.06-2.06.94z\"/><path d=\"M17.41 7.96l-1.37-1.37c-.4-.4-.92-.59-1.43-.59-.52 0-1.04.2-1.43.59L10.3 9.45l-7.72 7.72c-.78.78-.78 2.05 0 2.83L4 21.41c.39.39.9.59 1.41.59.51 0 1.02-.2 1.41-.59l7.78-7.78 2.81-2.81c.8-.78.8-2.07 0-2.86zM5.41 20L4 18.59l7.72-7.72 1.47 1.35L5.41 20z\"/>\n",
              "  </svg>\n",
              "      </button>\n",
              "      \n",
              "  <style>\n",
              "    .colab-df-container {\n",
              "      display:flex;\n",
              "      flex-wrap:wrap;\n",
              "      gap: 12px;\n",
              "    }\n",
              "\n",
              "    .colab-df-convert {\n",
              "      background-color: #E8F0FE;\n",
              "      border: none;\n",
              "      border-radius: 50%;\n",
              "      cursor: pointer;\n",
              "      display: none;\n",
              "      fill: #1967D2;\n",
              "      height: 32px;\n",
              "      padding: 0 0 0 0;\n",
              "      width: 32px;\n",
              "    }\n",
              "\n",
              "    .colab-df-convert:hover {\n",
              "      background-color: #E2EBFA;\n",
              "      box-shadow: 0px 1px 2px rgba(60, 64, 67, 0.3), 0px 1px 3px 1px rgba(60, 64, 67, 0.15);\n",
              "      fill: #174EA6;\n",
              "    }\n",
              "\n",
              "    [theme=dark] .colab-df-convert {\n",
              "      background-color: #3B4455;\n",
              "      fill: #D2E3FC;\n",
              "    }\n",
              "\n",
              "    [theme=dark] .colab-df-convert:hover {\n",
              "      background-color: #434B5C;\n",
              "      box-shadow: 0px 1px 3px 1px rgba(0, 0, 0, 0.15);\n",
              "      filter: drop-shadow(0px 1px 2px rgba(0, 0, 0, 0.3));\n",
              "      fill: #FFFFFF;\n",
              "    }\n",
              "  </style>\n",
              "\n",
              "      <script>\n",
              "        const buttonEl =\n",
              "          document.querySelector('#df-e72c723a-690f-4fe1-be47-8e6b63824fcc button.colab-df-convert');\n",
              "        buttonEl.style.display =\n",
              "          google.colab.kernel.accessAllowed ? 'block' : 'none';\n",
              "\n",
              "        async function convertToInteractive(key) {\n",
              "          const element = document.querySelector('#df-e72c723a-690f-4fe1-be47-8e6b63824fcc');\n",
              "          const dataTable =\n",
              "            await google.colab.kernel.invokeFunction('convertToInteractive',\n",
              "                                                     [key], {});\n",
              "          if (!dataTable) return;\n",
              "\n",
              "          const docLinkHtml = 'Like what you see? Visit the ' +\n",
              "            '<a target=\"_blank\" href=https://colab.research.google.com/notebooks/data_table.ipynb>data table notebook</a>'\n",
              "            + ' to learn more about interactive tables.';\n",
              "          element.innerHTML = '';\n",
              "          dataTable['output_type'] = 'display_data';\n",
              "          await google.colab.output.renderOutput(dataTable, element);\n",
              "          const docLink = document.createElement('div');\n",
              "          docLink.innerHTML = docLinkHtml;\n",
              "          element.appendChild(docLink);\n",
              "        }\n",
              "      </script>\n",
              "    </div>\n",
              "  </div>\n",
              "  "
            ]
          },
          "metadata": {},
          "execution_count": 49
        }
      ]
    },
    {
      "cell_type": "code",
      "source": [
        "#For Headings\n",
        "\n",
        "tfidf_rp = TfidfVectorizer(use_idf = True, stop_words = \"english\", min_df = 0.111, max_df = 0.999)\n",
        "rfc_rp = RandomForestClassifier(n_estimators = 100, criterion = \"entropy\", random_state = 32, n_jobs = -1)\n",
        "X = tfidf_rp.fit_transform(df_allcat_train_cv.heading_text)\n",
        "df_x = pd.DataFrame(X.toarray())\n",
        "df_x.columns = tfidf_rp.get_feature_names_out()\n",
        "rfc_rp.fit(X, df_allcat_train_cv.rp)\n",
        "\n",
        "print(cr(full_gold.rp,rfc_rp.predict(tfidf_rp.transform(full_gold.heading_text))))\n",
        "print(cm(full_gold.rp,rfc_rp.predict(tfidf_rp.transform(full_gold.heading_text))))\n",
        "\n",
        "print(cr(new_gold.sam_rp,rfc_rp.predict(tfidf_rp.transform(new_gold.heading_text))))\n",
        "print(cm(new_gold.sam_rp,rfc_rp.predict(tfidf_rp.transform(new_gold.heading_text))))"
      ],
      "metadata": {
        "colab": {
          "base_uri": "https://localhost:8080/"
        },
        "id": "lGLoPInUBKoL",
        "outputId": "a9d534dd-401a-4979-eb5a-cfa915974ba1"
      },
      "execution_count": null,
      "outputs": [
        {
          "output_type": "stream",
          "name": "stdout",
          "text": [
            "              precision    recall  f1-score   support\n",
            "\n",
            "      non-rp       0.88      0.94      0.91        67\n",
            "          rp       0.69      0.50      0.58        18\n",
            "\n",
            "    accuracy                           0.85        85\n",
            "   macro avg       0.78      0.72      0.74        85\n",
            "weighted avg       0.84      0.85      0.84        85\n",
            "\n",
            "[[63  4]\n",
            " [ 9  9]]\n",
            "              precision    recall  f1-score   support\n",
            "\n",
            "      non-rp       0.72      0.94      0.82        52\n",
            "          rp       0.90      0.60      0.72        47\n",
            "\n",
            "    accuracy                           0.78        99\n",
            "   macro avg       0.81      0.77      0.77        99\n",
            "weighted avg       0.81      0.78      0.77        99\n",
            "\n",
            "[[49  3]\n",
            " [19 28]]\n"
          ]
        }
      ]
    },
    {
      "cell_type": "code",
      "source": [
        "def predict_nested(tfidf_rtrc, tfidf_abstract, tfidf_rp, rfc_abstract, rfc_rtrc, rfc_rp, text, heading_text):\n",
        "  '''\n",
        "  Takes all three random forests and their vectoriser and returns the final prediction.\n",
        "  '''\n",
        "  combined = [text]\n",
        "  t1 = time()\n",
        "  x_rtrc = tfidf_rtrc.transform(combined)\n",
        "  t2 = time()\n",
        "  rtrc_pred = rfc_rtrc.predict(x_rtrc)\n",
        "  t3 = time()\n",
        "  inf = t3-t2\n",
        "  vect = t2-t1\n",
        "  if rtrc_pred == \"rtrc\":\n",
        "    return {\"class\":'Response to reviewer comments', \"prob\" : rfc_rtrc.predict_proba(x_rtrc), \"inf_time\":t3-t2, \"vect_time\":t2-t1}\n",
        "  else:\n",
        "    t1 = time()\n",
        "    x_abstract = tfidf_abstract.transform(combined)\n",
        "    t2 = time()\n",
        "    abstract_pred = rfc_abstract.predict(x_abstract)\n",
        "    t3 = time()\n",
        "    vect = vect+t2-t1\n",
        "    inf = inf+t3-t2\n",
        "    if abstract_pred == \"abstract\":\n",
        "      return {\"class\":'Abstract', \"prob\" : rfc_abstract.predict_proba(x_abstract), \"inf_time\":inf, \"vect_time\":vect}\n",
        "    else:\n",
        "      t1 = time()\n",
        "      x_rp = tfidf_rp.transform([heading_text])\n",
        "      t2 = time()\n",
        "      rp_pred = rfc_rp.predict(x_rp)\n",
        "      t3 = time()\n",
        "      vect = vect+t2-t1\n",
        "      inf = inf+t3-t2\n",
        "      if rp_pred == \"rp\":\n",
        "        return {\"class\":'Research paper_Journal article', \"prob\" : rfc_rp.predict_proba(x_rp), \"inf_time\":inf, \"vect_time\":vect}\n",
        "      else:\n",
        "        return {\"class\":'Other', \"prob\" : \"NULL\", \"inf_time\":inf, \"vect_time\":vect}"
      ],
      "metadata": {
        "id": "WYODSy5NmKUu"
      },
      "execution_count": null,
      "outputs": []
    },
    {
      "cell_type": "code",
      "source": [
        "def scorer_one_against_all(y, y_pred):\n",
        "  # y_pred = rfc.classes_[rfc.predict(X).astype(int)]\n",
        "  cr_ = cr(y, y_pred, output_dict = True)\n",
        "  res = {\n",
        "      \"accuracy\":cr_[\"accuracy\"],\n",
        "      \"rp_precision\":cr_[\"Research paper_Journal article\"][\"precision\"], \n",
        "      \"rtrc_precision\":cr_[\"Response to reviewer comments\"][\"precision\"],\n",
        "      \"abstract_precision\":cr_[\"Abstract\"][\"precision\"],\n",
        "      \"rp_recall\":cr_['Research paper_Journal article'][\"recall\"],\n",
        "      \"weighted_f1_score\":cr_['weighted avg'][\"f1-score\"],\n",
        "      \"precision_weighted\":cr_['weighted avg']['precision'],\n",
        "      \"recall_weighted\":cr_['weighted avg']['recall']\n",
        "  }\n",
        "  return res"
      ],
      "metadata": {
        "id": "_qQhnFiZ3wKR"
      },
      "execution_count": null,
      "outputs": []
    },
    {
      "cell_type": "code",
      "source": [
        "#Five fold Cross Validation for Nested one-against-all Models\n",
        "from sklearn.model_selection import KFold\n",
        "kf = KFold(n_splits=5)\n",
        "fold = 1\n",
        "results = []\n",
        "df = df.sample(frac = 1).reset_index(drop = True)\n",
        "for train_index, test_index in kf.split(df):\n",
        "  print(\"-\"*100)\n",
        "  print(f\"\\nTraining for fold: {fold}\")\n",
        "  df_temp_train = df.iloc[train_index,:].reset_index(drop = True)\n",
        "  df_temp_test = df.iloc[test_index,:].reset_index(drop = True)\n",
        "  fold+=1\n",
        "  tfidf_rp = TfidfVectorizer(use_idf = True, stop_words = \"english\")\n",
        "  rfc_rp = RandomForestClassifier(n_estimators = 100, criterion = \"entropy\", random_state = 32, n_jobs = -1)\n",
        "  X = tfidf_rp.fit_transform(df_temp_train.heading_text)\n",
        "  rfc_rp.fit(X, df_temp_train.rp)\n",
        "\n",
        "  tfidf_rtrc = TfidfVectorizer(stop_words = \"english\", use_idf = True, min_df = 0.1111, max_df = 0.9999)\n",
        "  rfc_rtrc = RandomForestClassifier(n_estimators = 100, criterion = \"entropy\", random_state = 32, n_jobs = -1)\n",
        "  X = tfidf_rtrc.fit_transform(df_temp_train.text)\n",
        "  rfc_rtrc.fit(X, df_temp_train.rtrc)\n",
        "\n",
        "  tfidf_abstract = tfidf_rtrc # TfidfVectorizer(stop_words = \"english\", use_idf = True, min_df = 0.1111, max_df = 0.9999)\n",
        "  rfc_abstract = RandomForestClassifier(n_estimators = 100, criterion = \"entropy\", random_state = 32, n_jobs = -1)\n",
        "  X = tfidf_abstract.fit_transform(df_temp_train.text)\n",
        "  rfc_abstract.fit(X, df_temp_train.abstract)\n",
        "\n",
        "  param = {\"tfidf_rtrc\": tfidf_rtrc, \n",
        "          \"tfidf_abstract\": tfidf_abstract, \n",
        "          \"tfidf_rp\": tfidf_rp,\n",
        "          \"rfc_abstract\": rfc_abstract, \n",
        "          \"rfc_rtrc\": rfc_rtrc, \n",
        "          \"rfc_rp\": rfc_rp, \n",
        "          \"text\": \"\", \n",
        "          \"heading_text\": \"\"}\n",
        "          \n",
        "  y_pred = []\n",
        "  for doc in tqdm(df_temp_test.doc_name):\n",
        "    text_ = df_temp_test.loc[df_temp_test.doc_name == doc].text\n",
        "    text = text_.values[0][:]\n",
        "    text_ = df_temp_test.loc[df_temp_test.doc_name == doc].heading_text\n",
        "    heading_text = text_.values[0][:]\n",
        "    param[\"text\"] = text\n",
        "    param[\"heading_text\"] = heading_text\n",
        "    y_pred.append(predict_nested(**param)[\"class\"])\n",
        "  print(\"\\nInference Done. Calculating statistics...\")\n",
        "  res = scorer_one_against_all(df_temp_test.doc_category, y_pred)\n",
        "  results.append(res)\n",
        "  print(res)"
      ],
      "metadata": {
        "id": "dPG_DMH0Nb4a"
      },
      "execution_count": null,
      "outputs": []
    },
    {
      "cell_type": "code",
      "source": [
        "#Five fold Cross Validation for Nested one-against-all Models\n",
        "from sklearn.model_selection import KFold\n",
        "kf = KFold(n_splits=5)\n",
        "fold = 1\n",
        "results = []\n",
        "df = df.sample(frac = 1).reset_index(drop = True)\n",
        "for train_index, test_index in kf.split(df):\n",
        "  print(\"-\"*100)\n",
        "  print(f\"\\nTraining for fold: {fold}\")\n",
        "  df_temp_train = df.iloc[train_index,:].reset_index(drop = True)\n",
        "  df_temp_test = df.iloc[test_index,:].reset_index(drop = True)\n",
        "  fold+=1\n",
        "  tfidf_rp = TfidfVectorizer(use_idf = True, stop_words = \"english\")\n",
        "  rfc_rp = RandomForestClassifier(n_estimators = 100, criterion = \"entropy\", random_state = 32, n_jobs = -1)\n",
        "  X = tfidf_rp.fit_transform(df_temp_train.heading_text)\n",
        "  rfc_rp.fit(X, df_temp_train.rp)\n",
        "\n",
        "  tfidf_rtrc = TfidfVectorizer(stop_words = \"english\", use_idf = True, min_df = 0.1111, max_df = 0.9999)\n",
        "  rfc_rtrc = RandomForestClassifier(n_estimators = 100, criterion = \"entropy\", random_state = 32, n_jobs = -1)\n",
        "  X = tfidf_rtrc.fit_transform(df_temp_train.text)\n",
        "  rfc_rtrc.fit(X, df_temp_train.rtrc)\n",
        "\n",
        "  tfidf_abstract = tfidf_rtrc # TfidfVectorizer(stop_words = \"english\", use_idf = True, min_df = 0.1111, max_df = 0.9999)\n",
        "  rfc_abstract = RandomForestClassifier(n_estimators = 100, criterion = \"entropy\", random_state = 32, n_jobs = -1)\n",
        "  X = tfidf_abstract.fit_transform(df_temp_train.text)\n",
        "  rfc_abstract.fit(X, df_temp_train.abstract)\n",
        "\n",
        "  param = {\"tfidf_rtrc\": tfidf_rtrc, \n",
        "          \"tfidf_abstract\": tfidf_abstract, \n",
        "          \"tfidf_rp\": tfidf_rp,\n",
        "          \"rfc_abstract\": rfc_abstract, \n",
        "          \"rfc_rtrc\": rfc_rtrc, \n",
        "          \"rfc_rp\": rfc_rp, \n",
        "          \"text\": \"\", \n",
        "          \"heading_text\": \"\"}\n",
        "\n",
        "  y_pred = []\n",
        "  for doc in tqdm(df_temp_test.doc_name):\n",
        "    text_ = df_temp_test.loc[df_temp_test.doc_name == doc].text\n",
        "    text = text_.values[0][:]\n",
        "    text_ = df_temp_test.loc[df_temp_test.doc_name == doc].heading_text\n",
        "    heading_text = text_.values[0][:]\n",
        "    param[\"text\"] = text\n",
        "    param[\"heading_text\"] = heading_text\n",
        "    y_pred.append(predict_nested(**param)[\"class\"])\n",
        "  print(\"\\nInference Done. Calculating statistics...\")\n",
        "  res = scorer_one_against_all(df_temp_test.doc_category, y_pred)\n",
        "  results.append(res)"
      ],
      "metadata": {
        "colab": {
          "base_uri": "https://localhost:8080/"
        },
        "id": "_7O_lR1_23ea",
        "outputId": "74c2e5c6-9e9e-420c-e875-b2492ab8c6f7"
      },
      "execution_count": null,
      "outputs": [
        {
          "output_type": "stream",
          "name": "stdout",
          "text": [
            "----------------------------------------------------------------------------------------------------\n",
            "\n",
            "Training for fold: 1\n"
          ]
        },
        {
          "output_type": "stream",
          "name": "stderr",
          "text": [
            "100%|██████████| 539/539 [02:56<00:00,  3.05it/s]\n"
          ]
        },
        {
          "output_type": "stream",
          "name": "stdout",
          "text": [
            "\n",
            "Inference Done. Calculating statistics...\n",
            "----------------------------------------------------------------------------------------------------\n",
            "\n",
            "Training for fold: 2\n"
          ]
        },
        {
          "output_type": "stream",
          "name": "stderr",
          "text": [
            "100%|██████████| 539/539 [02:57<00:00,  3.04it/s]\n"
          ]
        },
        {
          "output_type": "stream",
          "name": "stdout",
          "text": [
            "\n",
            "Inference Done. Calculating statistics...\n",
            "----------------------------------------------------------------------------------------------------\n",
            "\n",
            "Training for fold: 3\n"
          ]
        },
        {
          "output_type": "stream",
          "name": "stderr",
          "text": [
            "100%|██████████| 539/539 [02:57<00:00,  3.03it/s]\n"
          ]
        },
        {
          "output_type": "stream",
          "name": "stdout",
          "text": [
            "\n",
            "Inference Done. Calculating statistics...\n",
            "----------------------------------------------------------------------------------------------------\n",
            "\n",
            "Training for fold: 4\n"
          ]
        },
        {
          "output_type": "stream",
          "name": "stderr",
          "text": [
            "100%|██████████| 539/539 [02:57<00:00,  3.04it/s]\n"
          ]
        },
        {
          "output_type": "stream",
          "name": "stdout",
          "text": [
            "\n",
            "Inference Done. Calculating statistics...\n",
            "----------------------------------------------------------------------------------------------------\n",
            "\n",
            "Training for fold: 5\n"
          ]
        },
        {
          "output_type": "stream",
          "name": "stderr",
          "text": [
            "100%|██████████| 539/539 [02:55<00:00,  3.07it/s]"
          ]
        },
        {
          "output_type": "stream",
          "name": "stdout",
          "text": [
            "\n",
            "Inference Done. Calculating statistics...\n"
          ]
        },
        {
          "output_type": "stream",
          "name": "stderr",
          "text": [
            "\n"
          ]
        }
      ]
    },
    {
      "cell_type": "code",
      "source": [
        "#Taking average of all 5 fold metrics\n",
        "pd.DataFrame(results).mean(axis = 0)"
      ],
      "metadata": {
        "colab": {
          "base_uri": "https://localhost:8080/"
        },
        "id": "gNhenIb36V3N",
        "outputId": "0be7d2a4-c7a3-407c-b42e-9f3c2ccad763"
      },
      "execution_count": null,
      "outputs": [
        {
          "output_type": "execute_result",
          "data": {
            "text/plain": [
              "accuracy              0.699814\n",
              "rp_precision          0.675653\n",
              "rtrc_precision        0.940166\n",
              "abstract_precision    0.835453\n",
              "rp_recall             0.696010\n",
              "weighted_f1_score     0.706898\n",
              "precision_weighted    0.734007\n",
              "recall_weighted       0.699814\n",
              "dtype: float64"
            ]
          },
          "metadata": {},
          "execution_count": 406
        }
      ]
    },
    {
      "cell_type": "code",
      "source": [
        "#Testing on Gold\n",
        "y_pred = []\n",
        "inf = []\n",
        "vect = []\n",
        "for doc in tqdm(full_gold.doc_name):\n",
        "  text_ = full_gold.loc[full_gold.doc_name == doc].text\n",
        "  text = text_.values[0][:]\n",
        "  text_ = full_gold.loc[full_gold.doc_name == doc].heading_text\n",
        "  heading_text = text_.values[0][:]\n",
        "  param[\"text\"] = text\n",
        "  param[\"heading_text\"] = heading_text\n",
        "  pred = predict_nested(**param)\n",
        "  y_pred.append(pred[\"class\"])\n",
        "  inf.append(pred[\"inf_time\"])\n",
        "  vect.append(pred[\"vect_time\"])"
      ],
      "metadata": {
        "colab": {
          "base_uri": "https://localhost:8080/"
        },
        "id": "kEBLZs0F_O6X",
        "outputId": "560754b2-9a15-49d1-b4e8-369c06644ad9"
      },
      "execution_count": null,
      "outputs": [
        {
          "output_type": "stream",
          "name": "stderr",
          "text": [
            "100%|██████████| 85/85 [00:26<00:00,  3.15it/s]\n"
          ]
        }
      ]
    },
    {
      "cell_type": "code",
      "source": [
        "print(cr(full_gold.doc_category, y_pred))\n",
        "print(cm(full_gold.doc_category, y_pred))"
      ],
      "metadata": {
        "colab": {
          "base_uri": "https://localhost:8080/"
        },
        "id": "gx5uuCTU_8OG",
        "outputId": "84467f4c-ef45-4a91-b272-ae7ef3ac9a0c"
      },
      "execution_count": null,
      "outputs": [
        {
          "output_type": "stream",
          "name": "stdout",
          "text": [
            "                                precision    recall  f1-score   support\n",
            "\n",
            "                      Abstract       1.00      0.89      0.94        18\n",
            "                         Other       0.69      0.76      0.72        29\n",
            "Research paper_Journal article       0.65      0.61      0.63        18\n",
            " Response to reviewer comments       0.95      0.95      0.95        20\n",
            "\n",
            "                      accuracy                           0.80        85\n",
            "                     macro avg       0.82      0.80      0.81        85\n",
            "                  weighted avg       0.81      0.80      0.80        85\n",
            "\n",
            "[[16  2  0  0]\n",
            " [ 0 22  6  1]\n",
            " [ 0  7 11  0]\n",
            " [ 0  1  0 19]]\n"
          ]
        }
      ]
    },
    {
      "cell_type": "code",
      "source": [
        "print(f'Inference time: {sum(inf)/len(inf)}')\n",
        "print(f'Vectorisation time: {sum(vect)/len(vect)}')"
      ],
      "metadata": {
        "colab": {
          "base_uri": "https://localhost:8080/"
        },
        "id": "jcEe-Yp4ADFV",
        "outputId": "33b08691-b7ec-4c77-b640-eb6e02fb6867"
      },
      "execution_count": null,
      "outputs": [
        {
          "output_type": "stream",
          "name": "stdout",
          "text": [
            "Inference time: 0.2413960989783792\n",
            "Vectorisation time: 0.007316743626314051\n"
          ]
        }
      ]
    },
    {
      "cell_type": "markdown",
      "source": [
        "# Experiment 6(b): One against all (using body text only)"
      ],
      "metadata": {
        "id": "-aZhnJbOUHcG"
      }
    },
    {
      "cell_type": "code",
      "source": [
        "#Five fold Cross Validation for Nested one-against-all Models\n",
        "from sklearn.model_selection import KFold\n",
        "kf = KFold(n_splits=5)\n",
        "fold = 1\n",
        "results = []\n",
        "df = df.sample(frac = 1).reset_index(drop = True)\n",
        "for train_index, test_index in kf.split(df):\n",
        "  print(\"-\"*100)\n",
        "  print(f\"\\nTraining for fold: {fold}\")\n",
        "  df_temp_train = df.iloc[train_index,:].reset_index(drop = True)\n",
        "  df_temp_test = df.iloc[test_index,:].reset_index(drop = True)\n",
        "  fold+=1\n",
        "  tfidf_rp = TfidfVectorizer(use_idf = True, stop_words = \"english\")\n",
        "  rfc_rp = RandomForestClassifier(n_estimators = 100, criterion = \"entropy\", random_state = 32, n_jobs = -1)\n",
        "  X = tfidf_rp.fit_transform(df_temp_train.text)\n",
        "  rfc_rp.fit(X, df_temp_train.rp)\n",
        "\n",
        "  tfidf_rtrc = TfidfVectorizer(stop_words = \"english\", use_idf = True, min_df = 0.1111, max_df = 0.9999)\n",
        "  rfc_rtrc = RandomForestClassifier(n_estimators = 100, criterion = \"entropy\", random_state = 32, n_jobs = -1)\n",
        "  X = tfidf_rtrc.fit_transform(df_temp_train.text)\n",
        "  rfc_rtrc.fit(X, df_temp_train.rtrc)\n",
        "\n",
        "  tfidf_abstract = tfidf_rtrc # TfidfVectorizer(stop_words = \"english\", use_idf = True, min_df = 0.1111, max_df = 0.9999)\n",
        "  rfc_abstract = RandomForestClassifier(n_estimators = 100, criterion = \"entropy\", random_state = 32, n_jobs = -1)\n",
        "  X = tfidf_abstract.fit_transform(df_temp_train.text)\n",
        "  rfc_abstract.fit(X, df_temp_train.abstract)\n",
        "\n",
        "  param = {\"tfidf_rtrc\": tfidf_rtrc, \n",
        "          \"tfidf_abstract\": tfidf_abstract, \n",
        "          \"tfidf_rp\": tfidf_rp,\n",
        "          \"rfc_abstract\": rfc_abstract, \n",
        "          \"rfc_rtrc\": rfc_rtrc, \n",
        "          \"rfc_rp\": rfc_rp, \n",
        "          \"text\": \"\", \n",
        "          \"heading_text\": \"\"}\n",
        "          \n",
        "  y_pred = []\n",
        "  for doc in tqdm(df_temp_test.doc_name):\n",
        "    text_ = df_temp_test.loc[df_temp_test.doc_name == doc].text\n",
        "    text = text_.values[0][:]\n",
        "    text_ = df_temp_test.loc[df_temp_test.doc_name == doc].heading_text\n",
        "    heading_text = text_.values[0][:]\n",
        "    param[\"text\"] = text\n",
        "    param[\"heading_text\"] = text\n",
        "    y_pred.append(predict_nested(**param)[\"class\"])\n",
        "  print(\"\\nInference Done. Calculating statistics...\")\n",
        "  res = scorer_one_against_all(df_temp_test.doc_category, y_pred)\n",
        "  results.append(res)"
      ],
      "metadata": {
        "colab": {
          "base_uri": "https://localhost:8080/"
        },
        "id": "XB0xq8bnUV1I",
        "outputId": "197a594a-ed4a-49d5-e65d-92cfd6e3acf9"
      },
      "execution_count": null,
      "outputs": [
        {
          "output_type": "stream",
          "name": "stdout",
          "text": [
            "----------------------------------------------------------------------------------------------------\n",
            "\n",
            "Training for fold: 1\n"
          ]
        },
        {
          "output_type": "stream",
          "name": "stderr",
          "text": [
            "100%|██████████| 539/539 [02:59<00:00,  3.00it/s]\n"
          ]
        },
        {
          "output_type": "stream",
          "name": "stdout",
          "text": [
            "\n",
            "Inference Done. Calculating statistics...\n",
            "----------------------------------------------------------------------------------------------------\n",
            "\n",
            "Training for fold: 2\n"
          ]
        },
        {
          "output_type": "stream",
          "name": "stderr",
          "text": [
            "100%|██████████| 539/539 [02:57<00:00,  3.03it/s]\n"
          ]
        },
        {
          "output_type": "stream",
          "name": "stdout",
          "text": [
            "\n",
            "Inference Done. Calculating statistics...\n",
            "----------------------------------------------------------------------------------------------------\n",
            "\n",
            "Training for fold: 3\n"
          ]
        },
        {
          "output_type": "stream",
          "name": "stderr",
          "text": [
            "100%|██████████| 539/539 [02:57<00:00,  3.03it/s]\n"
          ]
        },
        {
          "output_type": "stream",
          "name": "stdout",
          "text": [
            "\n",
            "Inference Done. Calculating statistics...\n",
            "----------------------------------------------------------------------------------------------------\n",
            "\n",
            "Training for fold: 4\n"
          ]
        },
        {
          "output_type": "stream",
          "name": "stderr",
          "text": [
            "100%|██████████| 539/539 [02:56<00:00,  3.05it/s]\n"
          ]
        },
        {
          "output_type": "stream",
          "name": "stdout",
          "text": [
            "\n",
            "Inference Done. Calculating statistics...\n",
            "----------------------------------------------------------------------------------------------------\n",
            "\n",
            "Training for fold: 5\n"
          ]
        },
        {
          "output_type": "stream",
          "name": "stderr",
          "text": [
            "100%|██████████| 539/539 [02:56<00:00,  3.05it/s]"
          ]
        },
        {
          "output_type": "stream",
          "name": "stdout",
          "text": [
            "\n",
            "Inference Done. Calculating statistics...\n"
          ]
        },
        {
          "output_type": "stream",
          "name": "stderr",
          "text": [
            "\n"
          ]
        }
      ]
    },
    {
      "cell_type": "code",
      "source": [
        "pd.DataFrame(results).mean(axis = 0)"
      ],
      "metadata": {
        "colab": {
          "base_uri": "https://localhost:8080/"
        },
        "id": "NkZzfpXQVy1P",
        "outputId": "bda7da5b-7dc4-4f3b-cfe6-930b662894c1"
      },
      "execution_count": null,
      "outputs": [
        {
          "output_type": "execute_result",
          "data": {
            "text/plain": [
              "accuracy              0.667161\n",
              "rp_precision          0.708319\n",
              "rtrc_precision        0.937848\n",
              "abstract_precision    0.837613\n",
              "rp_recall             0.502187\n",
              "weighted_f1_score     0.674283\n",
              "precision_weighted    0.725192\n",
              "recall_weighted       0.667161\n",
              "dtype: float64"
            ]
          },
          "metadata": {},
          "execution_count": 420
        }
      ]
    },
    {
      "cell_type": "code",
      "source": [
        "y_pred = []\n",
        "inf = []\n",
        "vect = []\n",
        "for doc in tqdm(full_gold.doc_name):\n",
        "  text_ = full_gold.loc[full_gold.doc_name == doc].text\n",
        "  text = text_.values[0][:]\n",
        "  text_ = full_gold.loc[full_gold.doc_name == doc].heading_text\n",
        "  heading_text = text_.values[0][:]\n",
        "  param[\"text\"] = text\n",
        "  param[\"heading_text\"] = text\n",
        "  pred = predict_nested(**param)\n",
        "  y_pred.append(pred[\"class\"])\n",
        "  inf.append(pred[\"inf_time\"])\n",
        "  vect.append(pred[\"vect_time\"])"
      ],
      "metadata": {
        "colab": {
          "base_uri": "https://localhost:8080/"
        },
        "id": "8x_-5IRMUk2r",
        "outputId": "0b81877b-f77f-45d1-b430-e003a9796d97"
      },
      "execution_count": null,
      "outputs": [
        {
          "output_type": "stream",
          "name": "stderr",
          "text": [
            "100%|██████████| 85/85 [00:27<00:00,  3.07it/s]\n"
          ]
        }
      ]
    },
    {
      "cell_type": "code",
      "source": [
        "print(cr(full_gold.doc_category, y_pred))\n",
        "print(cm(full_gold.doc_category, y_pred))"
      ],
      "metadata": {
        "colab": {
          "base_uri": "https://localhost:8080/"
        },
        "id": "YHPNdmeZeWfN",
        "outputId": "8002a7f9-93ea-4208-bd6e-1bc926245e89"
      },
      "execution_count": null,
      "outputs": [
        {
          "output_type": "stream",
          "name": "stdout",
          "text": [
            "                                precision    recall  f1-score   support\n",
            "\n",
            "                      Abstract       0.94      0.83      0.88        18\n",
            "                         Other       0.77      0.79      0.78        29\n",
            "Research paper_Journal article       0.82      0.78      0.80        18\n",
            " Response to reviewer comments       0.91      1.00      0.95        20\n",
            "\n",
            "                      accuracy                           0.85        85\n",
            "                     macro avg       0.86      0.85      0.85        85\n",
            "                  weighted avg       0.85      0.85      0.85        85\n",
            "\n",
            "[[15  3  0  0]\n",
            " [ 1 23  3  2]\n",
            " [ 0  4 14  0]\n",
            " [ 0  0  0 20]]\n"
          ]
        }
      ]
    },
    {
      "cell_type": "code",
      "source": [
        "print(f'Inference time: {sum(inf)/len(inf)}')\n",
        "print(f'Vectorisation time: {sum(vect)/len(vect)}')"
      ],
      "metadata": {
        "colab": {
          "base_uri": "https://localhost:8080/"
        },
        "id": "y9K9YAo5eQ_a",
        "outputId": "c1d4d636-21a1-4abf-e94a-780094fd695a"
      },
      "execution_count": null,
      "outputs": [
        {
          "output_type": "stream",
          "name": "stdout",
          "text": [
            "Inference time: 0.2409711613374598\n",
            "Vectorisation time: 0.012030076980590821\n"
          ]
        }
      ]
    }
  ]
}