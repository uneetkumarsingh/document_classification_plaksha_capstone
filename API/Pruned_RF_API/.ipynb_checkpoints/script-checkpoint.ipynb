{
 "cells": [
  {
   "cell_type": "code",
   "execution_count": 38,
   "id": "1f4f4c8c",
   "metadata": {},
   "outputs": [],
   "source": [
    "import docx\n",
    "import re\n",
    "import pickle\n",
    "import copy\n",
    "import six\n",
    "import sys\n",
    "import numpy as np\n",
    "from time import time\n",
    "sys.modules['sklearn.externals.six'] = six\n",
    "import warnings\n",
    "warnings.filterwarnings(\"ignore\")"
   ]
  },
  {
   "cell_type": "code",
   "execution_count": 13,
   "id": "d48ab135",
   "metadata": {},
   "outputs": [],
   "source": [
    "def clean_text(text):\n",
    "    '''\n",
    "    for removing special characters, lowering the case and removing \n",
    "    punctuations\n",
    "    \n",
    "    params:\n",
    "        text: str - text string of the document to be cleaned \n",
    "    returns:\n",
    "        text_list : list of cleaned text that has length one. \n",
    "                    tfidf_vectoriser accepts only list of strings\n",
    "    '''\n",
    "    pattern = r'[^A-Za-z ]+'\n",
    "    clean_text = [re.sub(pattern,'', str(x.lower())) for x in text.split(\" \")]\n",
    "    text_list = \" \".join(clean_text)\n",
    "    #if you are sending this to the model,\n",
    "\n",
    "    return [text_list]"
   ]
  },
  {
   "cell_type": "code",
   "execution_count": 14,
   "id": "e59a136f",
   "metadata": {},
   "outputs": [],
   "source": [
    "def load_text(path):\n",
    "    '''\n",
    "    Reads text from file stored at path\n",
    "    '''\n",
    "    path = path.rstrip(\"\\n\")\n",
    "    doc_object = docx.Document(path)\n",
    "    text = \" \"\n",
    "    heading = \" \"\n",
    "    for para in doc_object.paragraphs:\n",
    "        text+=\"\"+para.text\n",
    "\n",
    "    clean_t = clean_text(text)\n",
    "    return clean_t"
   ]
  },
  {
   "cell_type": "code",
   "execution_count": 15,
   "id": "f25d1d39",
   "metadata": {},
   "outputs": [],
   "source": [
    "def load_models(model_path, vectoriser_path):\n",
    "    '''\n",
    "    params:\n",
    "        model_path: path where pickel file of the model is\n",
    "        vectoriser_path: path where pickle file of vectoriser is\n",
    "    return:\n",
    "        model: model object\n",
    "        vectoriser: vectoriser object\n",
    "    '''\n",
    "    model = pickle.load(open(model_path, 'rb'))\n",
    "    vectoriser = pickle.load(open(vectoriser_path, 'rb'))\n",
    "    print(\"+++Model and Vectoriser loaded+++\")\n",
    "    return model, vectoriser"
   ]
  },
  {
   "cell_type": "code",
   "execution_count": 39,
   "id": "fb2ec24b",
   "metadata": {},
   "outputs": [],
   "source": [
    "def predict(model, vectorizer, file_path):\n",
    "    text = load_text(docx_path)\n",
    "    t1 = time()\n",
    "    x = vectorizer.transform(text)\n",
    "    t2 = time()\n",
    "    y = model.classes_[model.predict(x).astype(int)]\n",
    "    t3 = time()\n",
    "    prob = np.max(model.predict_proba(x))\n",
    "    return {\"class\":y, \"probability\":prob, \"vectorization_time\":t2-t1, \"inference_time\":t3-t2}"
   ]
  },
  {
   "cell_type": "code",
   "execution_count": 28,
   "id": "0956e9aa",
   "metadata": {},
   "outputs": [
    {
     "name": "stdout",
     "output_type": "stream",
     "text": [
      "+++Model and Vectoriser loaded+++\n"
     ]
    }
   ],
   "source": [
    "#Loading model, vectoriser\n",
    "model_path = \"estimator_v3_pruned.sav\"\n",
    "vectoriser_path = \"tfidf_v3_min_max_df.sav\"\n",
    "\n",
    "#dummy docx_path\n",
    "docx_path = \"../new_gold_annotated/ASAA_36.docx\"\n",
    "model, vectorizer = load_models(model_path, vectoriser_path)"
   ]
  },
  {
   "cell_type": "code",
   "execution_count": 29,
   "id": "10226481",
   "metadata": {},
   "outputs": [],
   "source": [
    "param = {\n",
    "    \"model\": model,\n",
    "    \"vectorizer\": vectorizer,\n",
    "    \"file_path\": docx_path\n",
    "}"
   ]
  },
  {
   "cell_type": "code",
   "execution_count": 40,
   "id": "56d60071",
   "metadata": {},
   "outputs": [
    {
     "data": {
      "text/plain": [
       "{'class': array(['Abstract'], dtype=object),\n",
       " 'probability': 0.5957446808510638,\n",
       " 'vectorization_time': 0.0017256736755371094,\n",
       " 'inference_time': 0.02181077003479004}"
      ]
     },
     "execution_count": 40,
     "metadata": {},
     "output_type": "execute_result"
    }
   ],
   "source": [
    "predict(**param)"
   ]
  },
  {
   "cell_type": "code",
   "execution_count": null,
   "id": "f3468cf2",
   "metadata": {},
   "outputs": [],
   "source": []
  }
 ],
 "metadata": {
  "kernelspec": {
   "display_name": "capstone",
   "language": "python",
   "name": "env"
  },
  "language_info": {
   "codemirror_mode": {
    "name": "ipython",
    "version": 3
   },
   "file_extension": ".py",
   "mimetype": "text/x-python",
   "name": "python",
   "nbconvert_exporter": "python",
   "pygments_lexer": "ipython3",
   "version": "3.8.10"
  }
 },
 "nbformat": 4,
 "nbformat_minor": 5
}
